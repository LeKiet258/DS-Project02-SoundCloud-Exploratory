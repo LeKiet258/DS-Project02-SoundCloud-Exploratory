{
 "cells": [
  {
   "cell_type": "markdown",
   "metadata": {},
   "source": [
    "# THƯ VIỆN CẦN THIẾT"
   ]
  },
  {
   "cell_type": "code",
   "execution_count": 355,
   "metadata": {},
   "outputs": [],
   "source": [
    "import pandas as pd\n",
    "import numpy as np\n",
    "import matplotlib.pyplot as plt\n",
    "import re\n",
    "import seaborn as sns"
   ]
  },
  {
   "cell_type": "markdown",
   "metadata": {},
   "source": [
    "# PHÂN TÍCH DỮ LIỆU\n",
    "- [INSERT MÔ TẢ SƠ BỘ VỀ 3 FILE/CÁC CÂU HỎI/CÁC BƯỚC LÀM]"
   ]
  },
  {
   "cell_type": "markdown",
   "metadata": {},
   "source": [
    "## I. TIỀN XỬ LÝ DỮ LIỆU\n",
    "### Dữ liệu có bao nhiêu dòng, bao nhiêu cột?"
   ]
  },
  {
   "cell_type": "code",
   "execution_count": 356,
   "metadata": {},
   "outputs": [
    {
     "data": {
      "text/plain": [
       "((3383, 6), (46544, 11), (22161, 7))"
      ]
     },
     "execution_count": 356,
     "metadata": {},
     "output_type": "execute_result"
    }
   ],
   "source": [
    "df_playlist = pd.read_csv(\"data/playlist.csv\")\n",
    "df_track    = pd.read_csv(\"data/track.csv\")\n",
    "df_user     = pd.read_csv(\"data/user.csv\")\n",
    "\n",
    "df_playlist.shape, df_track.shape, df_user.shape"
   ]
  },
  {
   "cell_type": "markdown",
   "metadata": {},
   "source": [
    "### Các file dữ liệu có các dòng nào bị trùng lắp hoàn toàn không?\n",
    "- Thấy rằng từ output, không có dòng nào bị trùng lắp hoàn toàn trong từng file dữ liệu"
   ]
  },
  {
   "cell_type": "code",
   "execution_count": 357,
   "metadata": {},
   "outputs": [
    {
     "data": {
      "text/plain": [
       "(0, 0, 0)"
      ]
     },
     "execution_count": 357,
     "metadata": {},
     "output_type": "execute_result"
    }
   ],
   "source": [
    "df_playlist.duplicated().sum(), df_track.duplicated().sum(), df_user.duplicated().sum()"
   ]
  },
  {
   "cell_type": "markdown",
   "metadata": {},
   "source": [
    "### Mỗi cột thuộc kiểu dữ liệu nào? Có cột nào bị thiếu dữ liệu không?\n",
    "- Với mỗi file, kết hợp 2 công việc này vào 1 dataframe. Dataframe này gồm các cột chính là các cột thuộc tính trong lần lượt 3 file x 2 hàng có tên: \n",
    "    - `DataType` - thể hiện kiểu dữ liệu của các thuộc tính trong file\n",
    "    - `NaN counts` - đếm số lượng dữ liệu thiếu tại mỗi cột  \n",
    "- Theo đồ án 1, ý nghĩa của mỗi thuộc tính trong mỗi file như sau:\n",
    "    - `playlist.csv`:\n",
    "        - `id`: mã của playlist đó, mã này dùng để phân biệt với các playlist khác, mỗi playlist sẽ có một mã số `id` duy nhất.\n",
    "        - `name`: là tên của playlist đó (trong trường hợp playlist đó không có tên thì ta gán `name` là `null`).\n",
    "        - `genre`: là thể loại của playlist đó (trong trường hợp playlist đó chưa được đặt thể loại thì ta gán `genre` là `null`).\n",
    "        - `likes_count`: tổng số lượt likes của playlist\n",
    "        - `track_ids`: là chuỗi gồm danh sách các track có track_id nằm trong playlist đó.\n",
    "    - `track.csv`:\n",
    "        - `id`: id của track. Lưu ý 1 track có thể nằm trong nhiều playlist\n",
    "        - `name`: tên track\n",
    "        - `genre`: thể loại track\n",
    "        - `playlist_id`: playlist_id mà track có mã là `id` thuộc về\n",
    "        - `author_id`: mỗi track có 1 user có mã đại diện là `author_id` phụ trách\n",
    "        - `likes_count`: tổng số lượt likes của track\n",
    "        - `playback_count`: tổng số lượt replay của track\n",
    "        - `download_count`: tổng số lượt tải về track đó\n",
    "        - `created_date`: ngày track đó được tạo\n",
    "    - `user.csv`:\n",
    "        - `id`: mã người dùng, là duy nhất. Lưu ý 1 người dùng có thể phụ trách 1 hoặc nhiều track\n",
    "        - `full_name`: họ và tên user\n",
    "        - `username`: tên tài khoản user\n",
    "        - `track_id`: track mà user \n",
    "        - `followers_count`: số lượng người theo dõi user đó"
   ]
  },
  {
   "cell_type": "code",
   "execution_count": 358,
   "metadata": {},
   "outputs": [
    {
     "data": {
      "text/html": [
       "<div>\n",
       "<style scoped>\n",
       "    .dataframe tbody tr th:only-of-type {\n",
       "        vertical-align: middle;\n",
       "    }\n",
       "\n",
       "    .dataframe tbody tr th {\n",
       "        vertical-align: top;\n",
       "    }\n",
       "\n",
       "    .dataframe thead th {\n",
       "        text-align: right;\n",
       "    }\n",
       "</style>\n",
       "<table border=\"1\" class=\"dataframe\">\n",
       "  <thead>\n",
       "    <tr style=\"text-align: right;\">\n",
       "      <th></th>\n",
       "      <th>playlist_id</th>\n",
       "      <th>playlist_name</th>\n",
       "      <th>genre</th>\n",
       "      <th>likes_count</th>\n",
       "      <th>reposts_count</th>\n",
       "      <th>track_ids</th>\n",
       "    </tr>\n",
       "  </thead>\n",
       "  <tbody>\n",
       "    <tr>\n",
       "      <th>type</th>\n",
       "      <td>int64</td>\n",
       "      <td>object</td>\n",
       "      <td>object</td>\n",
       "      <td>int64</td>\n",
       "      <td>int64</td>\n",
       "      <td>object</td>\n",
       "    </tr>\n",
       "    <tr>\n",
       "      <th>missing percentage</th>\n",
       "      <td>0.0</td>\n",
       "      <td>0.0</td>\n",
       "      <td>80.14</td>\n",
       "      <td>0.0</td>\n",
       "      <td>0.0</td>\n",
       "      <td>1.09</td>\n",
       "    </tr>\n",
       "  </tbody>\n",
       "</table>\n",
       "</div>"
      ],
      "text/plain": [
       "                   playlist_id playlist_name   genre likes_count  \\\n",
       "type                     int64        object  object       int64   \n",
       "missing percentage         0.0           0.0   80.14         0.0   \n",
       "\n",
       "                   reposts_count track_ids  \n",
       "type                       int64    object  \n",
       "missing percentage           0.0      1.09  "
      ]
     },
     "execution_count": 358,
     "metadata": {},
     "output_type": "execute_result"
    }
   ],
   "source": [
    "pd.DataFrame([df_playlist.dtypes, (df_playlist.isna().sum()/df_playlist.shape[0]*100).round(2)], index= ['type', 'missing percentage'])"
   ]
  },
  {
   "cell_type": "code",
   "execution_count": 359,
   "metadata": {},
   "outputs": [
    {
     "data": {
      "text/html": [
       "<div>\n",
       "<style scoped>\n",
       "    .dataframe tbody tr th:only-of-type {\n",
       "        vertical-align: middle;\n",
       "    }\n",
       "\n",
       "    .dataframe tbody tr th {\n",
       "        vertical-align: top;\n",
       "    }\n",
       "\n",
       "    .dataframe thead th {\n",
       "        text-align: right;\n",
       "    }\n",
       "</style>\n",
       "<table border=\"1\" class=\"dataframe\">\n",
       "  <thead>\n",
       "    <tr style=\"text-align: right;\">\n",
       "      <th></th>\n",
       "      <th>track_id</th>\n",
       "      <th>track_name</th>\n",
       "      <th>track_genre</th>\n",
       "      <th>playlist_id</th>\n",
       "      <th>author_id</th>\n",
       "      <th>likes_count</th>\n",
       "      <th>playback_count</th>\n",
       "      <th>download_count</th>\n",
       "      <th>reposts_count</th>\n",
       "      <th>comment_count</th>\n",
       "      <th>created_date</th>\n",
       "    </tr>\n",
       "  </thead>\n",
       "  <tbody>\n",
       "    <tr>\n",
       "      <th>type</th>\n",
       "      <td>int64</td>\n",
       "      <td>object</td>\n",
       "      <td>object</td>\n",
       "      <td>int64</td>\n",
       "      <td>int64</td>\n",
       "      <td>float64</td>\n",
       "      <td>float64</td>\n",
       "      <td>float64</td>\n",
       "      <td>int64</td>\n",
       "      <td>float64</td>\n",
       "      <td>object</td>\n",
       "    </tr>\n",
       "    <tr>\n",
       "      <th>missing percentage</th>\n",
       "      <td>0.0</td>\n",
       "      <td>0.0</td>\n",
       "      <td>14.41</td>\n",
       "      <td>0.0</td>\n",
       "      <td>0.0</td>\n",
       "      <td>1.84</td>\n",
       "      <td>1.84</td>\n",
       "      <td>1.84</td>\n",
       "      <td>0.0</td>\n",
       "      <td>2.11</td>\n",
       "      <td>0.0</td>\n",
       "    </tr>\n",
       "  </tbody>\n",
       "</table>\n",
       "</div>"
      ],
      "text/plain": [
       "                   track_id track_name track_genre playlist_id author_id  \\\n",
       "type                  int64     object      object       int64     int64   \n",
       "missing percentage      0.0        0.0       14.41         0.0       0.0   \n",
       "\n",
       "                   likes_count playback_count download_count reposts_count  \\\n",
       "type                   float64        float64        float64         int64   \n",
       "missing percentage        1.84           1.84           1.84           0.0   \n",
       "\n",
       "                   comment_count created_date  \n",
       "type                     float64       object  \n",
       "missing percentage          2.11          0.0  "
      ]
     },
     "execution_count": 359,
     "metadata": {},
     "output_type": "execute_result"
    }
   ],
   "source": [
    "pd.DataFrame([df_track.dtypes, (df_track.isna().sum()/df_track.shape[0]*100).round(2)], index= ['type', 'missing percentage'])"
   ]
  },
  {
   "cell_type": "code",
   "execution_count": 360,
   "metadata": {},
   "outputs": [
    {
     "data": {
      "text/html": [
       "<div>\n",
       "<style scoped>\n",
       "    .dataframe tbody tr th:only-of-type {\n",
       "        vertical-align: middle;\n",
       "    }\n",
       "\n",
       "    .dataframe tbody tr th {\n",
       "        vertical-align: top;\n",
       "    }\n",
       "\n",
       "    .dataframe thead th {\n",
       "        text-align: right;\n",
       "    }\n",
       "</style>\n",
       "<table border=\"1\" class=\"dataframe\">\n",
       "  <thead>\n",
       "    <tr style=\"text-align: right;\">\n",
       "      <th></th>\n",
       "      <th>user_id</th>\n",
       "      <th>full_name</th>\n",
       "      <th>username</th>\n",
       "      <th>followers_count</th>\n",
       "      <th>track_count</th>\n",
       "      <th>country_code</th>\n",
       "      <th>verified</th>\n",
       "    </tr>\n",
       "  </thead>\n",
       "  <tbody>\n",
       "    <tr>\n",
       "      <th>type</th>\n",
       "      <td>int64</td>\n",
       "      <td>object</td>\n",
       "      <td>object</td>\n",
       "      <td>int64</td>\n",
       "      <td>int64</td>\n",
       "      <td>object</td>\n",
       "      <td>bool</td>\n",
       "    </tr>\n",
       "    <tr>\n",
       "      <th>missing percentage</th>\n",
       "      <td>0.0</td>\n",
       "      <td>38.55</td>\n",
       "      <td>0.0</td>\n",
       "      <td>0.0</td>\n",
       "      <td>0.0</td>\n",
       "      <td>41.69</td>\n",
       "      <td>0.0</td>\n",
       "    </tr>\n",
       "  </tbody>\n",
       "</table>\n",
       "</div>"
      ],
      "text/plain": [
       "                   user_id full_name username followers_count track_count  \\\n",
       "type                 int64    object   object           int64       int64   \n",
       "missing percentage     0.0     38.55      0.0             0.0         0.0   \n",
       "\n",
       "                   country_code verified  \n",
       "type                     object     bool  \n",
       "missing percentage        41.69      0.0  "
      ]
     },
     "execution_count": 360,
     "metadata": {},
     "output_type": "execute_result"
    }
   ],
   "source": [
    "pd.DataFrame([df_user.dtypes, (df_user.isna().sum()/df_user.shape[0]*100).round(2)], index= ['type', 'missing percentage'])"
   ]
  },
  {
   "cell_type": "markdown",
   "metadata": {},
   "source": [
    "### Xử lý dòng bị thiếu dữ liệu "
   ]
  },
  {
   "cell_type": "markdown",
   "metadata": {},
   "source": [
    "### a) Loại dòng thiếu dữ liệu"
   ]
  },
  {
   "cell_type": "markdown",
   "metadata": {},
   "source": [
    "-  File `playlist.csv`: từ mô tả thuộc tính và kiểu dữ liệu của `track_ids`, thì cần loại đi các playlist không có track nào (tức thuộc tính `track_ids` bị thiếu). Ngoài ra, cũng có 2706 dòng bị thiếu thuộc tính `genre` nhưng qua quan sát sơ bộ file `playlist.csv`, hầu hết tên các playlist (`playlist_name`) sẽ được đặt theo tên thể loại nhạc nên ta sẽ không xóa các dòng thiếu thuộc tính `genre`"
   ]
  },
  {
   "cell_type": "code",
   "execution_count": 361,
   "metadata": {},
   "outputs": [
    {
     "data": {
      "text/plain": [
       "(3346, 6)"
      ]
     },
     "execution_count": 361,
     "metadata": {},
     "output_type": "execute_result"
    }
   ],
   "source": [
    "df_playlist = df_playlist.dropna(subset=['track_ids'])\n",
    "df_playlist.shape"
   ]
  },
  {
   "cell_type": "markdown",
   "metadata": {},
   "source": [
    "- File `track.csv`: tương tự với cách giải thích của `playlist.csv`, ta sẽ không xóa các dòng thiếu thuộc tính `track_genre`. Tuy nhiên sẽ xóa các dòng thiếu thuộc tính likes_count, playback_count, download_count vì đây là các thuộc tính numeric quan trọng cho bước khám phá dữ liệu sau này"
   ]
  },
  {
   "cell_type": "code",
   "execution_count": 362,
   "metadata": {},
   "outputs": [
    {
     "data": {
      "text/plain": [
       "(39060, 11)"
      ]
     },
     "execution_count": 362,
     "metadata": {},
     "output_type": "execute_result"
    }
   ],
   "source": [
    "df_track = df_track.dropna(subset= ['track_genre', 'likes_count', 'playback_count', 'download_count', 'comment_count'])\n",
    "df_track.shape"
   ]
  },
  {
   "cell_type": "markdown",
   "metadata": {},
   "source": [
    "- File `user.csv`: không xóa dòng nào vì tuy các user có thể không có tên `full_name` nhưng ta vẫn có thể thao tác với dataframe df_user dựa vào định danh của user đó (tức `user_id`) "
   ]
  },
  {
   "cell_type": "markdown",
   "metadata": {},
   "source": [
    "### b) Thay thế giá trị trùng thành 1 giá trị khác"
   ]
  },
  {
   "cell_type": "markdown",
   "metadata": {},
   "source": [
    "- Trong file `playlist.csv`, do cột genre bị thiếu khá nhiều (2706/3372) nên ta không loại các dòng thiếu genre được vì sẽ không đủ dữ liệu. Ngoài ra, có 2 vấn đề phát sinh \n",
    "    - _Vấn đề 1_: cột `genre` bị thiếu khá nhiều (2706/3372) nên ta không loại các dòng thiếu `genre` được vì sẽ không đủ dữ liệu để phân tích sau này \n",
    "    <br>=> Giải pháp: nội suy từ cột `playlist_name`. Từ quan sát file, thấy rằng hầu hết tên playlist có xu hướng thể hiện luôn thể loại của playlist đó. VD: `playlist_name` = *\"Hip Hop Supreme\"* thì có thể nội suy được thể loại là **hiphop**\n",
    "    - _Vấn đề 2_: từ vấn đề 1, thấy rằng ở các playlist thiếu thuộc tính `genre` có thể mang nhiều thể loại. VD: `playlist_name` = *\"| Chill | Lofi | Hip Hop |\"* thì playlist đó có tới 3 thể loại: **[chill, lofi, hiphop]**. Ngoài ra, kể cả khi playlist có thuộc tính `genre` (VD: `genre` = *\"LoFi hip hop\"*) thì thấy rằng playlist vẫn có thể mang thuộc về nhiều thể loại\n",
    "    <br>=> Giải pháp: ta cần phân rã (pd.explode()) cột `genre` phòng trường hợp 1 playlist thuộc nhiều thể loại\n",
    "    - _Vấn đề 3_: giả sử giải quyết được 2 vấn đề trên thì thấy rằng tên thể loại vẫn chưa đồng nhất (VD: `genre` = *\"Blue's_Music\"* và `genre` = *\"blues\"*)\n",
    "    <br>=> Giải pháp: cần 1 file `keywords.txt` để lưu cứng tên của các thể loại nhạc sẽ xuất hiện trong chuỗi string `genre` (file này được lấy từ project 1 và được tinh chỉnh lại để phù hợp). Ta sẽ chuẩn hóa thể loại dựa vào file này: xét chuỗi thể loại (VD: `genre` = *\"Hip-hop & Rap\"*), nếu chuỗi thể loại này chứa bất kỳ chuỗi con trong `keywords.txt` (VD: *\"hiphop\"* và *\"rap\"*) thì thể loại sẽ được thay bằng (tập) chuỗi con ấy (VD: `genre` sau khi chuẩn hóa = *[\"hiphop\", \"rap\"]*)\n",
    "- Kết hợp cả 3 giải pháp trên, ta được cách xử lý sau: \n",
    "    - Cộng 2 cột 'playlist_name' & 'genre', nếu 'genre' là NaN thì coi như chuỗi rỗng, kết quả cộng chuỗi lưu vào `df_playlist['genre']`\n",
    "    - Chuẩn hóa `name_genre` theo giải pháp 3, kết quả sau khi chuẩn hóa là 1 list, lưu lại vào `name_genre`. Sau khi chuẩn hóa có thể vẫn tồn tại NaN nhưng ít hơn (NaN tồn tại là vì cột `playlist_name` không chứa thể loại nhạc nào nên không nội suy được + cột `genre` bị rỗng). Tiến hành bỏ đi các dòng chứa NaN này\n"
   ]
  },
  {
   "cell_type": "code",
   "execution_count": 363,
   "metadata": {},
   "outputs": [],
   "source": [
    "with open('data/keywords.txt', encoding= 'utf-8') as f:\n",
    "    keywords = f.readlines()\n",
    "keywords = [item.strip('\\n').strip(' ') for item in keywords]"
   ]
  },
  {
   "cell_type": "code",
   "execution_count": 364,
   "metadata": {},
   "outputs": [
    {
     "data": {
      "text/plain": [
       "0          Best Rap Right Now: Drippin'Hip-hop & Rap\n",
       "1                                    Hip Hop Supreme\n",
       "2                   Lowfi hip hop chillsLofi Hip Hop\n",
       "3       Hip-Hop Party Starters: Turn UpHip-hop & Rap\n",
       "4                    Study & Chill | Lofi HiphopLofi\n",
       "                            ...                     \n",
       "3378                                 SOUTH EAST ASIA\n",
       "3379                 South East Asia Travel Findings\n",
       "3380                                 South East Asia\n",
       "3381                           South East Asia music\n",
       "3382                                 South East Asia\n",
       "Length: 3346, dtype: object"
      ]
     },
     "execution_count": 364,
     "metadata": {},
     "output_type": "execute_result"
    }
   ],
   "source": [
    "# namegenre = playlist_name + playlist_genre\n",
    "name_genre = df_playlist.apply(lambda row: row['playlist_name'] if pd.isna(row['genre']) else row['playlist_name'] + row['genre'], axis = 1)\n",
    "name_genre"
   ]
  },
  {
   "cell_type": "code",
   "execution_count": 365,
   "metadata": {},
   "outputs": [
    {
     "name": "stdout",
     "output_type": "stream",
     "text": [
      "Số lượng NaN từng cột:\n",
      "playlist_id        0\n",
      "playlist_name      0\n",
      "genre            513\n",
      "likes_count        0\n",
      "reposts_count      0\n",
      "track_ids          0\n",
      "dtype: int64\n",
      "Sau khi bỏ 513 giá trị NaN cột genre:\n"
     ]
    },
    {
     "data": {
      "text/html": [
       "<div>\n",
       "<style scoped>\n",
       "    .dataframe tbody tr th:only-of-type {\n",
       "        vertical-align: middle;\n",
       "    }\n",
       "\n",
       "    .dataframe tbody tr th {\n",
       "        vertical-align: top;\n",
       "    }\n",
       "\n",
       "    .dataframe thead th {\n",
       "        text-align: right;\n",
       "    }\n",
       "</style>\n",
       "<table border=\"1\" class=\"dataframe\">\n",
       "  <thead>\n",
       "    <tr style=\"text-align: right;\">\n",
       "      <th></th>\n",
       "      <th>playlist_id</th>\n",
       "      <th>playlist_name</th>\n",
       "      <th>genre</th>\n",
       "      <th>likes_count</th>\n",
       "      <th>reposts_count</th>\n",
       "      <th>track_ids</th>\n",
       "    </tr>\n",
       "  </thead>\n",
       "  <tbody>\n",
       "    <tr>\n",
       "      <th>0</th>\n",
       "      <td>730118454</td>\n",
       "      <td>Best Rap Right Now: Drippin'</td>\n",
       "      <td>hiphop</td>\n",
       "      <td>389303</td>\n",
       "      <td>21591</td>\n",
       "      <td>1157194048,1134572425,1126802848,1163320396,11...</td>\n",
       "    </tr>\n",
       "    <tr>\n",
       "      <th>0</th>\n",
       "      <td>730118454</td>\n",
       "      <td>Best Rap Right Now: Drippin'</td>\n",
       "      <td>rap</td>\n",
       "      <td>389303</td>\n",
       "      <td>21591</td>\n",
       "      <td>1157194048,1134572425,1126802848,1163320396,11...</td>\n",
       "    </tr>\n",
       "    <tr>\n",
       "      <th>1</th>\n",
       "      <td>380154338</td>\n",
       "      <td>Hip Hop Supreme</td>\n",
       "      <td>hiphop</td>\n",
       "      <td>178876</td>\n",
       "      <td>9795</td>\n",
       "      <td>594112890,596212962,593601912,597082389,597563...</td>\n",
       "    </tr>\n",
       "    <tr>\n",
       "      <th>2</th>\n",
       "      <td>306226961</td>\n",
       "      <td>Lowfi hip hop chills</td>\n",
       "      <td>hiphop</td>\n",
       "      <td>203954</td>\n",
       "      <td>20707</td>\n",
       "      <td>216774635,406234053,755194606,266707458,670884...</td>\n",
       "    </tr>\n",
       "    <tr>\n",
       "      <th>2</th>\n",
       "      <td>306226961</td>\n",
       "      <td>Lowfi hip hop chills</td>\n",
       "      <td>chill</td>\n",
       "      <td>203954</td>\n",
       "      <td>20707</td>\n",
       "      <td>216774635,406234053,755194606,266707458,670884...</td>\n",
       "    </tr>\n",
       "    <tr>\n",
       "      <th>...</th>\n",
       "      <td>...</td>\n",
       "      <td>...</td>\n",
       "      <td>...</td>\n",
       "      <td>...</td>\n",
       "      <td>...</td>\n",
       "      <td>...</td>\n",
       "    </tr>\n",
       "    <tr>\n",
       "      <th>3378</th>\n",
       "      <td>503370612</td>\n",
       "      <td>SOUTH EAST ASIA</td>\n",
       "      <td>asia</td>\n",
       "      <td>1</td>\n",
       "      <td>0</td>\n",
       "      <td>298786858,813312181</td>\n",
       "    </tr>\n",
       "    <tr>\n",
       "      <th>3379</th>\n",
       "      <td>17969127</td>\n",
       "      <td>South East Asia Travel Findings</td>\n",
       "      <td>asia</td>\n",
       "      <td>0</td>\n",
       "      <td>0</td>\n",
       "      <td>10764237</td>\n",
       "    </tr>\n",
       "    <tr>\n",
       "      <th>3380</th>\n",
       "      <td>345496216</td>\n",
       "      <td>South East Asia</td>\n",
       "      <td>asia</td>\n",
       "      <td>0</td>\n",
       "      <td>0</td>\n",
       "      <td>315565008</td>\n",
       "    </tr>\n",
       "    <tr>\n",
       "      <th>3381</th>\n",
       "      <td>774255861</td>\n",
       "      <td>South East Asia music</td>\n",
       "      <td>asia</td>\n",
       "      <td>0</td>\n",
       "      <td>0</td>\n",
       "      <td>485316636</td>\n",
       "    </tr>\n",
       "    <tr>\n",
       "      <th>3382</th>\n",
       "      <td>355570337</td>\n",
       "      <td>South East Asia</td>\n",
       "      <td>asia</td>\n",
       "      <td>0</td>\n",
       "      <td>0</td>\n",
       "      <td>315565008</td>\n",
       "    </tr>\n",
       "  </tbody>\n",
       "</table>\n",
       "<p>4199 rows × 6 columns</p>\n",
       "</div>"
      ],
      "text/plain": [
       "      playlist_id                    playlist_name   genre  likes_count  \\\n",
       "0       730118454     Best Rap Right Now: Drippin'  hiphop       389303   \n",
       "0       730118454     Best Rap Right Now: Drippin'     rap       389303   \n",
       "1       380154338                  Hip Hop Supreme  hiphop       178876   \n",
       "2       306226961             Lowfi hip hop chills  hiphop       203954   \n",
       "2       306226961             Lowfi hip hop chills   chill       203954   \n",
       "...           ...                              ...     ...          ...   \n",
       "3378    503370612                  SOUTH EAST ASIA    asia            1   \n",
       "3379     17969127  South East Asia Travel Findings    asia            0   \n",
       "3380    345496216                  South East Asia    asia            0   \n",
       "3381    774255861            South East Asia music    asia            0   \n",
       "3382    355570337                  South East Asia    asia            0   \n",
       "\n",
       "      reposts_count                                          track_ids  \n",
       "0             21591  1157194048,1134572425,1126802848,1163320396,11...  \n",
       "0             21591  1157194048,1134572425,1126802848,1163320396,11...  \n",
       "1              9795  594112890,596212962,593601912,597082389,597563...  \n",
       "2             20707  216774635,406234053,755194606,266707458,670884...  \n",
       "2             20707  216774635,406234053,755194606,266707458,670884...  \n",
       "...             ...                                                ...  \n",
       "3378              0                                298786858,813312181  \n",
       "3379              0                                           10764237  \n",
       "3380              0                                          315565008  \n",
       "3381              0                                          485316636  \n",
       "3382              0                                          315565008  \n",
       "\n",
       "[4199 rows x 6 columns]"
      ]
     },
     "execution_count": 365,
     "metadata": {},
     "output_type": "execute_result"
    }
   ],
   "source": [
    "def list_genres(genre_str, keywords=keywords):\n",
    "    res = []\n",
    "\n",
    "    for keyword in keywords:\n",
    "        if keyword in genre_str:\n",
    "            res.append(keyword)\n",
    "\n",
    "    return res\n",
    "\n",
    "df_playlist['genre'] = name_genre.apply(lambda val: list_genres(re.sub(r'(hip-hop|hip hop)', 'hiphop', val.lower())))\n",
    "print(\"Số lượng NaN từng cột:\")\n",
    "print(df_playlist.explode('genre').isna().sum())\n",
    "print(\"Sau khi bỏ 513 giá trị NaN cột genre:\")\n",
    "df_playlist = df_playlist.explode('genre').dropna()\n",
    "\n",
    "df_playlist"
   ]
  },
  {
   "cell_type": "markdown",
   "metadata": {},
   "source": [
    "- Trong file `track.csv`, ta cũng đổi thể loại nhạc về thể loại nhạc được định nghĩa trong file keywords.txt "
   ]
  },
  {
   "cell_type": "code",
   "execution_count": 366,
   "metadata": {},
   "outputs": [
    {
     "data": {
      "text/html": [
       "<div>\n",
       "<style scoped>\n",
       "    .dataframe tbody tr th:only-of-type {\n",
       "        vertical-align: middle;\n",
       "    }\n",
       "\n",
       "    .dataframe tbody tr th {\n",
       "        vertical-align: top;\n",
       "    }\n",
       "\n",
       "    .dataframe thead th {\n",
       "        text-align: right;\n",
       "    }\n",
       "</style>\n",
       "<table border=\"1\" class=\"dataframe\">\n",
       "  <thead>\n",
       "    <tr style=\"text-align: right;\">\n",
       "      <th></th>\n",
       "      <th>track_id</th>\n",
       "      <th>track_name</th>\n",
       "      <th>track_genre</th>\n",
       "      <th>playlist_id</th>\n",
       "      <th>author_id</th>\n",
       "      <th>likes_count</th>\n",
       "      <th>playback_count</th>\n",
       "      <th>download_count</th>\n",
       "      <th>reposts_count</th>\n",
       "      <th>comment_count</th>\n",
       "      <th>created_date</th>\n",
       "    </tr>\n",
       "  </thead>\n",
       "  <tbody>\n",
       "    <tr>\n",
       "      <th>0</th>\n",
       "      <td>1157194048</td>\n",
       "      <td>Polo G - Bad Man (Smooth Criminal)</td>\n",
       "      <td>hiphop</td>\n",
       "      <td>730118454</td>\n",
       "      <td>454955073</td>\n",
       "      <td>104933.0</td>\n",
       "      <td>3656798.0</td>\n",
       "      <td>0.0</td>\n",
       "      <td>1484</td>\n",
       "      <td>2949.0</td>\n",
       "      <td>2021-11-10T00:16:07Z</td>\n",
       "    </tr>\n",
       "    <tr>\n",
       "      <th>1</th>\n",
       "      <td>1134572425</td>\n",
       "      <td>Who Want Smoke?? (feat. G Herbo, Lil Durk &amp; 21...</td>\n",
       "      <td>hiphop</td>\n",
       "      <td>730118454</td>\n",
       "      <td>811818505</td>\n",
       "      <td>229321.0</td>\n",
       "      <td>11713134.0</td>\n",
       "      <td>0.0</td>\n",
       "      <td>2994</td>\n",
       "      <td>7358.0</td>\n",
       "      <td>2021-10-01T21:15:32Z</td>\n",
       "    </tr>\n",
       "    <tr>\n",
       "      <th>2</th>\n",
       "      <td>1126802848</td>\n",
       "      <td>Rocc Climbing (feat. Lil Yachty)</td>\n",
       "      <td>hiphop</td>\n",
       "      <td>730118454</td>\n",
       "      <td>277094000</td>\n",
       "      <td>191418.0</td>\n",
       "      <td>8635832.0</td>\n",
       "      <td>0.0</td>\n",
       "      <td>9338</td>\n",
       "      <td>3428.0</td>\n",
       "      <td>2021-09-18T08:16:48Z</td>\n",
       "    </tr>\n",
       "    <tr>\n",
       "      <th>2</th>\n",
       "      <td>1126802848</td>\n",
       "      <td>Rocc Climbing (feat. Lil Yachty)</td>\n",
       "      <td>rap</td>\n",
       "      <td>730118454</td>\n",
       "      <td>277094000</td>\n",
       "      <td>191418.0</td>\n",
       "      <td>8635832.0</td>\n",
       "      <td>0.0</td>\n",
       "      <td>9338</td>\n",
       "      <td>3428.0</td>\n",
       "      <td>2021-09-18T08:16:48Z</td>\n",
       "    </tr>\n",
       "    <tr>\n",
       "      <th>3</th>\n",
       "      <td>1163320396</td>\n",
       "      <td>By Your Side</td>\n",
       "      <td>rap</td>\n",
       "      <td>730118454</td>\n",
       "      <td>29550459</td>\n",
       "      <td>84417.0</td>\n",
       "      <td>2861345.0</td>\n",
       "      <td>0.0</td>\n",
       "      <td>952</td>\n",
       "      <td>1064.0</td>\n",
       "      <td>2021-11-19T21:15:58Z</td>\n",
       "    </tr>\n",
       "  </tbody>\n",
       "</table>\n",
       "</div>"
      ],
      "text/plain": [
       "     track_id                                         track_name track_genre  \\\n",
       "0  1157194048                 Polo G - Bad Man (Smooth Criminal)      hiphop   \n",
       "1  1134572425  Who Want Smoke?? (feat. G Herbo, Lil Durk & 21...      hiphop   \n",
       "2  1126802848                   Rocc Climbing (feat. Lil Yachty)      hiphop   \n",
       "2  1126802848                   Rocc Climbing (feat. Lil Yachty)         rap   \n",
       "3  1163320396                                       By Your Side         rap   \n",
       "\n",
       "   playlist_id  author_id  likes_count  playback_count  download_count  \\\n",
       "0    730118454  454955073     104933.0       3656798.0             0.0   \n",
       "1    730118454  811818505     229321.0      11713134.0             0.0   \n",
       "2    730118454  277094000     191418.0       8635832.0             0.0   \n",
       "2    730118454  277094000     191418.0       8635832.0             0.0   \n",
       "3    730118454   29550459      84417.0       2861345.0             0.0   \n",
       "\n",
       "   reposts_count  comment_count          created_date  \n",
       "0           1484         2949.0  2021-11-10T00:16:07Z  \n",
       "1           2994         7358.0  2021-10-01T21:15:32Z  \n",
       "2           9338         3428.0  2021-09-18T08:16:48Z  \n",
       "2           9338         3428.0  2021-09-18T08:16:48Z  \n",
       "3            952         1064.0  2021-11-19T21:15:58Z  "
      ]
     },
     "execution_count": 366,
     "metadata": {},
     "output_type": "execute_result"
    }
   ],
   "source": [
    "# redefine function\n",
    "def list_genres(genre_str, keywords=keywords):\n",
    "    res = []\n",
    "\n",
    "    for keyword in keywords:\n",
    "        if keyword in genre_str:\n",
    "            res.append(keyword)\n",
    "    # if not res:\n",
    "    #     res = genre_str.split('&')\n",
    "    return res\n",
    "\n",
    "df_track['track_genre'] = df_track['track_genre'].apply(lambda val: list_genres(re.sub(r'[\\-\\.\\/ ]', '', val.lower())))\n",
    "df_track = df_track.explode('track_genre')\n",
    "df_track = df_track.drop(df_track[df_track['track_genre'] == ''].index)\n",
    "df_track.head()"
   ]
  },
  {
   "cell_type": "code",
   "execution_count": 367,
   "metadata": {},
   "outputs": [
    {
     "data": {
      "text/plain": [
       "0            hiphop\n",
       "1            hiphop\n",
       "2            hiphop\n",
       "2               rap\n",
       "3               rap\n",
       "            ...    \n",
       "46529        reggae\n",
       "46530         house\n",
       "46534        hiphop\n",
       "46534           rap\n",
       "46538    soundtrack\n",
       "Name: track_genre, Length: 31812, dtype: object"
      ]
     },
     "execution_count": 367,
     "metadata": {},
     "output_type": "execute_result"
    }
   ],
   "source": [
    "a = df_track['track_genre'].dropna()\n",
    "a"
   ]
  },
  {
   "cell_type": "markdown",
   "metadata": {},
   "source": [
    "### Chuyển đổi kiểu dữ liệu cho phù hợp\n"
   ]
  },
  {
   "cell_type": "markdown",
   "metadata": {},
   "source": [
    "- File `playlist.csv`: từ mô tả thuộc tính và kiểu dữ liệu của `track_ids`, thì cần đổi kiểu dữ liệu của thuộc tính `track_ids` từ **string** sang dạng **list các số nguyên**"
   ]
  },
  {
   "cell_type": "code",
   "execution_count": 368,
   "metadata": {},
   "outputs": [],
   "source": [
    "df_playlist['track_ids'] = df_playlist['track_ids'].apply(lambda x: [int(item) for item in x.split(',')])"
   ]
  },
  {
   "cell_type": "markdown",
   "metadata": {},
   "source": [
    "- File `track.csv`: \n",
    "    - Cần đổi kiểu dữ liệu của 2 cột `likes_count`, `playback_count`từ **float** sang **int**\n",
    "    - Cần đổi kiểu dữ liệu của `created_date` sang kiểu **datetime**"
   ]
  },
  {
   "cell_type": "code",
   "execution_count": 369,
   "metadata": {},
   "outputs": [],
   "source": [
    "df_track[['likes_count', 'playback_count', 'download_count', 'comment_count']] = df_track[['likes_count', 'playback_count', 'download_count', 'comment_count']].astype(int)\n",
    "df_track['created_date'] = pd.to_datetime(df_track['created_date'])\n",
    "# df_track[['likes_count', 'playback_count', 'download_count', 'created_date']].head()"
   ]
  },
  {
   "cell_type": "markdown",
   "metadata": {},
   "source": [
    "### Kiểm tra ngoại lệ"
   ]
  },
  {
   "cell_type": "code",
   "execution_count": 370,
   "metadata": {},
   "outputs": [
    {
     "data": {
      "text/plain": [
       "(array([1152.,  865.,  638.,  308.,  121.,   51.,   35.,   35.,   64.,\n",
       "          38.]),\n",
       " array([ 0.        ,  1.29565591,  2.59131181,  3.88696772,  5.18262362,\n",
       "         6.47827953,  7.77393543,  9.06959134, 10.36524725, 11.66090315,\n",
       "        12.95655906]),\n",
       " <BarContainer object of 10 artists>)"
      ]
     },
     "execution_count": 370,
     "metadata": {},
     "output_type": "execute_result"
    },
    {
     "data": {
      "image/png": "[encoded data removed]",
      "text/plain": [
       "<Figure size 432x288 with 1 Axes>"
      ]
     },
     "metadata": {
      "needs_background": "light"
     },
     "output_type": "display_data"
    }
   ],
   "source": [
    "# tính mean\n",
    "likes = df_playlist['likes_count']\n",
    "likes = likes.loc[likes > 0]\n",
    "likes = np.log(likes) #np.log(likes)\n",
    "\n",
    "# plt.hist(likes, bins=20);\n",
    "# g = sns.boxplot(x=likes)\n",
    "plt.hist(likes)"
   ]
  },
  {
   "cell_type": "code",
   "execution_count": 371,
   "metadata": {},
   "outputs": [
    {
     "data": {
      "text/plain": [
       "9       3.401197\n",
       "12      2.079442\n",
       "18      2.484907\n",
       "18      2.484907\n",
       "21      1.098612\n",
       "          ...   \n",
       "3345    0.693147\n",
       "3349    1.098612\n",
       "3349    1.098612\n",
       "3370    1.386294\n",
       "3370    1.386294\n",
       "Name: likes_count, Length: 1942, dtype: float64"
      ]
     },
     "execution_count": 371,
     "metadata": {},
     "output_type": "execute_result"
    }
   ],
   "source": [
    "# likes = pd.DataFrame(likes)\n",
    "a,b = likes.quantile([0.25, 0.75])\n",
    "likes = likes.loc[(a <= likes) & (likes <= b)]\n",
    "likes\n",
    "# sns.boxplot(x=likes)"
   ]
  },
  {
   "cell_type": "code",
   "execution_count": 372,
   "metadata": {},
   "outputs": [
    {
     "data": {
      "text/plain": [
       "(array([768., 350., 217., 139., 130.,  93.,  73.,  53.,  43.,  76.]),\n",
       " array([ 2.,  5.,  8., 11., 14., 17., 20., 23., 26., 29., 32.]),\n",
       " <BarContainer object of 10 artists>)"
      ]
     },
     "execution_count": 372,
     "metadata": {},
     "output_type": "execute_result"
    },
    {
     "data": {
      "image/png": "[encoded data removed]",
      "text/plain": [
       "<Figure size 432x288 with 1 Axes>"
      ]
     },
     "metadata": {
      "needs_background": "light"
     },
     "output_type": "display_data"
    }
   ],
   "source": [
    "likes = df_playlist['likes_count'].loc[df_playlist['likes_count'] > 0]\n",
    "a,b = likes.quantile([0.25, 0.75])\n",
    "likes = likes.loc[(a <= likes) & (likes <= b)]\n",
    "likes \n",
    "\n",
    "plt.hist(likes)"
   ]
  },
  {
   "cell_type": "code",
   "execution_count": 373,
   "metadata": {},
   "outputs": [
    {
     "data": {
      "text/plain": [
       "23087"
      ]
     },
     "execution_count": 373,
     "metadata": {},
     "output_type": "execute_result"
    },
    {
     "data": {
      "image/png": "[encoded data removed]",
      "text/plain": [
       "<Figure size 432x288 with 1 Axes>"
      ]
     },
     "metadata": {
      "needs_background": "light"
     },
     "output_type": "display_data"
    }
   ],
   "source": [
    "# track.csv\n",
    "likes = df_track['likes_count'].loc[df_track['likes_count'] > 0]\n",
    "a,b = likes.quantile([0.25, 0.75])\n",
    "likes = likes.loc[(a <= likes) & (likes <= b)]\n",
    "likes \n",
    "\n",
    "plt.hist(likes)\n",
    "len(likes)"
   ]
  },
  {
   "cell_type": "markdown",
   "metadata": {},
   "source": [
    "# II. KHÁM PHÁ DỮ LIỆU"
   ]
  },
  {
   "cell_type": "markdown",
   "metadata": {},
   "source": [
    "????"
   ]
  },
  {
   "cell_type": "code",
   "execution_count": 374,
   "metadata": {},
   "outputs": [
    {
     "data": {
      "image/png": "[encoded data removed]",
      "text/plain": [
       "<Figure size 1080x936 with 1 Axes>"
      ]
     },
     "metadata": {
      "needs_background": "light"
     },
     "output_type": "display_data"
    }
   ],
   "source": [
    "genre_stat = df_playlist['genre'].value_counts()\n",
    "plt.figure(figsize=(15, 13))\n",
    "a = plt.barh(genre_stat.index, genre_stat)"
   ]
  },
  {
   "cell_type": "markdown",
   "metadata": {},
   "source": [
    "## Tương quan giữa likes_count với reposts_count của 1 playlist/track"
   ]
  },
  {
   "cell_type": "markdown",
   "metadata": {},
   "source": [
    "- **Câu hỏi quan tâm**: Xét 1 playlist, có mối tương quan nào giữa số lượt thích (`likes_count`) và số lượt chia sẻ (`reposts_count`) ?\n",
    "- Từ quan sát đồ thị correlation phía dưới, thấy rằng mối quan hệ giữa `số lượt thích` (biến ngẫu nhiên A) và `số lượt tái chia sẻ` (biến ngẫu nhiên B) tỷ lệ thuận, tuy nhiên mối quan hệ chỉ thực sự mạnh khi A và B dưới 150000, còn A,B bắt đầu trên 150000 thì các điểm dữ liệu thưa thớt dần chứng tỏ mối quan hệ càng yếu dần  "
   ]
  },
  {
   "cell_type": "code",
   "execution_count": 376,
   "metadata": {},
   "outputs": [
    {
     "data": {
      "text/plain": [
       "Text(0, 0.5, 'Số lượt tái chia sẻ (reposts_count)')"
      ]
     },
     "execution_count": 376,
     "metadata": {},
     "output_type": "execute_result"
    },
    {
     "data": {
      "image/png": "[encoded data removed]",
      "text/plain": [
       "<Figure size 720x504 with 1 Axes>"
      ]
     },
     "metadata": {
      "needs_background": "light"
     },
     "output_type": "display_data"
    }
   ],
   "source": [
    "plt.figure(figsize=(10,7))\n",
    "plt.grid()\n",
    "plt.scatter(df_playlist['likes_count'], df_playlist['reposts_count'], edgecolors='black')\n",
    "plt.xlabel('Số lượt thích (likes_count)'); plt.ylabel('Số lượt tái chia sẻ (reposts_count)')\n",
    "# plt.axvline(np.mean(df_playlist['likes_count']), color='r', linestyle='--') # lượt like TB"
   ]
  },
  {
   "cell_type": "markdown",
   "metadata": {},
   "source": [
    "Để thể hiện sự tương quan giữa A và B bằng 1 con số, ta dùng ma trận tương quan `Pearson correlation matrix`, thấy rằng độ tương quan là ~0.9394"
   ]
  },
  {
   "cell_type": "code",
   "execution_count": 377,
   "metadata": {},
   "outputs": [
    {
     "data": {
      "text/html": [
       "<div>\n",
       "<style scoped>\n",
       "    .dataframe tbody tr th:only-of-type {\n",
       "        vertical-align: middle;\n",
       "    }\n",
       "\n",
       "    .dataframe tbody tr th {\n",
       "        vertical-align: top;\n",
       "    }\n",
       "\n",
       "    .dataframe thead th {\n",
       "        text-align: right;\n",
       "    }\n",
       "</style>\n",
       "<table border=\"1\" class=\"dataframe\">\n",
       "  <thead>\n",
       "    <tr style=\"text-align: right;\">\n",
       "      <th></th>\n",
       "      <th>likes_count</th>\n",
       "      <th>reposts_count</th>\n",
       "    </tr>\n",
       "  </thead>\n",
       "  <tbody>\n",
       "    <tr>\n",
       "      <th>likes_count</th>\n",
       "      <td>1.000000</td>\n",
       "      <td>0.939395</td>\n",
       "    </tr>\n",
       "    <tr>\n",
       "      <th>reposts_count</th>\n",
       "      <td>0.939395</td>\n",
       "      <td>1.000000</td>\n",
       "    </tr>\n",
       "  </tbody>\n",
       "</table>\n",
       "</div>"
      ],
      "text/plain": [
       "               likes_count  reposts_count\n",
       "likes_count       1.000000       0.939395\n",
       "reposts_count     0.939395       1.000000"
      ]
     },
     "execution_count": 377,
     "metadata": {},
     "output_type": "execute_result"
    }
   ],
   "source": [
    "likes_reposts = df_playlist[['likes_count', 'reposts_count']]\n",
    "likes_reposts.corr(method = 'pearson')"
   ]
  },
  {
   "cell_type": "markdown",
   "metadata": {},
   "source": [
    "Tuy nhiên, con số ~0.9394 chưa thực sự chính xác vì tương quan Pearson giả định 2 thuộc tính có phân phối chuẩn, trong khi thuộc tính `likes_count` không đảm bảo điều đó. Vì vậy, ta chuyển qua dùng tương quan Spearman, thấy rằng mối tương quan giảm còn ~0.8"
   ]
  },
  {
   "cell_type": "markdown",
   "metadata": {},
   "source": [
    "- Phân phối của thuộc tính `likes_count`"
   ]
  },
  {
   "cell_type": "code",
   "execution_count": 378,
   "metadata": {},
   "outputs": [
    {
     "data": {
      "text/plain": [
       "Text(0.5, 1.0, 'Phân phối của likes_count')"
      ]
     },
     "execution_count": 378,
     "metadata": {},
     "output_type": "execute_result"
    },
    {
     "data": {
      "image/png": "[encoded data removed]",
      "text/plain": [
       "<Figure size 432x288 with 1 Axes>"
      ]
     },
     "metadata": {
      "needs_background": "light"
     },
     "output_type": "display_data"
    }
   ],
   "source": [
    "a = plt.hist(df_playlist['likes_count'], range= (0,600), edgecolor='black')\n",
    "plt.xticks(a[1])\n",
    "plt.xlabel('Số lượt thích (likes_count)')\n",
    "plt.ylabel('Số playlist')\n",
    "plt.title('Phân phối của likes_count')"
   ]
  },
  {
   "cell_type": "markdown",
   "metadata": {},
   "source": [
    "- Tính độ tương quan bằng phương pháp Spearman"
   ]
  },
  {
   "cell_type": "code",
   "execution_count": 379,
   "metadata": {},
   "outputs": [
    {
     "data": {
      "text/html": [
       "<div>\n",
       "<style scoped>\n",
       "    .dataframe tbody tr th:only-of-type {\n",
       "        vertical-align: middle;\n",
       "    }\n",
       "\n",
       "    .dataframe tbody tr th {\n",
       "        vertical-align: top;\n",
       "    }\n",
       "\n",
       "    .dataframe thead th {\n",
       "        text-align: right;\n",
       "    }\n",
       "</style>\n",
       "<table border=\"1\" class=\"dataframe\">\n",
       "  <thead>\n",
       "    <tr style=\"text-align: right;\">\n",
       "      <th></th>\n",
       "      <th>likes_count</th>\n",
       "      <th>reposts_count</th>\n",
       "    </tr>\n",
       "  </thead>\n",
       "  <tbody>\n",
       "    <tr>\n",
       "      <th>likes_count</th>\n",
       "      <td>1.000000</td>\n",
       "      <td>0.799104</td>\n",
       "    </tr>\n",
       "    <tr>\n",
       "      <th>reposts_count</th>\n",
       "      <td>0.799104</td>\n",
       "      <td>1.000000</td>\n",
       "    </tr>\n",
       "  </tbody>\n",
       "</table>\n",
       "</div>"
      ],
      "text/plain": [
       "               likes_count  reposts_count\n",
       "likes_count       1.000000       0.799104\n",
       "reposts_count     0.799104       1.000000"
      ]
     },
     "execution_count": 379,
     "metadata": {},
     "output_type": "execute_result"
    }
   ],
   "source": [
    "likes_reposts.corr(method = 'spearman')"
   ]
  },
  {
   "cell_type": "markdown",
   "metadata": {},
   "source": [
    "## Tương quan giữa likes_count và reposts_count của 1 track\n",
    "- Câu hỏi quan tâm: "
   ]
  },
  {
   "cell_type": "code",
   "execution_count": 380,
   "metadata": {},
   "outputs": [
    {
     "data": {
      "text/plain": [
       "Text(0, 0.5, 'Số lượt tái chia sẻ (reposts_count)')"
      ]
     },
     "execution_count": 380,
     "metadata": {},
     "output_type": "execute_result"
    },
    {
     "data": {
      "image/png": "[encoded data removed]",
      "text/plain": [
       "<Figure size 720x504 with 1 Axes>"
      ]
     },
     "metadata": {
      "needs_background": "light"
     },
     "output_type": "display_data"
    }
   ],
   "source": [
    "plt.figure(figsize=(10,7))\n",
    "plt.grid()\n",
    "plt.scatter(df_track['likes_count'], df_track['reposts_count'], edgecolors='black')\n",
    "plt.xlabel('Số lượt thích (likes_count)')\n",
    "plt.ylabel('Số lượt tái chia sẻ (reposts_count)')"
   ]
  },
  {
   "cell_type": "code",
   "execution_count": 381,
   "metadata": {},
   "outputs": [
    {
     "data": {
      "text/html": [
       "<div>\n",
       "<style scoped>\n",
       "    .dataframe tbody tr th:only-of-type {\n",
       "        vertical-align: middle;\n",
       "    }\n",
       "\n",
       "    .dataframe tbody tr th {\n",
       "        vertical-align: top;\n",
       "    }\n",
       "\n",
       "    .dataframe thead th {\n",
       "        text-align: right;\n",
       "    }\n",
       "</style>\n",
       "<table border=\"1\" class=\"dataframe\">\n",
       "  <thead>\n",
       "    <tr style=\"text-align: right;\">\n",
       "      <th></th>\n",
       "      <th>likes_count</th>\n",
       "      <th>reposts_count</th>\n",
       "    </tr>\n",
       "  </thead>\n",
       "  <tbody>\n",
       "    <tr>\n",
       "      <th>likes_count</th>\n",
       "      <td>1.000000</td>\n",
       "      <td>0.964503</td>\n",
       "    </tr>\n",
       "    <tr>\n",
       "      <th>reposts_count</th>\n",
       "      <td>0.964503</td>\n",
       "      <td>1.000000</td>\n",
       "    </tr>\n",
       "  </tbody>\n",
       "</table>\n",
       "</div>"
      ],
      "text/plain": [
       "               likes_count  reposts_count\n",
       "likes_count       1.000000       0.964503\n",
       "reposts_count     0.964503       1.000000"
      ]
     },
     "execution_count": 381,
     "metadata": {},
     "output_type": "execute_result"
    }
   ],
   "source": [
    "likes_reposts = df_track[['likes_count', 'reposts_count']]\n",
    "likes_reposts.corr(method = 'spearman')"
   ]
  },
  {
   "cell_type": "markdown",
   "metadata": {},
   "source": [
    "## Tương quan giữa followers_count & track_count của 1 verified user\n",
    "- **Câu hỏi quan tâm**: Liệu ra nhiều track có đồng nghĩa nhiều người theo dõi hơn để từ đó có thể các user đăng tải nhiều track hơn?\n",
    "- Từ quan sát đồ thị, dễ thấy rằng không có sự tương quan nào giữa số người theo dõi và số track"
   ]
  },
  {
   "cell_type": "code",
   "execution_count": 382,
   "metadata": {},
   "outputs": [
    {
     "data": {
      "text/plain": [
       "Text(0, 0.5, 'Số lượng track (track_count)')"
      ]
     },
     "execution_count": 382,
     "metadata": {},
     "output_type": "execute_result"
    },
    {
     "data": {
      "image/png": "[encoded data removed]",
      "text/plain": [
       "<Figure size 864x504 with 1 Axes>"
      ]
     },
     "metadata": {
      "needs_background": "light"
     },
     "output_type": "display_data"
    }
   ],
   "source": [
    "verified_users = df_user[df_user['verified'] == True]\n",
    "verified_users\n",
    "\n",
    "plt.figure(figsize=(12,7))\n",
    "plt.grid()\n",
    "plt.scatter(verified_users['followers_count'], verified_users['track_count'], edgecolors='black')\n",
    "plt.xlabel('Số lượng người theo dõi (followers_count)')\n",
    "plt.ylabel('Số lượng track (track_count)')"
   ]
  },
  {
   "cell_type": "markdown",
   "metadata": {},
   "source": [
    "## Mối tương quan giữa likes_count, playback_count, download_count, reposts_count, comment_count"
   ]
  },
  {
   "cell_type": "code",
   "execution_count": 383,
   "metadata": {},
   "outputs": [
    {
     "data": {
      "text/html": [
       "<div>\n",
       "<style scoped>\n",
       "    .dataframe tbody tr th:only-of-type {\n",
       "        vertical-align: middle;\n",
       "    }\n",
       "\n",
       "    .dataframe tbody tr th {\n",
       "        vertical-align: top;\n",
       "    }\n",
       "\n",
       "    .dataframe thead th {\n",
       "        text-align: right;\n",
       "    }\n",
       "</style>\n",
       "<table border=\"1\" class=\"dataframe\">\n",
       "  <thead>\n",
       "    <tr style=\"text-align: right;\">\n",
       "      <th></th>\n",
       "      <th>likes_count</th>\n",
       "      <th>playback_count</th>\n",
       "      <th>download_count</th>\n",
       "      <th>reposts_count</th>\n",
       "      <th>comment_count</th>\n",
       "    </tr>\n",
       "  </thead>\n",
       "  <tbody>\n",
       "    <tr>\n",
       "      <th>0</th>\n",
       "      <td>104933</td>\n",
       "      <td>3656798</td>\n",
       "      <td>0</td>\n",
       "      <td>1484</td>\n",
       "      <td>2949</td>\n",
       "    </tr>\n",
       "    <tr>\n",
       "      <th>1</th>\n",
       "      <td>229321</td>\n",
       "      <td>11713134</td>\n",
       "      <td>0</td>\n",
       "      <td>2994</td>\n",
       "      <td>7358</td>\n",
       "    </tr>\n",
       "    <tr>\n",
       "      <th>2</th>\n",
       "      <td>191418</td>\n",
       "      <td>8635832</td>\n",
       "      <td>0</td>\n",
       "      <td>9338</td>\n",
       "      <td>3428</td>\n",
       "    </tr>\n",
       "    <tr>\n",
       "      <th>2</th>\n",
       "      <td>191418</td>\n",
       "      <td>8635832</td>\n",
       "      <td>0</td>\n",
       "      <td>9338</td>\n",
       "      <td>3428</td>\n",
       "    </tr>\n",
       "    <tr>\n",
       "      <th>3</th>\n",
       "      <td>84417</td>\n",
       "      <td>2861345</td>\n",
       "      <td>0</td>\n",
       "      <td>952</td>\n",
       "      <td>1064</td>\n",
       "    </tr>\n",
       "    <tr>\n",
       "      <th>...</th>\n",
       "      <td>...</td>\n",
       "      <td>...</td>\n",
       "      <td>...</td>\n",
       "      <td>...</td>\n",
       "      <td>...</td>\n",
       "    </tr>\n",
       "    <tr>\n",
       "      <th>46537</th>\n",
       "      <td>390</td>\n",
       "      <td>20247</td>\n",
       "      <td>0</td>\n",
       "      <td>22</td>\n",
       "      <td>7</td>\n",
       "    </tr>\n",
       "    <tr>\n",
       "      <th>46538</th>\n",
       "      <td>22</td>\n",
       "      <td>1836</td>\n",
       "      <td>0</td>\n",
       "      <td>3</td>\n",
       "      <td>0</td>\n",
       "    </tr>\n",
       "    <tr>\n",
       "      <th>46539</th>\n",
       "      <td>2544</td>\n",
       "      <td>284610</td>\n",
       "      <td>0</td>\n",
       "      <td>75</td>\n",
       "      <td>8</td>\n",
       "    </tr>\n",
       "    <tr>\n",
       "      <th>46541</th>\n",
       "      <td>23</td>\n",
       "      <td>321</td>\n",
       "      <td>14</td>\n",
       "      <td>2</td>\n",
       "      <td>0</td>\n",
       "    </tr>\n",
       "    <tr>\n",
       "      <th>46543</th>\n",
       "      <td>23</td>\n",
       "      <td>321</td>\n",
       "      <td>14</td>\n",
       "      <td>2</td>\n",
       "      <td>0</td>\n",
       "    </tr>\n",
       "  </tbody>\n",
       "</table>\n",
       "<p>46758 rows × 5 columns</p>\n",
       "</div>"
      ],
      "text/plain": [
       "       likes_count  playback_count  download_count  reposts_count  \\\n",
       "0           104933         3656798               0           1484   \n",
       "1           229321        11713134               0           2994   \n",
       "2           191418         8635832               0           9338   \n",
       "2           191418         8635832               0           9338   \n",
       "3            84417         2861345               0            952   \n",
       "...            ...             ...             ...            ...   \n",
       "46537          390           20247               0             22   \n",
       "46538           22            1836               0              3   \n",
       "46539         2544          284610               0             75   \n",
       "46541           23             321              14              2   \n",
       "46543           23             321              14              2   \n",
       "\n",
       "       comment_count  \n",
       "0               2949  \n",
       "1               7358  \n",
       "2               3428  \n",
       "2               3428  \n",
       "3               1064  \n",
       "...              ...  \n",
       "46537              7  \n",
       "46538              0  \n",
       "46539              8  \n",
       "46541              0  \n",
       "46543              0  \n",
       "\n",
       "[46758 rows x 5 columns]"
      ]
     },
     "execution_count": 383,
     "metadata": {},
     "output_type": "execute_result"
    }
   ],
   "source": [
    "df = df_track[['likes_count','playback_count','download_count','reposts_count','comment_count']]\n",
    "df"
   ]
  },
  {
   "cell_type": "code",
   "execution_count": 384,
   "metadata": {},
   "outputs": [
    {
     "data": {
      "text/plain": [
       "[Text(0.5, 0, 'likes_count'),\n",
       " Text(1.5, 0, 'playback_count'),\n",
       " Text(2.5, 0, 'download_count'),\n",
       " Text(3.5, 0, 'reposts_count'),\n",
       " Text(4.5, 0, 'comment_count')]"
      ]
     },
     "execution_count": 384,
     "metadata": {},
     "output_type": "execute_result"
    },
    {
     "data": {
      "image/png": "[encoded data removed]",
      "text/plain": [
       "<Figure size 432x288 with 2 Axes>"
      ]
     },
     "metadata": {
      "needs_background": "light"
     },
     "output_type": "display_data"
    }
   ],
   "source": [
    "corr = df.corr(method='spearman')\n",
    "g = sns.heatmap(corr, annot=True)\n",
    "g.set_xticklabels(g.get_xticklabels(), rotation=30)"
   ]
  },
  {
   "cell_type": "markdown",
   "metadata": {},
   "source": [
    "- Các biến này có độc lập với nhau không?"
   ]
  },
  {
   "cell_type": "code",
   "execution_count": null,
   "metadata": {},
   "outputs": [],
   "source": []
  },
  {
   "cell_type": "markdown",
   "metadata": {},
   "source": [
    "## Tần suất ra track (số track/năm) có phụ thuộc (tỉ lệ thuận/nghịch) vào likes_count, playback_count, comment_count\n",
    "- phụ thuộc: (in)dependent variable?"
   ]
  },
  {
   "cell_type": "code",
   "execution_count": 385,
   "metadata": {},
   "outputs": [
    {
     "name": "stderr",
     "output_type": "stream",
     "text": [
      "C:\\Users\\Admin\\AppData\\Local\\Temp/ipykernel_275020/2270554566.py:3: SettingWithCopyWarning: \n",
      "A value is trying to be set on a copy of a slice from a DataFrame.\n",
      "Try using .loc[row_indexer,col_indexer] = value instead\n",
      "\n",
      "See the caveats in the documentation: https://pandas.pydata.org/pandas-docs/stable/user_guide/indexing.html#returning-a-view-versus-a-copy\n",
      "  df['track_id'] = df['track_id'].astype(object)\n"
     ]
    }
   ],
   "source": [
    "# tính cột tần suất\n",
    "df = df_track[['author_id', 'track_id', 'created_date']]\n",
    "df['track_id'] = df['track_id'].astype(object)\n",
    "a = df_user.set_index('user_id').join(df.set_index('author_id'), on='user_id', how='inner')\n",
    "a = a.loc[a['created_date'].dt.year == 2014]"
   ]
  },
  {
   "cell_type": "code",
   "execution_count": 386,
   "metadata": {},
   "outputs": [
    {
     "data": {
      "text/html": [
       "<div>\n",
       "<style scoped>\n",
       "    .dataframe tbody tr th:only-of-type {\n",
       "        vertical-align: middle;\n",
       "    }\n",
       "\n",
       "    .dataframe tbody tr th {\n",
       "        vertical-align: top;\n",
       "    }\n",
       "\n",
       "    .dataframe thead th {\n",
       "        text-align: right;\n",
       "    }\n",
       "</style>\n",
       "<table border=\"1\" class=\"dataframe\">\n",
       "  <thead>\n",
       "    <tr style=\"text-align: right;\">\n",
       "      <th></th>\n",
       "      <th>track_count</th>\n",
       "      <th>date</th>\n",
       "    </tr>\n",
       "    <tr>\n",
       "      <th>user_id</th>\n",
       "      <th></th>\n",
       "      <th></th>\n",
       "    </tr>\n",
       "  </thead>\n",
       "  <tbody>\n",
       "    <tr>\n",
       "      <th>175766</th>\n",
       "      <td>208</td>\n",
       "      <td>[2014-10-27 10:22:24+00:00, 2014-10-15 07:19:1...</td>\n",
       "    </tr>\n",
       "    <tr>\n",
       "      <th>351064</th>\n",
       "      <td>61</td>\n",
       "      <td>[2014-12-11 20:21:55+00:00, 2014-07-07 19:41:0...</td>\n",
       "    </tr>\n",
       "    <tr>\n",
       "      <th>630356</th>\n",
       "      <td>56</td>\n",
       "      <td>[2014-10-24 11:32:55+00:00, 2014-01-20 15:35:3...</td>\n",
       "    </tr>\n",
       "    <tr>\n",
       "      <th>1701116</th>\n",
       "      <td>56</td>\n",
       "      <td>[2014-02-12 02:24:19+00:00, 2014-02-12 02:24:1...</td>\n",
       "    </tr>\n",
       "    <tr>\n",
       "      <th>13909117</th>\n",
       "      <td>38</td>\n",
       "      <td>[2014-03-28 15:14:46+00:00, 2014-02-13 13:48:5...</td>\n",
       "    </tr>\n",
       "    <tr>\n",
       "      <th>...</th>\n",
       "      <td>...</td>\n",
       "      <td>...</td>\n",
       "    </tr>\n",
       "    <tr>\n",
       "      <th>12764379</th>\n",
       "      <td>1</td>\n",
       "      <td>2014-06-14 21:27:36+00:00</td>\n",
       "    </tr>\n",
       "    <tr>\n",
       "      <th>12773649</th>\n",
       "      <td>1</td>\n",
       "      <td>2014-12-27 12:56:51+00:00</td>\n",
       "    </tr>\n",
       "    <tr>\n",
       "      <th>12809050</th>\n",
       "      <td>1</td>\n",
       "      <td>2014-01-19 18:11:05+00:00</td>\n",
       "    </tr>\n",
       "    <tr>\n",
       "      <th>12880904</th>\n",
       "      <td>1</td>\n",
       "      <td>2014-05-15 12:08:08+00:00</td>\n",
       "    </tr>\n",
       "    <tr>\n",
       "      <th>130164959</th>\n",
       "      <td>1</td>\n",
       "      <td>2014-12-28 20:09:40+00:00</td>\n",
       "    </tr>\n",
       "  </tbody>\n",
       "</table>\n",
       "<p>3791 rows × 2 columns</p>\n",
       "</div>"
      ],
      "text/plain": [
       "           track_count                                               date\n",
       "user_id                                                                  \n",
       "175766             208  [2014-10-27 10:22:24+00:00, 2014-10-15 07:19:1...\n",
       "351064              61  [2014-12-11 20:21:55+00:00, 2014-07-07 19:41:0...\n",
       "630356              56  [2014-10-24 11:32:55+00:00, 2014-01-20 15:35:3...\n",
       "1701116             56  [2014-02-12 02:24:19+00:00, 2014-02-12 02:24:1...\n",
       "13909117            38  [2014-03-28 15:14:46+00:00, 2014-02-13 13:48:5...\n",
       "...                ...                                                ...\n",
       "12764379             1                          2014-06-14 21:27:36+00:00\n",
       "12773649             1                          2014-12-27 12:56:51+00:00\n",
       "12809050             1                          2014-01-19 18:11:05+00:00\n",
       "12880904             1                          2014-05-15 12:08:08+00:00\n",
       "130164959            1                          2014-12-28 20:09:40+00:00\n",
       "\n",
       "[3791 rows x 2 columns]"
      ]
     },
     "execution_count": 386,
     "metadata": {},
     "output_type": "execute_result"
    }
   ],
   "source": [
    "tmp = a.groupby(a.index)[['track_id', 'created_date']]\n",
    "tmp.agg(track_count = ('track_id','count'),\n",
    "        date = ('created_date', lambda x: x)).sort_values(by='track_count', ascending=False)\n",
    "# tmp.first()"
   ]
  },
  {
   "cell_type": "code",
   "execution_count": null,
   "metadata": {},
   "outputs": [],
   "source": []
  }
 ],
 "metadata": {
  "interpreter": {
   "hash": "dcacb0086e9a4f4eabd41c33bf4faac5ea0a3337ed3f5eff0680afa930572c04"
  },
  "kernelspec": {
   "display_name": "Python 3.9.6 64-bit",
   "language": "python",
   "name": "python3"
  },
  "language_info": {
   "codemirror_mode": {
    "name": "ipython",
    "version": 3
   },
   "file_extension": ".py",
   "mimetype": "text/x-python",
   "name": "python",
   "nbconvert_exporter": "python",
   "pygments_lexer": "ipython3",
   "version": "3.9.6"
  },
  "orig_nbformat": 4
 },
 "nbformat": 4,
 "nbformat_minor": 2
}
