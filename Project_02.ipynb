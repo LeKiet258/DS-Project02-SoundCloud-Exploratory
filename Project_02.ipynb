{
 "cells": [
  {
   "cell_type": "markdown",
   "metadata": {},
   "source": [
    "# THƯ VIỆN CẦN THIẾT"
   ]
  },
  {
   "cell_type": "code",
   "execution_count": 210,
   "metadata": {},
   "outputs": [],
   "source": [
    "import pandas as pd\n",
    "import numpy as np\n",
    "import matplotlib.pyplot as plt\n",
    "import re"
   ]
  },
  {
   "cell_type": "markdown",
   "metadata": {},
   "source": [
    "# PHÂN TÍCH DỮ LIỆU\n",
    "- [INSERT MÔ TẢ SƠ BỘ VỀ 3 FILE/CÁC CÂU HỎI/CÁC BƯỚC LÀM]"
   ]
  },
  {
   "cell_type": "markdown",
   "metadata": {},
   "source": [
    "## I. TIỀN XỬ LÝ DỮ LIỆU\n",
    "### Dữ liệu có bao nhiêu dòng, bao nhiêu cột?"
   ]
  },
  {
   "cell_type": "code",
   "execution_count": 211,
   "metadata": {},
   "outputs": [
    {
     "data": {
      "text/plain": [
       "((3372, 5), (46815, 9), (40129, 5))"
      ]
     },
     "execution_count": 211,
     "metadata": {},
     "output_type": "execute_result"
    }
   ],
   "source": [
    "df_playlist = pd.read_csv(\"data/playlist.csv\")\n",
    "df_track    = pd.read_csv(\"data/track.csv\")\n",
    "df_user     = pd.read_csv(\"data/user.csv\")\n",
    "\n",
    "df_playlist.shape, df_track.shape, df_user.shape"
   ]
  },
  {
   "cell_type": "markdown",
   "metadata": {},
   "source": [
    "### Các file dữ liệu có các dòng nào bị trùng lắp hoàn toàn không?\n",
    "- Thấy rằng từ output, không có dòng nào bị trùng lắp hoàn toàn trong từng file dữ liệu"
   ]
  },
  {
   "cell_type": "code",
   "execution_count": 212,
   "metadata": {},
   "outputs": [
    {
     "data": {
      "text/plain": [
       "(0, 0, 0)"
      ]
     },
     "execution_count": 212,
     "metadata": {},
     "output_type": "execute_result"
    }
   ],
   "source": [
    "df_playlist.duplicated().sum(), df_track.duplicated().sum(), df_user.duplicated().sum()"
   ]
  },
  {
   "cell_type": "markdown",
   "metadata": {},
   "source": [
    "### Mỗi cột thuộc kiểu dữ liệu nào? Có cột nào bị thiếu dữ liệu không?\n",
    "- Với mỗi file, kết hợp 2 công việc này vào 1 dataframe. Dataframe này gồm các cột chính là các cột thuộc tính trong lần lượt 3 file x 2 hàng có tên: \n",
    "    - `DataType` - thể hiện kiểu dữ liệu của các thuộc tính trong file\n",
    "    - `NaN counts` - đếm số lượng dữ liệu thiếu tại mỗi cột  \n",
    "- Theo đồ án 1, ý nghĩa của mỗi thuộc tính trong mỗi file như sau:\n",
    "    - `playlist.csv`:\n",
    "        - `id`: mã của playlist đó, mã này dùng để phân biệt với các playlist khác, mỗi playlist sẽ có một mã số `id` duy nhất.\n",
    "        - `name`: là tên của playlist đó (trong trường hợp playlist đó không có tên thì ta gán `name` là `null`).\n",
    "        - `genre`: là thể loại của playlist đó (trong trường hợp playlist đó chưa được đặt thể loại thì ta gán `genre` là `null`).\n",
    "        - `likes_count`: tổng số lượt likes của playlist\n",
    "        - `track_ids`: là chuỗi gồm danh sách các track có track_id nằm trong playlist đó.\n",
    "    - `track.csv`:\n",
    "        - `id`: id của track. Lưu ý 1 track có thể nằm trong nhiều playlist\n",
    "        - `name`: tên track\n",
    "        - `genre`: thể loại track\n",
    "        - `playlist_id`: playlist_id mà track có mã là `id` thuộc về\n",
    "        - `author_id`: mỗi track có 1 user có mã đại diện là `author_id` phụ trách\n",
    "        - `likes_count`: tổng số lượt likes của track\n",
    "        - `playback_count`: tổng số lượt replay của track\n",
    "        - `download_count`: tổng số lượt tải về track đó\n",
    "        - `created_date`: ngày track đó được tạo\n",
    "    - `user.csv`:\n",
    "        - `id`: mã người dùng, là duy nhất. Lưu ý 1 người dùng có thể phụ trách 1 hoặc nhiều track\n",
    "        - `full_name`: họ và tên user\n",
    "        - `username`: tên tài khoản user\n",
    "        - `track_id`: track mà user \n",
    "        - `followers_count`: số lượng người theo dõi user đó"
   ]
  },
  {
   "cell_type": "code",
   "execution_count": 213,
   "metadata": {},
   "outputs": [
    {
     "data": {
      "text/html": [
       "<div>\n",
       "<style scoped>\n",
       "    .dataframe tbody tr th:only-of-type {\n",
       "        vertical-align: middle;\n",
       "    }\n",
       "\n",
       "    .dataframe tbody tr th {\n",
       "        vertical-align: top;\n",
       "    }\n",
       "\n",
       "    .dataframe thead th {\n",
       "        text-align: right;\n",
       "    }\n",
       "</style>\n",
       "<table border=\"1\" class=\"dataframe\">\n",
       "  <thead>\n",
       "    <tr style=\"text-align: right;\">\n",
       "      <th></th>\n",
       "      <th>playlist_id</th>\n",
       "      <th>playlist_name</th>\n",
       "      <th>genre</th>\n",
       "      <th>likes_count</th>\n",
       "      <th>track_ids</th>\n",
       "    </tr>\n",
       "  </thead>\n",
       "  <tbody>\n",
       "    <tr>\n",
       "      <th>DataType</th>\n",
       "      <td>int64</td>\n",
       "      <td>object</td>\n",
       "      <td>object</td>\n",
       "      <td>int64</td>\n",
       "      <td>object</td>\n",
       "    </tr>\n",
       "    <tr>\n",
       "      <th>NaN counts</th>\n",
       "      <td>0</td>\n",
       "      <td>0</td>\n",
       "      <td>2706</td>\n",
       "      <td>0</td>\n",
       "      <td>38</td>\n",
       "    </tr>\n",
       "  </tbody>\n",
       "</table>\n",
       "</div>"
      ],
      "text/plain": [
       "           playlist_id playlist_name   genre likes_count track_ids\n",
       "DataType         int64        object  object       int64    object\n",
       "NaN counts           0             0    2706           0        38"
      ]
     },
     "execution_count": 213,
     "metadata": {},
     "output_type": "execute_result"
    }
   ],
   "source": [
    "pd.DataFrame([df_playlist.dtypes, df_playlist.isna().sum()], index= ['DataType', 'NaN counts'])"
   ]
  },
  {
   "cell_type": "code",
   "execution_count": 214,
   "metadata": {},
   "outputs": [
    {
     "data": {
      "text/html": [
       "<div>\n",
       "<style scoped>\n",
       "    .dataframe tbody tr th:only-of-type {\n",
       "        vertical-align: middle;\n",
       "    }\n",
       "\n",
       "    .dataframe tbody tr th {\n",
       "        vertical-align: top;\n",
       "    }\n",
       "\n",
       "    .dataframe thead th {\n",
       "        text-align: right;\n",
       "    }\n",
       "</style>\n",
       "<table border=\"1\" class=\"dataframe\">\n",
       "  <thead>\n",
       "    <tr style=\"text-align: right;\">\n",
       "      <th></th>\n",
       "      <th>track_id</th>\n",
       "      <th>track_name</th>\n",
       "      <th>track_genre</th>\n",
       "      <th>playlist_id</th>\n",
       "      <th>author_id</th>\n",
       "      <th>likes_count</th>\n",
       "      <th>playback_count</th>\n",
       "      <th>download_count</th>\n",
       "      <th>created_date</th>\n",
       "    </tr>\n",
       "  </thead>\n",
       "  <tbody>\n",
       "    <tr>\n",
       "      <th>DataType</th>\n",
       "      <td>int64</td>\n",
       "      <td>object</td>\n",
       "      <td>object</td>\n",
       "      <td>int64</td>\n",
       "      <td>int64</td>\n",
       "      <td>float64</td>\n",
       "      <td>float64</td>\n",
       "      <td>float64</td>\n",
       "      <td>object</td>\n",
       "    </tr>\n",
       "    <tr>\n",
       "      <th>NaN counts</th>\n",
       "      <td>0</td>\n",
       "      <td>0</td>\n",
       "      <td>6623</td>\n",
       "      <td>0</td>\n",
       "      <td>0</td>\n",
       "      <td>882</td>\n",
       "      <td>882</td>\n",
       "      <td>882</td>\n",
       "      <td>0</td>\n",
       "    </tr>\n",
       "  </tbody>\n",
       "</table>\n",
       "</div>"
      ],
      "text/plain": [
       "           track_id track_name track_genre playlist_id author_id likes_count  \\\n",
       "DataType      int64     object      object       int64     int64     float64   \n",
       "NaN counts        0          0        6623           0         0         882   \n",
       "\n",
       "           playback_count download_count created_date  \n",
       "DataType          float64        float64       object  \n",
       "NaN counts            882            882            0  "
      ]
     },
     "execution_count": 214,
     "metadata": {},
     "output_type": "execute_result"
    }
   ],
   "source": [
    "pd.DataFrame([df_track.dtypes, df_track.isna().sum()], index= ['DataType', 'NaN counts'])"
   ]
  },
  {
   "cell_type": "code",
   "execution_count": 215,
   "metadata": {},
   "outputs": [
    {
     "data": {
      "text/html": [
       "<div>\n",
       "<style scoped>\n",
       "    .dataframe tbody tr th:only-of-type {\n",
       "        vertical-align: middle;\n",
       "    }\n",
       "\n",
       "    .dataframe tbody tr th {\n",
       "        vertical-align: top;\n",
       "    }\n",
       "\n",
       "    .dataframe thead th {\n",
       "        text-align: right;\n",
       "    }\n",
       "</style>\n",
       "<table border=\"1\" class=\"dataframe\">\n",
       "  <thead>\n",
       "    <tr style=\"text-align: right;\">\n",
       "      <th></th>\n",
       "      <th>user_id</th>\n",
       "      <th>full_name</th>\n",
       "      <th>username</th>\n",
       "      <th>track_id</th>\n",
       "      <th>followers_count</th>\n",
       "    </tr>\n",
       "  </thead>\n",
       "  <tbody>\n",
       "    <tr>\n",
       "      <th>DataType</th>\n",
       "      <td>int64</td>\n",
       "      <td>object</td>\n",
       "      <td>object</td>\n",
       "      <td>int64</td>\n",
       "      <td>int64</td>\n",
       "    </tr>\n",
       "    <tr>\n",
       "      <th>NaN counts</th>\n",
       "      <td>0</td>\n",
       "      <td>15728</td>\n",
       "      <td>0</td>\n",
       "      <td>0</td>\n",
       "      <td>0</td>\n",
       "    </tr>\n",
       "  </tbody>\n",
       "</table>\n",
       "</div>"
      ],
      "text/plain": [
       "           user_id full_name username track_id followers_count\n",
       "DataType     int64    object   object    int64           int64\n",
       "NaN counts       0     15728        0        0               0"
      ]
     },
     "execution_count": 215,
     "metadata": {},
     "output_type": "execute_result"
    }
   ],
   "source": [
    "pd.DataFrame([df_user.dtypes, df_user.isna().sum()], index= ['DataType', 'NaN counts'])"
   ]
  },
  {
   "cell_type": "markdown",
   "metadata": {},
   "source": [
    "### Xử lý dòng bị thiếu dữ liệu "
   ]
  },
  {
   "cell_type": "markdown",
   "metadata": {},
   "source": [
    "### a) Loại dòng thiếu dữ liệu"
   ]
  },
  {
   "cell_type": "markdown",
   "metadata": {},
   "source": [
    "-  File `playlist.csv`: từ mô tả thuộc tính và kiểu dữ liệu của `track_ids`, thì cần loại đi các playlist không có track nào (tức thuộc tính `track_ids` bị thiếu). Ngoài ra, cũng có 2706 dòng bị thiếu thuộc tính `genre` nhưng qua quan sát sơ bộ file `playlist.csv`, hầu hết tên các playlist (`playlist_name`) sẽ được đặt theo tên thể loại nhạc nên ta sẽ không xóa các dòng thiếu thuộc tính `genre`"
   ]
  },
  {
   "cell_type": "code",
   "execution_count": 216,
   "metadata": {},
   "outputs": [
    {
     "data": {
      "text/plain": [
       "(3334, 5)"
      ]
     },
     "execution_count": 216,
     "metadata": {},
     "output_type": "execute_result"
    }
   ],
   "source": [
    "df_playlist = df_playlist[df_playlist['track_ids'].notna()]\n",
    "df_playlist.shape"
   ]
  },
  {
   "cell_type": "markdown",
   "metadata": {},
   "source": [
    "- File `track.csv`: tương tự với cách giải thích của `playlist.csv`, ta sẽ không xóa các dòng thiếu thuộc tính `track_genre`. Tuy nhiên sẽ xóa các dòng thiếu thuộc tính likes_count, playback_count, download_count vì đây là các thuộc tính numeric quan trọng cho bước khám phá dữ liệu sau này"
   ]
  },
  {
   "cell_type": "code",
   "execution_count": 217,
   "metadata": {},
   "outputs": [
    {
     "data": {
      "text/plain": [
       "(45933, 9)"
      ]
     },
     "execution_count": 217,
     "metadata": {},
     "output_type": "execute_result"
    }
   ],
   "source": [
    "df_track = df_track[(df_track['likes_count'].notna()) & (df_track['playback_count'].notna()) & (df_track['download_count'].notna())]\n",
    "df_track.shape"
   ]
  },
  {
   "cell_type": "markdown",
   "metadata": {},
   "source": [
    "- File `user.csv`: không xóa dòng nào vì tuy các user có thể không có tên `full_name` nhưng ta vẫn có thể thao tác với dataframe df_user dựa vào định danh của user đó (tức `user_id`) "
   ]
  },
  {
   "cell_type": "markdown",
   "metadata": {},
   "source": [
    "### b) Thay thế giá trị trùng thành 1 giá trị khác"
   ]
  },
  {
   "cell_type": "markdown",
   "metadata": {},
   "source": [
    "- Trong file `playlist.csv`, do cột genre bị thiếu khá nhiều (2706/3372) nên ta không loại các dòng thiếu genre được vì sẽ không đủ dữ liệu. Ngoài ra, có 2 vấn đề phát sinh \n",
    "    - _Vấn đề 1_: cột `genre` bị thiếu khá nhiều (2706/3372) nên ta không loại các dòng thiếu `genre` được vì sẽ không đủ dữ liệu để phân tích sau này \n",
    "    <br>=> Giải pháp: nội suy từ cột `playlist_name`. Từ quan sát file, thấy rằng hầu hết tên playlist có xu hướng thể hiện luôn thể loại của playlist đó. VD: `playlist_name` = *\"Hip Hop Supreme\"* thì có thể nội suy được thể loại là **hiphop**\n",
    "    - _Vấn đề 2_: từ vấn đề 1, thấy rằng ở các playlist thiếu thuộc tính `genre` có thể mang nhiều thể loại. VD: `playlist_name` = *\"| Chill | Lofi | Hip Hop |\"* thì playlist đó có tới 3 thể loại: **[chill, lofi, hiphop]**. Ngoài ra, kể cả khi playlist có thuộc tính `genre` (VD: `genre` = *\"LoFi hip hop\"*) thì thấy rằng playlist vẫn có thể mang thuộc về nhiều thể loại\n",
    "    <br>=> Giải pháp: ta cần phân rã (pd.explode()) cột `genre` phòng trường hợp 1 playlist thuộc nhiều thể loại\n",
    "    - _Vấn đề 3_: giả sử giải quyết được 2 vấn đề trên thì thấy rằng tên thể loại vẫn chưa đồng nhất (VD: `genre` = *\"Blue's_Music\"* và `genre` = *\"blues\"*)\n",
    "    <br>=> Giải pháp: cần 1 file `keywords.txt` để lưu cứng tên của các thể loại nhạc sẽ xuất hiện trong chuỗi string `genre` (file này được lấy từ project 1 và được tinh chỉnh lại để phù hợp). Ta sẽ chuẩn hóa thể loại dựa vào file này: xét chuỗi thể loại (VD: `genre` = *\"Hip-hop & Rap\"*), nếu chuỗi thể loại này chứa bất kỳ chuỗi con trong `keywords.txt` (VD: *\"hiphop\"* và *\"rap\"*) thì thể loại sẽ được thay bằng (tập) chuỗi con ấy (VD: `genre` sau khi chuẩn hóa = *[\"hiphop\", \"rap\"]*)\n",
    "- Kết hợp cả 3 giải pháp trên, ta được cách xử lý sau: \n",
    "    - Cộng 2 cột 'playlist_name' & 'genre', nếu 'genre' là NaN thì coi như chuỗi rỗng, kết quả cộng chuỗi lưu vào `df_playlist['genre']`\n",
    "    - Chuẩn hóa `name_genre` theo giải pháp 3, kết quả sau khi chuẩn hóa là 1 list, lưu lại vào `name_genre`. Sau khi chuẩn hóa có thể vẫn tồn tại NaN nhưng ít hơn (NaN tồn tại là vì cột `playlist_name` không chứa thể loại nhạc nào nên không nội suy được + cột `genre` bị rỗng). Tiến hành bỏ đi các dòng chứa NaN này\n"
   ]
  },
  {
   "cell_type": "code",
   "execution_count": 218,
   "metadata": {},
   "outputs": [],
   "source": [
    "with open('data/keywords.txt', encoding= 'utf-8') as f:\n",
    "    keywords = f.readlines()\n",
    "keywords = [item.strip('\\n').strip(' ') for item in keywords]"
   ]
  },
  {
   "cell_type": "code",
   "execution_count": 219,
   "metadata": {},
   "outputs": [
    {
     "data": {
      "text/plain": [
       "0          Best Rap Right Now: Drippin'Hip-hop & Rap\n",
       "1                                    Hip Hop Supreme\n",
       "2                   Lowfi hip hop chillsLofi Hip Hop\n",
       "3       Hip-Hop Party Starters: Turn UpHip-hop & Rap\n",
       "4                    Study & Chill | Lofi HiphopLofi\n",
       "                            ...                     \n",
       "3367                 South East Asia Travel Findings\n",
       "3368                           South East Asia music\n",
       "3369                                 South East Asia\n",
       "3370                                 South East Asia\n",
       "3371                                 Tunes SouthEast\n",
       "Length: 3334, dtype: object"
      ]
     },
     "execution_count": 219,
     "metadata": {},
     "output_type": "execute_result"
    }
   ],
   "source": [
    "# namegenre = playlist_name + playlist_genre\n",
    "name_genre = df_playlist.apply(lambda row: row['playlist_name'] if pd.isna(row['genre']) else row['playlist_name'] + row['genre'], axis = 1)\n",
    "name_genre"
   ]
  },
  {
   "cell_type": "code",
   "execution_count": 220,
   "metadata": {},
   "outputs": [
    {
     "name": "stdout",
     "output_type": "stream",
     "text": [
      "playlist_id        0\n",
      "playlist_name      0\n",
      "genre            513\n",
      "likes_count        0\n",
      "track_ids          0\n",
      "dtype: int64\n"
     ]
    },
    {
     "data": {
      "text/html": [
       "<div>\n",
       "<style scoped>\n",
       "    .dataframe tbody tr th:only-of-type {\n",
       "        vertical-align: middle;\n",
       "    }\n",
       "\n",
       "    .dataframe tbody tr th {\n",
       "        vertical-align: top;\n",
       "    }\n",
       "\n",
       "    .dataframe thead th {\n",
       "        text-align: right;\n",
       "    }\n",
       "</style>\n",
       "<table border=\"1\" class=\"dataframe\">\n",
       "  <thead>\n",
       "    <tr style=\"text-align: right;\">\n",
       "      <th></th>\n",
       "      <th>playlist_id</th>\n",
       "      <th>playlist_name</th>\n",
       "      <th>genre</th>\n",
       "      <th>likes_count</th>\n",
       "      <th>track_ids</th>\n",
       "    </tr>\n",
       "  </thead>\n",
       "  <tbody>\n",
       "    <tr>\n",
       "      <th>0</th>\n",
       "      <td>730118454</td>\n",
       "      <td>Best Rap Right Now: Drippin'</td>\n",
       "      <td>hiphop</td>\n",
       "      <td>385829</td>\n",
       "      <td>1134572425,1137390457,1144461559,1150000726,11...</td>\n",
       "    </tr>\n",
       "    <tr>\n",
       "      <th>0</th>\n",
       "      <td>730118454</td>\n",
       "      <td>Best Rap Right Now: Drippin'</td>\n",
       "      <td>rap</td>\n",
       "      <td>385829</td>\n",
       "      <td>1134572425,1137390457,1144461559,1150000726,11...</td>\n",
       "    </tr>\n",
       "    <tr>\n",
       "      <th>1</th>\n",
       "      <td>380154338</td>\n",
       "      <td>Hip Hop Supreme</td>\n",
       "      <td>hiphop</td>\n",
       "      <td>178944</td>\n",
       "      <td>594112890,596212962,593601912,597082389,597563...</td>\n",
       "    </tr>\n",
       "    <tr>\n",
       "      <th>2</th>\n",
       "      <td>306226961</td>\n",
       "      <td>Lowfi hip hop chills</td>\n",
       "      <td>hiphop</td>\n",
       "      <td>204029</td>\n",
       "      <td>216774635,406234053,755194606,266707458,670884...</td>\n",
       "    </tr>\n",
       "    <tr>\n",
       "      <th>2</th>\n",
       "      <td>306226961</td>\n",
       "      <td>Lowfi hip hop chills</td>\n",
       "      <td>chill</td>\n",
       "      <td>204029</td>\n",
       "      <td>216774635,406234053,755194606,266707458,670884...</td>\n",
       "    </tr>\n",
       "    <tr>\n",
       "      <th>...</th>\n",
       "      <td>...</td>\n",
       "      <td>...</td>\n",
       "      <td>...</td>\n",
       "      <td>...</td>\n",
       "      <td>...</td>\n",
       "    </tr>\n",
       "    <tr>\n",
       "      <th>3366</th>\n",
       "      <td>503370612</td>\n",
       "      <td>SOUTH EAST ASIA</td>\n",
       "      <td>asia</td>\n",
       "      <td>1</td>\n",
       "      <td>298786858,813312181</td>\n",
       "    </tr>\n",
       "    <tr>\n",
       "      <th>3367</th>\n",
       "      <td>17969127</td>\n",
       "      <td>South East Asia Travel Findings</td>\n",
       "      <td>asia</td>\n",
       "      <td>0</td>\n",
       "      <td>10764237</td>\n",
       "    </tr>\n",
       "    <tr>\n",
       "      <th>3368</th>\n",
       "      <td>774255861</td>\n",
       "      <td>South East Asia music</td>\n",
       "      <td>asia</td>\n",
       "      <td>0</td>\n",
       "      <td>485316636</td>\n",
       "    </tr>\n",
       "    <tr>\n",
       "      <th>3369</th>\n",
       "      <td>345496216</td>\n",
       "      <td>South East Asia</td>\n",
       "      <td>asia</td>\n",
       "      <td>0</td>\n",
       "      <td>315565008</td>\n",
       "    </tr>\n",
       "    <tr>\n",
       "      <th>3370</th>\n",
       "      <td>355570337</td>\n",
       "      <td>South East Asia</td>\n",
       "      <td>asia</td>\n",
       "      <td>0</td>\n",
       "      <td>315565008</td>\n",
       "    </tr>\n",
       "  </tbody>\n",
       "</table>\n",
       "<p>4164 rows × 5 columns</p>\n",
       "</div>"
      ],
      "text/plain": [
       "      playlist_id                    playlist_name   genre  likes_count  \\\n",
       "0       730118454     Best Rap Right Now: Drippin'  hiphop       385829   \n",
       "0       730118454     Best Rap Right Now: Drippin'     rap       385829   \n",
       "1       380154338                  Hip Hop Supreme  hiphop       178944   \n",
       "2       306226961             Lowfi hip hop chills  hiphop       204029   \n",
       "2       306226961             Lowfi hip hop chills   chill       204029   \n",
       "...           ...                              ...     ...          ...   \n",
       "3366    503370612                  SOUTH EAST ASIA    asia            1   \n",
       "3367     17969127  South East Asia Travel Findings    asia            0   \n",
       "3368    774255861            South East Asia music    asia            0   \n",
       "3369    345496216                  South East Asia    asia            0   \n",
       "3370    355570337                  South East Asia    asia            0   \n",
       "\n",
       "                                              track_ids  \n",
       "0     1134572425,1137390457,1144461559,1150000726,11...  \n",
       "0     1134572425,1137390457,1144461559,1150000726,11...  \n",
       "1     594112890,596212962,593601912,597082389,597563...  \n",
       "2     216774635,406234053,755194606,266707458,670884...  \n",
       "2     216774635,406234053,755194606,266707458,670884...  \n",
       "...                                                 ...  \n",
       "3366                                298786858,813312181  \n",
       "3367                                           10764237  \n",
       "3368                                          485316636  \n",
       "3369                                          315565008  \n",
       "3370                                          315565008  \n",
       "\n",
       "[4164 rows x 5 columns]"
      ]
     },
     "execution_count": 220,
     "metadata": {},
     "output_type": "execute_result"
    }
   ],
   "source": [
    "def list_genres(genre_str):\n",
    "    res = []\n",
    "\n",
    "    for keyword in keywords:\n",
    "        if keyword in genre_str:\n",
    "            res.append(keyword)\n",
    "\n",
    "    return res\n",
    "\n",
    "df_playlist['genre'] = name_genre.apply(lambda val: list_genres(re.sub(r'(hip-hop|hip hop)', 'hiphop', val.lower())))\n",
    "print(\"Số lượng NaN từng cột:\")\n",
    "print(df_playlist.explode('genre').isna().sum())\n",
    "df_playlist = df_playlist.explode('genre').dropna()\n",
    "\n",
    "df_playlist"
   ]
  },
  {
   "cell_type": "markdown",
   "metadata": {},
   "source": [
    "### Chuyển đổi kiểu dữ liệu cho phù hợp\n"
   ]
  },
  {
   "cell_type": "markdown",
   "metadata": {},
   "source": [
    "- File `playlist.csv`: từ mô tả thuộc tính và kiểu dữ liệu của `track_ids`, thì cần đổi kiểu dữ liệu của thuộc tính `track_ids` từ **string** sang dạng **list các số nguyên**"
   ]
  },
  {
   "cell_type": "code",
   "execution_count": 221,
   "metadata": {},
   "outputs": [],
   "source": [
    "df_playlist['track_ids'] = df_playlist['track_ids'].apply(lambda x: [int(item) for item in x.split(',')])"
   ]
  },
  {
   "cell_type": "markdown",
   "metadata": {},
   "source": [
    "- File `track.csv`: \n",
    "    - Cần đổi kiểu dữ liệu của 2 cột `likes_count`, `playback_count`từ **float** sang **int**\n",
    "    - Cần đổi kiểu dữ liệu của `created_date` sang kiểu **datetime**"
   ]
  },
  {
   "cell_type": "code",
   "execution_count": 222,
   "metadata": {},
   "outputs": [],
   "source": [
    "df_track[['likes_count', 'playback_count', 'download_count']] = df_track[['likes_count', 'playback_count', 'download_count']].astype(int)\n",
    "df_track['created_date'] = pd.to_datetime(df_track['created_date'])\n",
    "# df_track[['likes_count', 'playback_count', 'download_count', 'created_date']].head()"
   ]
  },
  {
   "cell_type": "markdown",
   "metadata": {},
   "source": [
    "### Kiểm tra ngoại lệ"
   ]
  },
  {
   "cell_type": "code",
   "execution_count": 223,
   "metadata": {},
   "outputs": [],
   "source": [
    "# SOMETHING HERE"
   ]
  },
  {
   "cell_type": "markdown",
   "metadata": {},
   "source": [
    "# II. KHÁM PHÁ DỮ LIỆU"
   ]
  },
  {
   "cell_type": "code",
   "execution_count": 224,
   "metadata": {},
   "outputs": [
    {
     "data": {
      "image/png": "[encoded data removed]",
      "text/plain": [
       "<Figure size 1080x936 with 1 Axes>"
      ]
     },
     "metadata": {
      "needs_background": "light"
     },
     "output_type": "display_data"
    }
   ],
   "source": [
    "genre_stat = df_playlist['genre'].value_counts()\n",
    "plt.figure(figsize=(15, 13))\n",
    "a = plt.barh(genre_stat.index, genre_stat)"
   ]
  }
 ],
 "metadata": {
  "interpreter": {
   "hash": "dcacb0086e9a4f4eabd41c33bf4faac5ea0a3337ed3f5eff0680afa930572c04"
  },
  "kernelspec": {
   "display_name": "Python 3.9.6 64-bit",
   "language": "python",
   "name": "python3"
  },
  "language_info": {
   "codemirror_mode": {
    "name": "ipython",
    "version": 3
   },
   "file_extension": ".py",
   "mimetype": "text/x-python",
   "name": "python",
   "nbconvert_exporter": "python",
   "pygments_lexer": "ipython3",
   "version": "3.8.8"
  },
  "orig_nbformat": 4
 },
 "nbformat": 4,
 "nbformat_minor": 2
}
