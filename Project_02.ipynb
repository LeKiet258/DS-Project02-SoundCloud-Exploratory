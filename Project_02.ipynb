{
 "cells": [
  {
   "cell_type": "markdown",
   "metadata": {},
   "source": [
    "# THƯ VIỆN CẦN THIẾT"
   ]
  },
  {
   "cell_type": "code",
   "execution_count": 27,
   "metadata": {},
   "outputs": [],
   "source": [
    "import pandas as pd\n",
    "import numpy as np\n",
    "import matplotlib.pyplot as plt\n",
    "import re\n",
    "import seaborn as sns"
   ]
  },
  {
   "cell_type": "markdown",
   "metadata": {},
   "source": [
    "# PHÂN TÍCH DỮ LIỆU\n",
    "- [INSERT MÔ TẢ SƠ BỘ VỀ 3 FILE/CÁC CÂU HỎI/CÁC BƯỚC LÀM]"
   ]
  },
  {
   "cell_type": "markdown",
   "metadata": {},
   "source": [
    "## I. TIỀN XỬ LÝ DỮ LIỆU\n",
    "### Dữ liệu có bao nhiêu dòng, bao nhiêu cột?"
   ]
  },
  {
   "cell_type": "code",
   "execution_count": 28,
   "metadata": {},
   "outputs": [
    {
     "data": {
      "text/plain": [
       "((6777, 6), (46544, 11), (22161, 7))"
      ]
     },
     "execution_count": 28,
     "metadata": {},
     "output_type": "execute_result"
    }
   ],
   "source": [
    "df_playlist = pd.read_csv(\"data/playlist.csv\")\n",
    "df_track    = pd.read_csv(\"data/track.csv\")\n",
    "df_user     = pd.read_csv(\"data/user.csv\")\n",
    "\n",
    "df_playlist.shape, df_track.shape, df_user.shape"
   ]
  },
  {
   "cell_type": "markdown",
   "metadata": {},
   "source": [
    "### Các file dữ liệu có các dòng nào bị trùng lắp hoàn toàn không?\n",
    "- Thấy rằng từ output, không có dòng nào bị trùng lắp hoàn toàn trong từng file dữ liệu"
   ]
  },
  {
   "cell_type": "code",
   "execution_count": 29,
   "metadata": {},
   "outputs": [
    {
     "data": {
      "text/plain": [
       "(0, 0, 0)"
      ]
     },
     "execution_count": 29,
     "metadata": {},
     "output_type": "execute_result"
    }
   ],
   "source": [
    "df_playlist.duplicated().sum(), df_track.duplicated().sum(), df_user.duplicated().sum()"
   ]
  },
  {
   "cell_type": "markdown",
   "metadata": {},
   "source": [
    "### Mỗi cột thuộc kiểu dữ liệu nào? Có cột nào bị thiếu dữ liệu không?\n",
    "- Với mỗi file, kết hợp 2 công việc này vào 1 dataframe. Dataframe này gồm các cột chính là các cột thuộc tính trong lần lượt 3 file x 2 hàng có tên: \n",
    "    - `DataType` - thể hiện kiểu dữ liệu của các thuộc tính trong file\n",
    "    - `NaN counts` - đếm số lượng dữ liệu thiếu tại mỗi cột  \n",
    "- Theo đồ án 1, ý nghĩa của mỗi thuộc tính trong mỗi file như sau:\n",
    "    - `playlist.csv`:\n",
    "        - `id`: mã của playlist đó, mã này dùng để phân biệt với các playlist khác, mỗi playlist sẽ có một mã số `id` duy nhất.\n",
    "        - `name`: là tên của playlist đó (trong trường hợp playlist đó không có tên thì ta gán `name` là `null`).\n",
    "        - `genre`: là thể loại của playlist đó (trong trường hợp playlist đó chưa được đặt thể loại thì ta gán `genre` là `null`).\n",
    "        - `likes_count`: tổng số lượt likes của playlist\n",
    "        - `track_ids`: là chuỗi gồm danh sách các track có track_id nằm trong playlist đó.\n",
    "    - `track.csv`:\n",
    "        - `id`: id của track. Lưu ý 1 track có thể nằm trong nhiều playlist\n",
    "        - `name`: tên track\n",
    "        - `genre`: thể loại track\n",
    "        - `playlist_id`: playlist_id mà track có mã là `id` thuộc về\n",
    "        - `author_id`: mỗi track có 1 user có mã đại diện là `author_id` phụ trách\n",
    "        - `likes_count`: tổng số lượt likes của track\n",
    "        - `playback_count`: tổng số lượt replay của track\n",
    "        - `download_count`: tổng số lượt tải về track đó\n",
    "        - `created_date`: ngày track đó được tạo\n",
    "    - `user.csv`:\n",
    "        - `id`: mã người dùng, là duy nhất. Lưu ý 1 người dùng có thể phụ trách 1 hoặc nhiều track\n",
    "        - `full_name`: họ và tên user\n",
    "        - `username`: tên tài khoản user\n",
    "        - `track_id`: track mà user \n",
    "        - `followers_count`: số lượng người theo dõi user đó"
   ]
  },
  {
   "cell_type": "code",
   "execution_count": 30,
   "metadata": {},
   "outputs": [
    {
     "data": {
      "text/html": [
       "<div>\n",
       "<style scoped>\n",
       "    .dataframe tbody tr th:only-of-type {\n",
       "        vertical-align: middle;\n",
       "    }\n",
       "\n",
       "    .dataframe tbody tr th {\n",
       "        vertical-align: top;\n",
       "    }\n",
       "\n",
       "    .dataframe thead th {\n",
       "        text-align: right;\n",
       "    }\n",
       "</style>\n",
       "<table border=\"1\" class=\"dataframe\">\n",
       "  <thead>\n",
       "    <tr style=\"text-align: right;\">\n",
       "      <th></th>\n",
       "      <th>playlist_id</th>\n",
       "      <th>playlist_name</th>\n",
       "      <th>genre</th>\n",
       "      <th>likes_count</th>\n",
       "      <th>reposts_count</th>\n",
       "      <th>track_ids</th>\n",
       "    </tr>\n",
       "  </thead>\n",
       "  <tbody>\n",
       "    <tr>\n",
       "      <th>type</th>\n",
       "      <td>int64</td>\n",
       "      <td>object</td>\n",
       "      <td>object</td>\n",
       "      <td>int64</td>\n",
       "      <td>int64</td>\n",
       "      <td>object</td>\n",
       "    </tr>\n",
       "    <tr>\n",
       "      <th>missing percentage</th>\n",
       "      <td>0.0</td>\n",
       "      <td>0.0</td>\n",
       "      <td>82.22</td>\n",
       "      <td>0.0</td>\n",
       "      <td>0.0</td>\n",
       "      <td>0.97</td>\n",
       "    </tr>\n",
       "  </tbody>\n",
       "</table>\n",
       "</div>"
      ],
      "text/plain": [
       "                   playlist_id playlist_name   genre likes_count  \\\n",
       "type                     int64        object  object       int64   \n",
       "missing percentage         0.0           0.0   82.22         0.0   \n",
       "\n",
       "                   reposts_count track_ids  \n",
       "type                       int64    object  \n",
       "missing percentage           0.0      0.97  "
      ]
     },
     "execution_count": 30,
     "metadata": {},
     "output_type": "execute_result"
    }
   ],
   "source": [
    "pd.DataFrame([df_playlist.dtypes, (df_playlist.isna().sum()/df_playlist.shape[0]*100).round(2)], index= ['type', 'missing percentage'])"
   ]
  },
  {
   "cell_type": "code",
   "execution_count": 31,
   "metadata": {},
   "outputs": [
    {
     "data": {
      "text/html": [
       "<div>\n",
       "<style scoped>\n",
       "    .dataframe tbody tr th:only-of-type {\n",
       "        vertical-align: middle;\n",
       "    }\n",
       "\n",
       "    .dataframe tbody tr th {\n",
       "        vertical-align: top;\n",
       "    }\n",
       "\n",
       "    .dataframe thead th {\n",
       "        text-align: right;\n",
       "    }\n",
       "</style>\n",
       "<table border=\"1\" class=\"dataframe\">\n",
       "  <thead>\n",
       "    <tr style=\"text-align: right;\">\n",
       "      <th></th>\n",
       "      <th>track_id</th>\n",
       "      <th>track_name</th>\n",
       "      <th>track_genre</th>\n",
       "      <th>playlist_id</th>\n",
       "      <th>author_id</th>\n",
       "      <th>likes_count</th>\n",
       "      <th>playback_count</th>\n",
       "      <th>download_count</th>\n",
       "      <th>reposts_count</th>\n",
       "      <th>comment_count</th>\n",
       "      <th>created_date</th>\n",
       "    </tr>\n",
       "  </thead>\n",
       "  <tbody>\n",
       "    <tr>\n",
       "      <th>type</th>\n",
       "      <td>int64</td>\n",
       "      <td>object</td>\n",
       "      <td>object</td>\n",
       "      <td>int64</td>\n",
       "      <td>int64</td>\n",
       "      <td>float64</td>\n",
       "      <td>float64</td>\n",
       "      <td>float64</td>\n",
       "      <td>int64</td>\n",
       "      <td>float64</td>\n",
       "      <td>object</td>\n",
       "    </tr>\n",
       "    <tr>\n",
       "      <th>missing percentage</th>\n",
       "      <td>0.0</td>\n",
       "      <td>0.0</td>\n",
       "      <td>14.41</td>\n",
       "      <td>0.0</td>\n",
       "      <td>0.0</td>\n",
       "      <td>1.84</td>\n",
       "      <td>1.84</td>\n",
       "      <td>1.84</td>\n",
       "      <td>0.0</td>\n",
       "      <td>2.11</td>\n",
       "      <td>0.0</td>\n",
       "    </tr>\n",
       "  </tbody>\n",
       "</table>\n",
       "</div>"
      ],
      "text/plain": [
       "                   track_id track_name track_genre playlist_id author_id  \\\n",
       "type                  int64     object      object       int64     int64   \n",
       "missing percentage      0.0        0.0       14.41         0.0       0.0   \n",
       "\n",
       "                   likes_count playback_count download_count reposts_count  \\\n",
       "type                   float64        float64        float64         int64   \n",
       "missing percentage        1.84           1.84           1.84           0.0   \n",
       "\n",
       "                   comment_count created_date  \n",
       "type                     float64       object  \n",
       "missing percentage          2.11          0.0  "
      ]
     },
     "execution_count": 31,
     "metadata": {},
     "output_type": "execute_result"
    }
   ],
   "source": [
    "pd.DataFrame([df_track.dtypes, (df_track.isna().sum()/df_track.shape[0]*100).round(2)], index= ['type', 'missing percentage'])"
   ]
  },
  {
   "cell_type": "code",
   "execution_count": 32,
   "metadata": {},
   "outputs": [
    {
     "data": {
      "text/html": [
       "<div>\n",
       "<style scoped>\n",
       "    .dataframe tbody tr th:only-of-type {\n",
       "        vertical-align: middle;\n",
       "    }\n",
       "\n",
       "    .dataframe tbody tr th {\n",
       "        vertical-align: top;\n",
       "    }\n",
       "\n",
       "    .dataframe thead th {\n",
       "        text-align: right;\n",
       "    }\n",
       "</style>\n",
       "<table border=\"1\" class=\"dataframe\">\n",
       "  <thead>\n",
       "    <tr style=\"text-align: right;\">\n",
       "      <th></th>\n",
       "      <th>user_id</th>\n",
       "      <th>full_name</th>\n",
       "      <th>username</th>\n",
       "      <th>followers_count</th>\n",
       "      <th>track_count</th>\n",
       "      <th>country_code</th>\n",
       "      <th>verified</th>\n",
       "    </tr>\n",
       "  </thead>\n",
       "  <tbody>\n",
       "    <tr>\n",
       "      <th>type</th>\n",
       "      <td>int64</td>\n",
       "      <td>object</td>\n",
       "      <td>object</td>\n",
       "      <td>int64</td>\n",
       "      <td>int64</td>\n",
       "      <td>object</td>\n",
       "      <td>bool</td>\n",
       "    </tr>\n",
       "    <tr>\n",
       "      <th>missing percentage</th>\n",
       "      <td>0.0</td>\n",
       "      <td>38.55</td>\n",
       "      <td>0.0</td>\n",
       "      <td>0.0</td>\n",
       "      <td>0.0</td>\n",
       "      <td>41.69</td>\n",
       "      <td>0.0</td>\n",
       "    </tr>\n",
       "  </tbody>\n",
       "</table>\n",
       "</div>"
      ],
      "text/plain": [
       "                   user_id full_name username followers_count track_count  \\\n",
       "type                 int64    object   object           int64       int64   \n",
       "missing percentage     0.0     38.55      0.0             0.0         0.0   \n",
       "\n",
       "                   country_code verified  \n",
       "type                     object     bool  \n",
       "missing percentage        41.69      0.0  "
      ]
     },
     "execution_count": 32,
     "metadata": {},
     "output_type": "execute_result"
    }
   ],
   "source": [
    "pd.DataFrame([df_user.dtypes, (df_user.isna().sum()/df_user.shape[0]*100).round(2)], index= ['type', 'missing percentage'])"
   ]
  },
  {
   "cell_type": "markdown",
   "metadata": {},
   "source": [
    "### Xử lý dòng bị thiếu dữ liệu "
   ]
  },
  {
   "cell_type": "markdown",
   "metadata": {},
   "source": [
    "### a) Loại dòng thiếu dữ liệu"
   ]
  },
  {
   "cell_type": "markdown",
   "metadata": {},
   "source": [
    "-  File `playlist.csv`: từ mô tả thuộc tính và kiểu dữ liệu của `track_ids`, thì cần loại đi các playlist không có track nào (tức thuộc tính `track_ids` bị thiếu). Ngoài ra, cũng có 2706 dòng bị thiếu thuộc tính `genre` nhưng qua quan sát sơ bộ file `playlist.csv`, hầu hết tên các playlist (`playlist_name`) sẽ được đặt theo tên thể loại nhạc nên ta sẽ không xóa các dòng thiếu thuộc tính `genre`"
   ]
  },
  {
   "cell_type": "code",
   "execution_count": 33,
   "metadata": {},
   "outputs": [
    {
     "data": {
      "text/plain": [
       "(6711, 6)"
      ]
     },
     "execution_count": 33,
     "metadata": {},
     "output_type": "execute_result"
    }
   ],
   "source": [
    "df_playlist = df_playlist.dropna(subset=['track_ids'])\n",
    "df_playlist.shape"
   ]
  },
  {
   "cell_type": "markdown",
   "metadata": {},
   "source": [
    "- File `track.csv`: tương tự với cách giải thích của `playlist.csv`, ta sẽ không xóa các dòng thiếu thuộc tính `track_genre`. Tuy nhiên sẽ xóa các dòng thiếu thuộc tính likes_count, playback_count, download_count vì đây là các thuộc tính numeric quan trọng cho bước khám phá dữ liệu sau này"
   ]
  },
  {
   "cell_type": "code",
   "execution_count": 34,
   "metadata": {},
   "outputs": [
    {
     "data": {
      "text/plain": [
       "(39060, 11)"
      ]
     },
     "execution_count": 34,
     "metadata": {},
     "output_type": "execute_result"
    }
   ],
   "source": [
    "df_track = df_track.dropna(subset= ['track_genre', 'likes_count', 'playback_count', 'download_count', 'comment_count'])\n",
    "df_track.shape"
   ]
  },
  {
   "cell_type": "markdown",
   "metadata": {},
   "source": [
    "- File `user.csv`: không xóa dòng nào vì tuy các user có thể không có tên `full_name` nhưng ta vẫn có thể thao tác với dataframe df_user dựa vào định danh của user đó (tức `user_id`) "
   ]
  },
  {
   "cell_type": "markdown",
   "metadata": {},
   "source": [
    "### b) Thay thế giá trị thiếu thành 1 giá trị khác"
   ]
  },
  {
   "cell_type": "markdown",
   "metadata": {},
   "source": [
    "- Trong file `playlist.csv`, do cột genre bị thiếu khá nhiều (2706/3372) nên ta không loại các dòng thiếu genre được vì sẽ không đủ dữ liệu. Ngoài ra, có 2 vấn đề phát sinh \n",
    "    - _Vấn đề 1_: cột `genre` bị thiếu khá nhiều (2706/3372) nên ta không loại các dòng thiếu `genre` được vì sẽ không đủ dữ liệu để phân tích sau này \n",
    "    <br>=> Giải pháp: nội suy từ cột `playlist_name`. Từ quan sát file, thấy rằng hầu hết tên playlist có xu hướng thể hiện luôn thể loại của playlist đó. VD: `playlist_name` = *\"Hip Hop Supreme\"* thì có thể nội suy được thể loại là **hiphop**\n",
    "    - _Vấn đề 2_: từ vấn đề 1, thấy rằng ở các playlist thiếu thuộc tính `genre` có thể mang nhiều thể loại. VD: `playlist_name` = *\"| Chill | Lofi | Hip Hop |\"* thì playlist đó có tới 3 thể loại: **[chill, lofi, hiphop]**. Ngoài ra, kể cả khi playlist có thuộc tính `genre` (VD: `genre` = *\"LoFi hip hop\"*) thì thấy rằng playlist vẫn có thể mang thuộc về nhiều thể loại\n",
    "    <br>=> Giải pháp: ta cần phân rã (pd.explode()) cột `genre` phòng trường hợp 1 playlist thuộc nhiều thể loại\n",
    "    - _Vấn đề 3_: giả sử giải quyết được 2 vấn đề trên thì thấy rằng tên thể loại vẫn chưa đồng nhất (VD: `genre` = *\"Blue's_Music\"* và `genre` = *\"blues\"*)\n",
    "    <br>=> Giải pháp: cần 1 file `keywords.txt` để lưu cứng tên của các thể loại nhạc sẽ xuất hiện trong chuỗi string `genre` (file này được lấy từ project 1 và được tinh chỉnh lại để phù hợp). Ta sẽ chuẩn hóa thể loại dựa vào file này: xét chuỗi thể loại (VD: `genre` = *\"Hip-hop & Rap\"*), nếu chuỗi thể loại này chứa bất kỳ chuỗi con trong `keywords.txt` (VD: *\"hiphop\"* và *\"rap\"*) thì thể loại sẽ được thay bằng (tập) chuỗi con ấy (VD: `genre` sau khi chuẩn hóa = *[\"hiphop\", \"rap\"]*)\n",
    "- Kết hợp cả 3 giải pháp trên, ta được cách xử lý sau: \n",
    "    - Cộng 2 cột 'playlist_name' & 'genre', nếu 'genre' là NaN thì coi như chuỗi rỗng, kết quả cộng chuỗi lưu vào `df_playlist['genre']`\n",
    "    - Chuẩn hóa `name_genre` theo giải pháp 3, kết quả sau khi chuẩn hóa là 1 list, lưu lại vào `name_genre`. Sau khi chuẩn hóa có thể vẫn tồn tại NaN nhưng ít hơn (NaN tồn tại là vì cột `playlist_name` không chứa thể loại nhạc nào nên không nội suy được + cột `genre` bị rỗng). Tiến hành bỏ đi các dòng chứa NaN này\n"
   ]
  },
  {
   "cell_type": "code",
   "execution_count": 35,
   "metadata": {},
   "outputs": [],
   "source": [
    "with open('data/keywords.txt', encoding= 'utf-8') as f:\n",
    "    keywords = f.readlines()\n",
    "keywords = [item.strip('\\n').strip(' ') for item in keywords]"
   ]
  },
  {
   "cell_type": "code",
   "execution_count": 36,
   "metadata": {},
   "outputs": [
    {
     "data": {
      "text/plain": [
       "0               Best Rap Right Now: Drippin'Hip-hop & Rap\n",
       "1                                         Hip Hop Supreme\n",
       "2                        Lowfi hip hop chillsLofi Hip Hop\n",
       "3            Hip-Hop Party Starters: Turn UpHip-hop & Rap\n",
       "4                         Study & Chill | Lofi HiphopLofi\n",
       "                              ...                        \n",
       "6772                                       Southeast Asia\n",
       "6773                                                   og\n",
       "6774                     Understanding Southeast AsiaAsia\n",
       "6775                                                 King\n",
       "6776    Thacity314... Hoodwi$e MidWe$t CityBoi & $outh...\n",
       "Length: 6711, dtype: object"
      ]
     },
     "execution_count": 36,
     "metadata": {},
     "output_type": "execute_result"
    }
   ],
   "source": [
    "# namegenre = playlist_name + playlist_genre\n",
    "name_genre = df_playlist.apply(lambda row: row['playlist_name'] if pd.isna(row['genre']) else row['playlist_name'] + row['genre'], axis = 1)\n",
    "name_genre"
   ]
  },
  {
   "cell_type": "code",
   "execution_count": 37,
   "metadata": {},
   "outputs": [
    {
     "data": {
      "text/html": [
       "<div>\n",
       "<style scoped>\n",
       "    .dataframe tbody tr th:only-of-type {\n",
       "        vertical-align: middle;\n",
       "    }\n",
       "\n",
       "    .dataframe tbody tr th {\n",
       "        vertical-align: top;\n",
       "    }\n",
       "\n",
       "    .dataframe thead th {\n",
       "        text-align: right;\n",
       "    }\n",
       "</style>\n",
       "<table border=\"1\" class=\"dataframe\">\n",
       "  <thead>\n",
       "    <tr style=\"text-align: right;\">\n",
       "      <th></th>\n",
       "      <th>playlist_id</th>\n",
       "      <th>playlist_name</th>\n",
       "      <th>genre</th>\n",
       "      <th>likes_count</th>\n",
       "      <th>reposts_count</th>\n",
       "      <th>track_ids</th>\n",
       "    </tr>\n",
       "  </thead>\n",
       "  <tbody>\n",
       "    <tr>\n",
       "      <th>0</th>\n",
       "      <td>730118454</td>\n",
       "      <td>Best Rap Right Now: Drippin'</td>\n",
       "      <td>[hiphop, rap]</td>\n",
       "      <td>389440</td>\n",
       "      <td>21590</td>\n",
       "      <td>1175290570,1163320396,1150594213,1126802848,11...</td>\n",
       "    </tr>\n",
       "    <tr>\n",
       "      <th>1</th>\n",
       "      <td>380154338</td>\n",
       "      <td>Hip Hop Supreme</td>\n",
       "      <td>[hiphop]</td>\n",
       "      <td>178872</td>\n",
       "      <td>9795</td>\n",
       "      <td>594112890,596212962,593601912,597082389,597563...</td>\n",
       "    </tr>\n",
       "    <tr>\n",
       "      <th>2</th>\n",
       "      <td>306226961</td>\n",
       "      <td>Lowfi hip hop chills</td>\n",
       "      <td>[hiphop, chill, lofi]</td>\n",
       "      <td>203955</td>\n",
       "      <td>20706</td>\n",
       "      <td>216774635,406234053,755194606,266707458,670884...</td>\n",
       "    </tr>\n",
       "    <tr>\n",
       "      <th>3</th>\n",
       "      <td>730129140</td>\n",
       "      <td>Hip-Hop Party Starters: Turn Up</td>\n",
       "      <td>[hiphop, rap]</td>\n",
       "      <td>106087</td>\n",
       "      <td>4498</td>\n",
       "      <td>1174777750,1118019910,1052667649,1099546222,11...</td>\n",
       "    </tr>\n",
       "    <tr>\n",
       "      <th>4</th>\n",
       "      <td>595582668</td>\n",
       "      <td>Study &amp; Chill | Lofi Hiphop</td>\n",
       "      <td>[hiphop, chill, lofi]</td>\n",
       "      <td>95519</td>\n",
       "      <td>5951</td>\n",
       "      <td>483466125,434763492,473421939,194708585,754271...</td>\n",
       "    </tr>\n",
       "    <tr>\n",
       "      <th>...</th>\n",
       "      <td>...</td>\n",
       "      <td>...</td>\n",
       "      <td>...</td>\n",
       "      <td>...</td>\n",
       "      <td>...</td>\n",
       "      <td>...</td>\n",
       "    </tr>\n",
       "    <tr>\n",
       "      <th>6767</th>\n",
       "      <td>263799012</td>\n",
       "      <td>Sampler - Brokenhearted Dragonflies - Insect E...</td>\n",
       "      <td>[electro, electronic, asia]</td>\n",
       "      <td>2</td>\n",
       "      <td>0</td>\n",
       "      <td>285573280</td>\n",
       "    </tr>\n",
       "    <tr>\n",
       "      <th>6769</th>\n",
       "      <td>590610360</td>\n",
       "      <td>South Asia</td>\n",
       "      <td>[asia]</td>\n",
       "      <td>1</td>\n",
       "      <td>0</td>\n",
       "      <td>214052731,278567119,421548432,269791621,421570...</td>\n",
       "    </tr>\n",
       "    <tr>\n",
       "      <th>6770</th>\n",
       "      <td>116685376</td>\n",
       "      <td>Folk SouthAsia</td>\n",
       "      <td>[folk, asia]</td>\n",
       "      <td>2</td>\n",
       "      <td>0</td>\n",
       "      <td>141149534,4960240,164014742,73049766,86319632,...</td>\n",
       "    </tr>\n",
       "    <tr>\n",
       "      <th>6772</th>\n",
       "      <td>874102157</td>\n",
       "      <td>Southeast Asia</td>\n",
       "      <td>[asia]</td>\n",
       "      <td>0</td>\n",
       "      <td>0</td>\n",
       "      <td>645192084,301217399,445266303,497328030,243885...</td>\n",
       "    </tr>\n",
       "    <tr>\n",
       "      <th>6774</th>\n",
       "      <td>161954207</td>\n",
       "      <td>Understanding Southeast Asia</td>\n",
       "      <td>[asia]</td>\n",
       "      <td>1</td>\n",
       "      <td>1</td>\n",
       "      <td>236643473,235582652,231384822,248514720</td>\n",
       "    </tr>\n",
       "  </tbody>\n",
       "</table>\n",
       "<p>5676 rows × 6 columns</p>\n",
       "</div>"
      ],
      "text/plain": [
       "      playlist_id                                      playlist_name  \\\n",
       "0       730118454                       Best Rap Right Now: Drippin'   \n",
       "1       380154338                                    Hip Hop Supreme   \n",
       "2       306226961                               Lowfi hip hop chills   \n",
       "3       730129140                    Hip-Hop Party Starters: Turn Up   \n",
       "4       595582668                        Study & Chill | Lofi Hiphop   \n",
       "...           ...                                                ...   \n",
       "6767    263799012  Sampler - Brokenhearted Dragonflies - Insect E...   \n",
       "6769    590610360                                         South Asia   \n",
       "6770    116685376                                     Folk SouthAsia   \n",
       "6772    874102157                                     Southeast Asia   \n",
       "6774    161954207                       Understanding Southeast Asia   \n",
       "\n",
       "                            genre  likes_count  reposts_count  \\\n",
       "0                   [hiphop, rap]       389440          21590   \n",
       "1                        [hiphop]       178872           9795   \n",
       "2           [hiphop, chill, lofi]       203955          20706   \n",
       "3                   [hiphop, rap]       106087           4498   \n",
       "4           [hiphop, chill, lofi]        95519           5951   \n",
       "...                           ...          ...            ...   \n",
       "6767  [electro, electronic, asia]            2              0   \n",
       "6769                       [asia]            1              0   \n",
       "6770                 [folk, asia]            2              0   \n",
       "6772                       [asia]            0              0   \n",
       "6774                       [asia]            1              1   \n",
       "\n",
       "                                              track_ids  \n",
       "0     1175290570,1163320396,1150594213,1126802848,11...  \n",
       "1     594112890,596212962,593601912,597082389,597563...  \n",
       "2     216774635,406234053,755194606,266707458,670884...  \n",
       "3     1174777750,1118019910,1052667649,1099546222,11...  \n",
       "4     483466125,434763492,473421939,194708585,754271...  \n",
       "...                                                 ...  \n",
       "6767                                          285573280  \n",
       "6769  214052731,278567119,421548432,269791621,421570...  \n",
       "6770  141149534,4960240,164014742,73049766,86319632,...  \n",
       "6772  645192084,301217399,445266303,497328030,243885...  \n",
       "6774            236643473,235582652,231384822,248514720  \n",
       "\n",
       "[5676 rows x 6 columns]"
      ]
     },
     "execution_count": 37,
     "metadata": {},
     "output_type": "execute_result"
    }
   ],
   "source": [
    "def list_genres(genre_str, keywords=keywords):\n",
    "    res = []\n",
    "\n",
    "    for keyword in keywords:\n",
    "        if keyword in genre_str:\n",
    "            res.append(keyword)\n",
    "\n",
    "    return res\n",
    "\n",
    "# UNBLOCK THIS LINE !!!!\n",
    "df_playlist['genre'] = name_genre.apply(lambda val: list_genres(re.sub(r'(hip-hop|hip hop)', 'hiphop', val.lower())))\n",
    "#-----------------------\n",
    "# print(\"Sau khi bỏ 513 giá trị NaN cột genre:\")\n",
    "# df_playlist = df_playlist.explode('genre').dropna()\n",
    "\n",
    "df_playlist = df_playlist.loc[df_playlist['genre'].astype(bool)] # loại các phần tử empty list ở cột genre\n",
    "df_playlist"
   ]
  },
  {
   "cell_type": "markdown",
   "metadata": {},
   "source": [
    "- Trong file `track.csv`, ta cũng đổi thể loại nhạc về thể loại nhạc được định nghĩa trong file keywords.txt "
   ]
  },
  {
   "cell_type": "code",
   "execution_count": 38,
   "metadata": {},
   "outputs": [
    {
     "data": {
      "text/html": [
       "<div>\n",
       "<style scoped>\n",
       "    .dataframe tbody tr th:only-of-type {\n",
       "        vertical-align: middle;\n",
       "    }\n",
       "\n",
       "    .dataframe tbody tr th {\n",
       "        vertical-align: top;\n",
       "    }\n",
       "\n",
       "    .dataframe thead th {\n",
       "        text-align: right;\n",
       "    }\n",
       "</style>\n",
       "<table border=\"1\" class=\"dataframe\">\n",
       "  <thead>\n",
       "    <tr style=\"text-align: right;\">\n",
       "      <th></th>\n",
       "      <th>track_id</th>\n",
       "      <th>track_name</th>\n",
       "      <th>track_genre</th>\n",
       "      <th>playlist_id</th>\n",
       "      <th>author_id</th>\n",
       "      <th>likes_count</th>\n",
       "      <th>playback_count</th>\n",
       "      <th>download_count</th>\n",
       "      <th>reposts_count</th>\n",
       "      <th>comment_count</th>\n",
       "      <th>created_date</th>\n",
       "    </tr>\n",
       "  </thead>\n",
       "  <tbody>\n",
       "    <tr>\n",
       "      <th>0</th>\n",
       "      <td>1157194048</td>\n",
       "      <td>Polo G - Bad Man (Smooth Criminal)</td>\n",
       "      <td>[hiphop]</td>\n",
       "      <td>730118454</td>\n",
       "      <td>454955073</td>\n",
       "      <td>104933.0</td>\n",
       "      <td>3656798.0</td>\n",
       "      <td>0.0</td>\n",
       "      <td>1484</td>\n",
       "      <td>2949.0</td>\n",
       "      <td>2021-11-10T00:16:07Z</td>\n",
       "    </tr>\n",
       "    <tr>\n",
       "      <th>1</th>\n",
       "      <td>1134572425</td>\n",
       "      <td>Who Want Smoke?? (feat. G Herbo, Lil Durk &amp; 21...</td>\n",
       "      <td>[hiphop]</td>\n",
       "      <td>730118454</td>\n",
       "      <td>811818505</td>\n",
       "      <td>229321.0</td>\n",
       "      <td>11713134.0</td>\n",
       "      <td>0.0</td>\n",
       "      <td>2994</td>\n",
       "      <td>7358.0</td>\n",
       "      <td>2021-10-01T21:15:32Z</td>\n",
       "    </tr>\n",
       "    <tr>\n",
       "      <th>2</th>\n",
       "      <td>1126802848</td>\n",
       "      <td>Rocc Climbing (feat. Lil Yachty)</td>\n",
       "      <td>[hiphop, rap]</td>\n",
       "      <td>730118454</td>\n",
       "      <td>277094000</td>\n",
       "      <td>191418.0</td>\n",
       "      <td>8635832.0</td>\n",
       "      <td>0.0</td>\n",
       "      <td>9338</td>\n",
       "      <td>3428.0</td>\n",
       "      <td>2021-09-18T08:16:48Z</td>\n",
       "    </tr>\n",
       "    <tr>\n",
       "      <th>3</th>\n",
       "      <td>1163320396</td>\n",
       "      <td>By Your Side</td>\n",
       "      <td>[rap]</td>\n",
       "      <td>730118454</td>\n",
       "      <td>29550459</td>\n",
       "      <td>84417.0</td>\n",
       "      <td>2861345.0</td>\n",
       "      <td>0.0</td>\n",
       "      <td>952</td>\n",
       "      <td>1064.0</td>\n",
       "      <td>2021-11-19T21:15:58Z</td>\n",
       "    </tr>\n",
       "    <tr>\n",
       "      <th>4</th>\n",
       "      <td>1150594213</td>\n",
       "      <td>Super Gremlin</td>\n",
       "      <td>[hiphop, rap]</td>\n",
       "      <td>730118454</td>\n",
       "      <td>72181005</td>\n",
       "      <td>180822.0</td>\n",
       "      <td>6808317.0</td>\n",
       "      <td>0.0</td>\n",
       "      <td>1826</td>\n",
       "      <td>2265.0</td>\n",
       "      <td>2021-10-30T03:48:49Z</td>\n",
       "    </tr>\n",
       "    <tr>\n",
       "      <th>...</th>\n",
       "      <td>...</td>\n",
       "      <td>...</td>\n",
       "      <td>...</td>\n",
       "      <td>...</td>\n",
       "      <td>...</td>\n",
       "      <td>...</td>\n",
       "      <td>...</td>\n",
       "      <td>...</td>\n",
       "      <td>...</td>\n",
       "      <td>...</td>\n",
       "      <td>...</td>\n",
       "    </tr>\n",
       "    <tr>\n",
       "      <th>46522</th>\n",
       "      <td>261051695</td>\n",
       "      <td>Banteay Srei - Citadel of the Women (1988)</td>\n",
       "      <td>[chamber]</td>\n",
       "      <td>233996745</td>\n",
       "      <td>218200669</td>\n",
       "      <td>1.0</td>\n",
       "      <td>299.0</td>\n",
       "      <td>0.0</td>\n",
       "      <td>0</td>\n",
       "      <td>0.0</td>\n",
       "      <td>2016-04-26T21:33:01Z</td>\n",
       "    </tr>\n",
       "    <tr>\n",
       "      <th>46529</th>\n",
       "      <td>152589690</td>\n",
       "      <td>Bob Marley - Jammin' (Kungs Remix)</td>\n",
       "      <td>[reggae]</td>\n",
       "      <td>212787729</td>\n",
       "      <td>54506965</td>\n",
       "      <td>183990.0</td>\n",
       "      <td>12199703.0</td>\n",
       "      <td>0.0</td>\n",
       "      <td>26231</td>\n",
       "      <td>1319.0</td>\n",
       "      <td>2014-06-03T10:31:50Z</td>\n",
       "    </tr>\n",
       "    <tr>\n",
       "      <th>46530</th>\n",
       "      <td>201306263</td>\n",
       "      <td>Deep Blues</td>\n",
       "      <td>[house]</td>\n",
       "      <td>212787729</td>\n",
       "      <td>1409319</td>\n",
       "      <td>582.0</td>\n",
       "      <td>30312.0</td>\n",
       "      <td>0.0</td>\n",
       "      <td>78</td>\n",
       "      <td>6.0</td>\n",
       "      <td>2015-04-17T21:10:11Z</td>\n",
       "    </tr>\n",
       "    <tr>\n",
       "      <th>46534</th>\n",
       "      <td>337861748</td>\n",
       "      <td>I Get the Bag (feat. Migos)</td>\n",
       "      <td>[hiphop, rap]</td>\n",
       "      <td>507929004</td>\n",
       "      <td>2982659</td>\n",
       "      <td>996226.0</td>\n",
       "      <td>86553052.0</td>\n",
       "      <td>0.0</td>\n",
       "      <td>43788</td>\n",
       "      <td>5483.0</td>\n",
       "      <td>2017-08-14T18:45:12Z</td>\n",
       "    </tr>\n",
       "    <tr>\n",
       "      <th>46538</th>\n",
       "      <td>298786858</td>\n",
       "      <td>OST - Age of Empires 2 - Rise of the Rajas - H...</td>\n",
       "      <td>[soundtrack]</td>\n",
       "      <td>503370612</td>\n",
       "      <td>77518190</td>\n",
       "      <td>22.0</td>\n",
       "      <td>1836.0</td>\n",
       "      <td>0.0</td>\n",
       "      <td>3</td>\n",
       "      <td>0.0</td>\n",
       "      <td>2016-12-20T10:11:02Z</td>\n",
       "    </tr>\n",
       "  </tbody>\n",
       "</table>\n",
       "<p>24114 rows × 11 columns</p>\n",
       "</div>"
      ],
      "text/plain": [
       "         track_id                                         track_name  \\\n",
       "0      1157194048                 Polo G - Bad Man (Smooth Criminal)   \n",
       "1      1134572425  Who Want Smoke?? (feat. G Herbo, Lil Durk & 21...   \n",
       "2      1126802848                   Rocc Climbing (feat. Lil Yachty)   \n",
       "3      1163320396                                       By Your Side   \n",
       "4      1150594213                                      Super Gremlin   \n",
       "...           ...                                                ...   \n",
       "46522   261051695         Banteay Srei - Citadel of the Women (1988)   \n",
       "46529   152589690                 Bob Marley - Jammin' (Kungs Remix)   \n",
       "46530   201306263                                         Deep Blues   \n",
       "46534   337861748                        I Get the Bag (feat. Migos)   \n",
       "46538   298786858  OST - Age of Empires 2 - Rise of the Rajas - H...   \n",
       "\n",
       "         track_genre  playlist_id  author_id  likes_count  playback_count  \\\n",
       "0           [hiphop]    730118454  454955073     104933.0       3656798.0   \n",
       "1           [hiphop]    730118454  811818505     229321.0      11713134.0   \n",
       "2      [hiphop, rap]    730118454  277094000     191418.0       8635832.0   \n",
       "3              [rap]    730118454   29550459      84417.0       2861345.0   \n",
       "4      [hiphop, rap]    730118454   72181005     180822.0       6808317.0   \n",
       "...              ...          ...        ...          ...             ...   \n",
       "46522      [chamber]    233996745  218200669          1.0           299.0   \n",
       "46529       [reggae]    212787729   54506965     183990.0      12199703.0   \n",
       "46530        [house]    212787729    1409319        582.0         30312.0   \n",
       "46534  [hiphop, rap]    507929004    2982659     996226.0      86553052.0   \n",
       "46538   [soundtrack]    503370612   77518190         22.0          1836.0   \n",
       "\n",
       "       download_count  reposts_count  comment_count          created_date  \n",
       "0                 0.0           1484         2949.0  2021-11-10T00:16:07Z  \n",
       "1                 0.0           2994         7358.0  2021-10-01T21:15:32Z  \n",
       "2                 0.0           9338         3428.0  2021-09-18T08:16:48Z  \n",
       "3                 0.0            952         1064.0  2021-11-19T21:15:58Z  \n",
       "4                 0.0           1826         2265.0  2021-10-30T03:48:49Z  \n",
       "...               ...            ...            ...                   ...  \n",
       "46522             0.0              0            0.0  2016-04-26T21:33:01Z  \n",
       "46529             0.0          26231         1319.0  2014-06-03T10:31:50Z  \n",
       "46530             0.0             78            6.0  2015-04-17T21:10:11Z  \n",
       "46534             0.0          43788         5483.0  2017-08-14T18:45:12Z  \n",
       "46538             0.0              3            0.0  2016-12-20T10:11:02Z  \n",
       "\n",
       "[24114 rows x 11 columns]"
      ]
     },
     "execution_count": 38,
     "metadata": {},
     "output_type": "execute_result"
    }
   ],
   "source": [
    "# redefine function\n",
    "def list_genres(genre_str, keywords=keywords):\n",
    "    res = []\n",
    "\n",
    "    for keyword in keywords:\n",
    "        if keyword in genre_str:\n",
    "            res.append(keyword)\n",
    "    # if not res:\n",
    "    #     res = genre_str.split('&')\n",
    "    return res\n",
    "\n",
    "df_track['track_genre'] = df_track['track_genre'].apply(lambda val: list_genres(re.sub(r'[\\-\\.\\/ ]', '', val.lower())))\n",
    "df_track = df_track.loc[df_track['track_genre'].astype(bool)]\n",
    "df_track\n",
    "# ----------------------\n",
    "# df_track = df_track.explode('track_genre')\n",
    "# df_track = df_track.drop(df_track[df_track['track_genre'] == ''].index)\n",
    "# df_track.head()"
   ]
  },
  {
   "cell_type": "markdown",
   "metadata": {},
   "source": [
    "### Chuyển đổi kiểu dữ liệu cho phù hợp\n"
   ]
  },
  {
   "cell_type": "markdown",
   "metadata": {},
   "source": [
    "- File `playlist.csv`: từ mô tả thuộc tính và kiểu dữ liệu của `track_ids`, thì cần đổi kiểu dữ liệu của thuộc tính `track_ids` từ **string** sang dạng **list các số nguyên**"
   ]
  },
  {
   "cell_type": "code",
   "execution_count": 39,
   "metadata": {},
   "outputs": [],
   "source": [
    "df_playlist['track_ids'] = df_playlist['track_ids'].apply(lambda x: [int(item) for item in x.split(',')])"
   ]
  },
  {
   "cell_type": "markdown",
   "metadata": {},
   "source": [
    "- File `track.csv`: \n",
    "    - Cần đổi kiểu dữ liệu của 2 cột `likes_count`, `playback_count`từ **float** sang **int**\n",
    "    - Cần đổi kiểu dữ liệu của `created_date` sang kiểu **datetime**"
   ]
  },
  {
   "cell_type": "code",
   "execution_count": 40,
   "metadata": {},
   "outputs": [],
   "source": [
    "df_track[['likes_count', 'playback_count', 'download_count', 'comment_count']] = df_track[['likes_count', 'playback_count', 'download_count', 'comment_count']].astype(int)\n",
    "df_track['created_date'] = pd.to_datetime(df_track['created_date'])\n",
    "# df_track[['likes_count', 'playback_count', 'download_count', 'created_date']].head()"
   ]
  },
  {
   "cell_type": "markdown",
   "metadata": {},
   "source": [
    "# II. KHÁM PHÁ DỮ LIỆU"
   ]
  },
  {
   "cell_type": "markdown",
   "metadata": {},
   "source": [
    "## 1. Thể loại phổ biến/được yêu thích/được nghe nhiều/được tương tác nhiều nhất trong năm 2020\n",
    "\n",
    "**Mục đích:** Trả lời được câu hỏi này giúp ta biết được xu hướng âm nhạc trong năm 2020.\n",
    "\n",
    "**Các bước thực hiện:**\n",
    "- Xác định các tracks được đăng vào năm 2020 (kết quả lưu vào `df_track_2020`)\n",
    "- Thống kê phần trăm số track, like, playback và comment của từng thể loại (kết quả lưu vào `df_track_genre_stat`)\n",
    " - Tỉ lệ số track của một thể loại là tỉ lệ so với tổng số track tìm được và ứng với độ phổ biến của thể loại đó\n",
    " - Tỉ lệ số like của một thể loại là tỉ lệ so với tổng số like của các track tìm được và ứng với độ yêu thích của thể loại đó\n",
    " - Tỉ lệ số lượt playback của một thể loại là tỉ lệ so với tổng số lượt playback của các track tìm được và ứng với số lượt nghe của thể loại đó\n",
    " - Tỉ lệ số comment của một thể loại là tỉ lệ so với tổng số comment của các track tìm được ứng với độ tương tác của người dùng với các track thuộc thể loại đó\n",
    "- Vẽ biểu đồ cột và nhận xét"
   ]
  },
  {
   "cell_type": "code",
   "execution_count": 42,
   "metadata": {},
   "outputs": [
    {
     "data": {
      "text/html": [
       "<div>\n",
       "<style scoped>\n",
       "    .dataframe tbody tr th:only-of-type {\n",
       "        vertical-align: middle;\n",
       "    }\n",
       "\n",
       "    .dataframe tbody tr th {\n",
       "        vertical-align: top;\n",
       "    }\n",
       "\n",
       "    .dataframe thead th {\n",
       "        text-align: right;\n",
       "    }\n",
       "</style>\n",
       "<table border=\"1\" class=\"dataframe\">\n",
       "  <thead>\n",
       "    <tr style=\"text-align: right;\">\n",
       "      <th></th>\n",
       "      <th>track_id</th>\n",
       "      <th>track_name</th>\n",
       "      <th>track_genre</th>\n",
       "      <th>playlist_id</th>\n",
       "      <th>author_id</th>\n",
       "      <th>likes_count</th>\n",
       "      <th>playback_count</th>\n",
       "      <th>download_count</th>\n",
       "      <th>reposts_count</th>\n",
       "      <th>comment_count</th>\n",
       "      <th>created_date</th>\n",
       "    </tr>\n",
       "  </thead>\n",
       "  <tbody>\n",
       "    <tr>\n",
       "      <th>32</th>\n",
       "      <td>755194606</td>\n",
       "      <td>take your time w/ Gavin Stacey</td>\n",
       "      <td>[chill]</td>\n",
       "      <td>306226961</td>\n",
       "      <td>173815195</td>\n",
       "      <td>352</td>\n",
       "      <td>60196</td>\n",
       "      <td>0</td>\n",
       "      <td>19</td>\n",
       "      <td>9</td>\n",
       "      <td>2020-02-05 00:15:08+00:00</td>\n",
       "    </tr>\n",
       "    <tr>\n",
       "      <th>39</th>\n",
       "      <td>869432971</td>\n",
       "      <td>my block</td>\n",
       "      <td>[hiphop, lofi]</td>\n",
       "      <td>306226961</td>\n",
       "      <td>173815195</td>\n",
       "      <td>180</td>\n",
       "      <td>19939</td>\n",
       "      <td>0</td>\n",
       "      <td>3</td>\n",
       "      <td>6</td>\n",
       "      <td>2020-08-03 15:19:31+00:00</td>\n",
       "    </tr>\n",
       "    <tr>\n",
       "      <th>112</th>\n",
       "      <td>870653725</td>\n",
       "      <td>Rags to Riches 2 (feat. Lil Baby)</td>\n",
       "      <td>[hiphop, rap]</td>\n",
       "      <td>740178957</td>\n",
       "      <td>29550459</td>\n",
       "      <td>274332</td>\n",
       "      <td>18337445</td>\n",
       "      <td>0</td>\n",
       "      <td>4478</td>\n",
       "      <td>14865</td>\n",
       "      <td>2020-08-05 15:54:16+00:00</td>\n",
       "    </tr>\n",
       "    <tr>\n",
       "      <th>113</th>\n",
       "      <td>899299963</td>\n",
       "      <td>Zelda's Lullaby</td>\n",
       "      <td>[hiphop, rap]</td>\n",
       "      <td>740178957</td>\n",
       "      <td>3610679</td>\n",
       "      <td>5765</td>\n",
       "      <td>334691</td>\n",
       "      <td>0</td>\n",
       "      <td>236</td>\n",
       "      <td>315</td>\n",
       "      <td>2020-09-25 08:35:54+00:00</td>\n",
       "    </tr>\n",
       "    <tr>\n",
       "      <th>114</th>\n",
       "      <td>773936224</td>\n",
       "      <td>Smoke N Fuck</td>\n",
       "      <td>[hiphop, rap]</td>\n",
       "      <td>740178957</td>\n",
       "      <td>53644751</td>\n",
       "      <td>7215</td>\n",
       "      <td>356840</td>\n",
       "      <td>0</td>\n",
       "      <td>150</td>\n",
       "      <td>187</td>\n",
       "      <td>2020-03-10 21:14:01+00:00</td>\n",
       "    </tr>\n",
       "  </tbody>\n",
       "</table>\n",
       "</div>"
      ],
      "text/plain": [
       "      track_id                         track_name     track_genre  \\\n",
       "32   755194606     take your time w/ Gavin Stacey         [chill]   \n",
       "39   869432971                           my block  [hiphop, lofi]   \n",
       "112  870653725  Rags to Riches 2 (feat. Lil Baby)   [hiphop, rap]   \n",
       "113  899299963                    Zelda's Lullaby   [hiphop, rap]   \n",
       "114  773936224                       Smoke N Fuck   [hiphop, rap]   \n",
       "\n",
       "     playlist_id  author_id  likes_count  playback_count  download_count  \\\n",
       "32     306226961  173815195          352           60196               0   \n",
       "39     306226961  173815195          180           19939               0   \n",
       "112    740178957   29550459       274332        18337445               0   \n",
       "113    740178957    3610679         5765          334691               0   \n",
       "114    740178957   53644751         7215          356840               0   \n",
       "\n",
       "     reposts_count  comment_count              created_date  \n",
       "32              19              9 2020-02-05 00:15:08+00:00  \n",
       "39               3              6 2020-08-03 15:19:31+00:00  \n",
       "112           4478          14865 2020-08-05 15:54:16+00:00  \n",
       "113            236            315 2020-09-25 08:35:54+00:00  \n",
       "114            150            187 2020-03-10 21:14:01+00:00  "
      ]
     },
     "execution_count": 42,
     "metadata": {},
     "output_type": "execute_result"
    }
   ],
   "source": [
    "def is_created_in_2020(track):\n",
    "    return track['created_date'].year == 2020\n",
    "\n",
    "df_track_2020 = df_track.loc[df_track.apply(is_created_in_2020, axis = 1)]\n",
    "df_track_2020.head()"
   ]
  },
  {
   "cell_type": "markdown",
   "metadata": {},
   "source": [
    "### Bước 1: Xác định các track được đăng vào năm 2020"
   ]
  },
  {
   "cell_type": "code",
   "execution_count": 44,
   "metadata": {},
   "outputs": [
    {
     "data": {
      "text/html": [
       "<div>\n",
       "<style scoped>\n",
       "    .dataframe tbody tr th:only-of-type {\n",
       "        vertical-align: middle;\n",
       "    }\n",
       "\n",
       "    .dataframe tbody tr th {\n",
       "        vertical-align: top;\n",
       "    }\n",
       "\n",
       "    .dataframe thead th {\n",
       "        text-align: right;\n",
       "    }\n",
       "</style>\n",
       "<table border=\"1\" class=\"dataframe\">\n",
       "  <thead>\n",
       "    <tr style=\"text-align: right;\">\n",
       "      <th></th>\n",
       "      <th>track_id</th>\n",
       "      <th>track_name</th>\n",
       "      <th>track_genre</th>\n",
       "      <th>playlist_id</th>\n",
       "      <th>author_id</th>\n",
       "      <th>likes_count</th>\n",
       "      <th>playback_count</th>\n",
       "      <th>download_count</th>\n",
       "      <th>reposts_count</th>\n",
       "      <th>comment_count</th>\n",
       "      <th>created_date</th>\n",
       "    </tr>\n",
       "  </thead>\n",
       "  <tbody>\n",
       "    <tr>\n",
       "      <th>0</th>\n",
       "      <td>1157194048</td>\n",
       "      <td>Polo G - Bad Man (Smooth Criminal)</td>\n",
       "      <td>hiphop</td>\n",
       "      <td>730118454</td>\n",
       "      <td>454955073</td>\n",
       "      <td>104933</td>\n",
       "      <td>3656798</td>\n",
       "      <td>0</td>\n",
       "      <td>1484</td>\n",
       "      <td>2949</td>\n",
       "      <td>2021-11-10 00:16:07+00:00</td>\n",
       "    </tr>\n",
       "    <tr>\n",
       "      <th>1</th>\n",
       "      <td>1134572425</td>\n",
       "      <td>Who Want Smoke?? (feat. G Herbo, Lil Durk &amp; 21...</td>\n",
       "      <td>hiphop</td>\n",
       "      <td>730118454</td>\n",
       "      <td>811818505</td>\n",
       "      <td>229321</td>\n",
       "      <td>11713134</td>\n",
       "      <td>0</td>\n",
       "      <td>2994</td>\n",
       "      <td>7358</td>\n",
       "      <td>2021-10-01 21:15:32+00:00</td>\n",
       "    </tr>\n",
       "    <tr>\n",
       "      <th>2</th>\n",
       "      <td>1126802848</td>\n",
       "      <td>Rocc Climbing (feat. Lil Yachty)</td>\n",
       "      <td>hiphop</td>\n",
       "      <td>730118454</td>\n",
       "      <td>277094000</td>\n",
       "      <td>191418</td>\n",
       "      <td>8635832</td>\n",
       "      <td>0</td>\n",
       "      <td>9338</td>\n",
       "      <td>3428</td>\n",
       "      <td>2021-09-18 08:16:48+00:00</td>\n",
       "    </tr>\n",
       "    <tr>\n",
       "      <th>2</th>\n",
       "      <td>1126802848</td>\n",
       "      <td>Rocc Climbing (feat. Lil Yachty)</td>\n",
       "      <td>rap</td>\n",
       "      <td>730118454</td>\n",
       "      <td>277094000</td>\n",
       "      <td>191418</td>\n",
       "      <td>8635832</td>\n",
       "      <td>0</td>\n",
       "      <td>9338</td>\n",
       "      <td>3428</td>\n",
       "      <td>2021-09-18 08:16:48+00:00</td>\n",
       "    </tr>\n",
       "    <tr>\n",
       "      <th>3</th>\n",
       "      <td>1163320396</td>\n",
       "      <td>By Your Side</td>\n",
       "      <td>rap</td>\n",
       "      <td>730118454</td>\n",
       "      <td>29550459</td>\n",
       "      <td>84417</td>\n",
       "      <td>2861345</td>\n",
       "      <td>0</td>\n",
       "      <td>952</td>\n",
       "      <td>1064</td>\n",
       "      <td>2021-11-19 21:15:58+00:00</td>\n",
       "    </tr>\n",
       "  </tbody>\n",
       "</table>\n",
       "</div>"
      ],
      "text/plain": [
       "     track_id                                         track_name track_genre  \\\n",
       "0  1157194048                 Polo G - Bad Man (Smooth Criminal)      hiphop   \n",
       "1  1134572425  Who Want Smoke?? (feat. G Herbo, Lil Durk & 21...      hiphop   \n",
       "2  1126802848                   Rocc Climbing (feat. Lil Yachty)      hiphop   \n",
       "2  1126802848                   Rocc Climbing (feat. Lil Yachty)         rap   \n",
       "3  1163320396                                       By Your Side         rap   \n",
       "\n",
       "   playlist_id  author_id  likes_count  playback_count  download_count  \\\n",
       "0    730118454  454955073       104933         3656798               0   \n",
       "1    730118454  811818505       229321        11713134               0   \n",
       "2    730118454  277094000       191418         8635832               0   \n",
       "2    730118454  277094000       191418         8635832               0   \n",
       "3    730118454   29550459        84417         2861345               0   \n",
       "\n",
       "   reposts_count  comment_count              created_date  \n",
       "0           1484           2949 2021-11-10 00:16:07+00:00  \n",
       "1           2994           7358 2021-10-01 21:15:32+00:00  \n",
       "2           9338           3428 2021-09-18 08:16:48+00:00  \n",
       "2           9338           3428 2021-09-18 08:16:48+00:00  \n",
       "3            952           1064 2021-11-19 21:15:58+00:00  "
      ]
     },
     "execution_count": 44,
     "metadata": {},
     "output_type": "execute_result"
    }
   ],
   "source": [
    "def is_created_in_2020(track):\n",
    "    return track['created_date'].year == 2020\n",
    "\n",
    "df_track_2020 = df_track.loc[df_track.apply(is_created_in_2020, axis = 1)]\n",
    "df_track_2020 = df_track.explode('track_genre')\n",
    "df_track_2020.head()"
   ]
  },
  {
   "cell_type": "markdown",
   "metadata": {},
   "source": [
    "### Bước 2: Thống kê phần trăm số track, like, playback và comment của từng thể loại"
   ]
  },
  {
   "cell_type": "code",
   "execution_count": 45,
   "metadata": {
    "scrolled": true
   },
   "outputs": [
    {
     "data": {
      "text/html": [
       "<div>\n",
       "<style scoped>\n",
       "    .dataframe tbody tr th:only-of-type {\n",
       "        vertical-align: middle;\n",
       "    }\n",
       "\n",
       "    .dataframe tbody tr th {\n",
       "        vertical-align: top;\n",
       "    }\n",
       "\n",
       "    .dataframe thead th {\n",
       "        text-align: right;\n",
       "    }\n",
       "</style>\n",
       "<table border=\"1\" class=\"dataframe\">\n",
       "  <thead>\n",
       "    <tr style=\"text-align: right;\">\n",
       "      <th></th>\n",
       "      <th>tracks_percentage</th>\n",
       "      <th>likes_percentage</th>\n",
       "      <th>playback_percentage</th>\n",
       "      <th>comment_percentage</th>\n",
       "    </tr>\n",
       "  </thead>\n",
       "  <tbody>\n",
       "    <tr>\n",
       "      <th>hiphop</th>\n",
       "      <td>10.269533</td>\n",
       "      <td>65.877658</td>\n",
       "      <td>73.421690</td>\n",
       "      <td>69.414805</td>\n",
       "    </tr>\n",
       "    <tr>\n",
       "      <th>chill</th>\n",
       "      <td>1.038163</td>\n",
       "      <td>0.727581</td>\n",
       "      <td>0.704230</td>\n",
       "      <td>0.732572</td>\n",
       "    </tr>\n",
       "    <tr>\n",
       "      <th>anime</th>\n",
       "      <td>0.623873</td>\n",
       "      <td>0.203463</td>\n",
       "      <td>0.348943</td>\n",
       "      <td>0.501305</td>\n",
       "    </tr>\n",
       "    <tr>\n",
       "      <th>blue</th>\n",
       "      <td>1.832627</td>\n",
       "      <td>0.442466</td>\n",
       "      <td>0.414822</td>\n",
       "      <td>0.225840</td>\n",
       "    </tr>\n",
       "    <tr>\n",
       "      <th>children</th>\n",
       "      <td>0.731101</td>\n",
       "      <td>0.007920</td>\n",
       "      <td>0.007214</td>\n",
       "      <td>0.177815</td>\n",
       "    </tr>\n",
       "  </tbody>\n",
       "</table>\n",
       "</div>"
      ],
      "text/plain": [
       "          tracks_percentage  likes_percentage  playback_percentage  \\\n",
       "hiphop            10.269533         65.877658            73.421690   \n",
       "chill              1.038163          0.727581             0.704230   \n",
       "anime              0.623873          0.203463             0.348943   \n",
       "blue               1.832627          0.442466             0.414822   \n",
       "children           0.731101          0.007920             0.007214   \n",
       "\n",
       "          comment_percentage  \n",
       "hiphop             69.414805  \n",
       "chill               0.732572  \n",
       "anime               0.501305  \n",
       "blue                0.225840  \n",
       "children            0.177815  "
      ]
     },
     "execution_count": 45,
     "metadata": {},
     "output_type": "execute_result"
    }
   ],
   "source": [
    "total_tracks_count = len(df_track_2020['track_id'].unique())\n",
    "tracks_count = df_track_2020['track_genre'].value_counts()\n",
    "tracks_percentage = tracks_count.apply(lambda x: x * 100.0 / total_tracks_count)\n",
    "tracks_percentage = tracks_percentage.radd(pd.Series(dict(zip(keywords, [0 for keyword in keywords]))), fill_value = 0)\n",
    "\n",
    "total_likes_count = df_track_2020.groupby(['track_id'])['likes_count'].max().sum()\n",
    "likes_count = df_track_2020.groupby(['track_genre'])['likes_count'].sum()\n",
    "likes_percentage = likes_count.apply(lambda x: x * 100.0 / total_likes_count)\n",
    "likes_percentage = likes_percentage.radd(pd.Series(dict(zip(keywords, [0 for keyword in keywords]))), fill_value = 0)\n",
    "\n",
    "total_playback_count = df_track_2020.groupby(['track_id'])['playback_count'].max().sum()\n",
    "playback_count = df_track_2020.groupby(['track_genre'])['playback_count'].sum()\n",
    "playback_percentage = playback_count.apply(lambda x: x * 100.0 / total_playback_count)\n",
    "playback_percentage = playback_percentage.radd(pd.Series(dict(zip(keywords, [0 for keyword in keywords]))), fill_value = 0)\n",
    "\n",
    "total_comment_count = df_track_2020.groupby(['track_id'])['comment_count'].max().sum()\n",
    "comment_count  = df_track_2020.groupby(['track_genre'])['comment_count'].sum()\n",
    "comment_percentage = comment_count.apply(lambda x: x * 100.0 / total_comment_count)\n",
    "comment_percentage = comment_percentage.radd(pd.Series(dict(zip(keywords, [0 for keyword in keywords]))), fill_value = 0)\n",
    "\n",
    "df_track_genre_stat = pd.DataFrame([pd.Series({'tracks_percentage':tracks_percentage[genre], 'likes_percentage':likes_percentage[genre], 'playback_percentage':playback_percentage[genre], 'comment_percentage':comment_percentage[genre]}) for genre in keywords], index = keywords)\n",
    "df_track_genre_stat.head()"
   ]
  },
  {
   "cell_type": "markdown",
   "metadata": {},
   "source": [
    "### Bước 3: Vẽ biểu đồ và nhận xét"
   ]
  },
  {
   "cell_type": "code",
   "execution_count": 46,
   "metadata": {},
   "outputs": [
    {
     "data": {
      "text/plain": [
       "<BarContainer object of 50 artists>"
      ]
     },
     "execution_count": 46,
     "metadata": {},
     "output_type": "execute_result"
    },
    {
     "data": {
      "image/png": "[encoded data removed]",
      "text/plain": [
       "<Figure size 1728x1728 with 4 Axes>"
      ]
     },
     "metadata": {
      "needs_background": "light"
     },
     "output_type": "display_data"
    }
   ],
   "source": [
    "fig, axs = plt.subplots(2, 2, figsize = (24, 24))\n",
    "\n",
    "df_track_genre_stat = df_track_genre_stat.sort_values('tracks_percentage', ascending = False)\n",
    "axs[0, 0].set_title('Tracks percentage of each genre')\n",
    "axs[0, 0].set(xlabel = 'Tracks percentage', ylabel = 'Genre')\n",
    "axs[0, 0].invert_yaxis()\n",
    "axs[0, 0].barh(df_track_genre_stat.index, df_track_genre_stat['tracks_percentage'])\n",
    "\n",
    "df_track_genre_stat = df_track_genre_stat.sort_values('likes_percentage', ascending = False)\n",
    "axs[0, 1].set_title('Likes percentage of each genre')\n",
    "axs[0, 1].set(xlabel = 'Likes percentage', ylabel = 'Genre')\n",
    "axs[0, 1].invert_yaxis()\n",
    "axs[0, 1].barh(df_track_genre_stat.index, df_track_genre_stat['likes_percentage'])\n",
    "\n",
    "df_track_genre_stat = df_track_genre_stat.sort_values('playback_percentage', ascending = False)\n",
    "axs[1, 0].set_title('Playback percentage of each genre')\n",
    "axs[1, 0].set(xlabel = 'Playback percentage', ylabel = 'Genre')\n",
    "axs[1, 0].invert_yaxis()\n",
    "axs[1, 0].barh(df_track_genre_stat.index, df_track_genre_stat['playback_percentage'])\n",
    "\n",
    "df_track_genre_stat = df_track_genre_stat.sort_values('comment_percentage', ascending = False)\n",
    "axs[1, 1].set_title('Comment percentage of each genre')\n",
    "axs[1, 1].set(xlabel = 'Comment percentage', ylabel = 'Genre')\n",
    "axs[1, 1].invert_yaxis()\n",
    "axs[1, 1].barh(df_track_genre_stat.index, df_track_genre_stat['comment_percentage'])"
   ]
  },
  {
   "cell_type": "markdown",
   "metadata": {},
   "source": [
    "**Kết quả:** \n",
    "\n",
    "Top 3 thể loại nhạc phổ biến năm 2020: \n",
    "1. Hiphop\n",
    "2. Dance\n",
    "3. Rap\n",
    " \n",
    "Top 3 thể loại nhạc được yêu thích nhiều nhất năm 2020: \n",
    "1. Hiphop\n",
    "2. Rap\n",
    "3. Electronic\n",
    "\n",
    "Top 3 thể loại nhạc được nghe nhiều nhất năm 2020\n",
    "1. Hiphop\n",
    "2. Rap\n",
    "3. Reggae\n",
    "\n",
    "Top 3 thể loại nhạc có nhiều tương tác nhất năm 2020\n",
    "1. Hiphop\n",
    "2. Rap\n",
    "3. Dance\n",
    "\n",
    "**Kết luận:** Nhạc hiphop là thể loại nhạc được ưa chuộng nhiều nhất vào năm 2020."
   ]
  },
  {
   "cell_type": "markdown",
   "metadata": {},
   "source": [
    "## 2. Thể loại phổ biến nhất tại khu vực châu Âu\n",
    "\n",
    "**Mục đích:** Trả lời được câu hỏi này giúp ta biết được xu hướng âm nhạc tại châu Âu.\n",
    "\n",
    "**Các bước thực hiện:**\n",
    "- Xác định các track từ châu Âu (kết quả lưu vào `df_track_europe`)\n",
    "- Thống kê phần trăm số track thuộc mỗi thể loại so với tổng số track tìm được, tỉ lệ này ứng với độ phổ biến của mỗi thể loại (kết quả lưu vào `tracks_percentage`)\n",
    "- Vẽ biểu đồ cột và nhận xét"
   ]
  },
  {
   "cell_type": "markdown",
   "metadata": {},
   "source": [
    "**Tiền xử lý thêm:** Thêm thuộc tính `country_code` vào từng track của `df_track` (`country_code` được lấy từ tác giả tương ứng của track) "
   ]
  },
  {
   "cell_type": "code",
   "execution_count": 47,
   "metadata": {},
   "outputs": [
    {
     "data": {
      "text/html": [
       "<div>\n",
       "<style scoped>\n",
       "    .dataframe tbody tr th:only-of-type {\n",
       "        vertical-align: middle;\n",
       "    }\n",
       "\n",
       "    .dataframe tbody tr th {\n",
       "        vertical-align: top;\n",
       "    }\n",
       "\n",
       "    .dataframe thead th {\n",
       "        text-align: right;\n",
       "    }\n",
       "</style>\n",
       "<table border=\"1\" class=\"dataframe\">\n",
       "  <thead>\n",
       "    <tr style=\"text-align: right;\">\n",
       "      <th></th>\n",
       "      <th>track_id</th>\n",
       "      <th>track_name</th>\n",
       "      <th>track_genre</th>\n",
       "      <th>playlist_id</th>\n",
       "      <th>author_id</th>\n",
       "      <th>likes_count</th>\n",
       "      <th>playback_count</th>\n",
       "      <th>download_count</th>\n",
       "      <th>reposts_count</th>\n",
       "      <th>comment_count</th>\n",
       "      <th>created_date</th>\n",
       "      <th>country_code</th>\n",
       "    </tr>\n",
       "  </thead>\n",
       "  <tbody>\n",
       "    <tr>\n",
       "      <th>0</th>\n",
       "      <td>1157194048</td>\n",
       "      <td>Polo G - Bad Man (Smooth Criminal)</td>\n",
       "      <td>[hiphop]</td>\n",
       "      <td>730118454</td>\n",
       "      <td>454955073</td>\n",
       "      <td>104933</td>\n",
       "      <td>3656798</td>\n",
       "      <td>0</td>\n",
       "      <td>1484</td>\n",
       "      <td>2949</td>\n",
       "      <td>2021-11-10 00:16:07+00:00</td>\n",
       "      <td>US</td>\n",
       "    </tr>\n",
       "    <tr>\n",
       "      <th>1</th>\n",
       "      <td>1134572425</td>\n",
       "      <td>Who Want Smoke?? (feat. G Herbo, Lil Durk &amp; 21...</td>\n",
       "      <td>[hiphop]</td>\n",
       "      <td>730118454</td>\n",
       "      <td>811818505</td>\n",
       "      <td>229321</td>\n",
       "      <td>11713134</td>\n",
       "      <td>0</td>\n",
       "      <td>2994</td>\n",
       "      <td>7358</td>\n",
       "      <td>2021-10-01 21:15:32+00:00</td>\n",
       "      <td>US</td>\n",
       "    </tr>\n",
       "    <tr>\n",
       "      <th>2</th>\n",
       "      <td>1126802848</td>\n",
       "      <td>Rocc Climbing (feat. Lil Yachty)</td>\n",
       "      <td>[hiphop, rap]</td>\n",
       "      <td>730118454</td>\n",
       "      <td>277094000</td>\n",
       "      <td>191418</td>\n",
       "      <td>8635832</td>\n",
       "      <td>0</td>\n",
       "      <td>9338</td>\n",
       "      <td>3428</td>\n",
       "      <td>2021-09-18 08:16:48+00:00</td>\n",
       "      <td>US</td>\n",
       "    </tr>\n",
       "    <tr>\n",
       "      <th>3</th>\n",
       "      <td>1163320396</td>\n",
       "      <td>By Your Side</td>\n",
       "      <td>[rap]</td>\n",
       "      <td>730118454</td>\n",
       "      <td>29550459</td>\n",
       "      <td>84417</td>\n",
       "      <td>2861345</td>\n",
       "      <td>0</td>\n",
       "      <td>952</td>\n",
       "      <td>1064</td>\n",
       "      <td>2021-11-19 21:15:58+00:00</td>\n",
       "      <td>NaN</td>\n",
       "    </tr>\n",
       "    <tr>\n",
       "      <th>4</th>\n",
       "      <td>1150594213</td>\n",
       "      <td>Super Gremlin</td>\n",
       "      <td>[hiphop, rap]</td>\n",
       "      <td>730118454</td>\n",
       "      <td>72181005</td>\n",
       "      <td>180822</td>\n",
       "      <td>6808317</td>\n",
       "      <td>0</td>\n",
       "      <td>1826</td>\n",
       "      <td>2265</td>\n",
       "      <td>2021-10-30 03:48:49+00:00</td>\n",
       "      <td>NaN</td>\n",
       "    </tr>\n",
       "  </tbody>\n",
       "</table>\n",
       "</div>"
      ],
      "text/plain": [
       "     track_id                                         track_name  \\\n",
       "0  1157194048                 Polo G - Bad Man (Smooth Criminal)   \n",
       "1  1134572425  Who Want Smoke?? (feat. G Herbo, Lil Durk & 21...   \n",
       "2  1126802848                   Rocc Climbing (feat. Lil Yachty)   \n",
       "3  1163320396                                       By Your Side   \n",
       "4  1150594213                                      Super Gremlin   \n",
       "\n",
       "     track_genre  playlist_id  author_id  likes_count  playback_count  \\\n",
       "0       [hiphop]    730118454  454955073       104933         3656798   \n",
       "1       [hiphop]    730118454  811818505       229321        11713134   \n",
       "2  [hiphop, rap]    730118454  277094000       191418         8635832   \n",
       "3          [rap]    730118454   29550459        84417         2861345   \n",
       "4  [hiphop, rap]    730118454   72181005       180822         6808317   \n",
       "\n",
       "   download_count  reposts_count  comment_count              created_date  \\\n",
       "0               0           1484           2949 2021-11-10 00:16:07+00:00   \n",
       "1               0           2994           7358 2021-10-01 21:15:32+00:00   \n",
       "2               0           9338           3428 2021-09-18 08:16:48+00:00   \n",
       "3               0            952           1064 2021-11-19 21:15:58+00:00   \n",
       "4               0           1826           2265 2021-10-30 03:48:49+00:00   \n",
       "\n",
       "  country_code  \n",
       "0           US  \n",
       "1           US  \n",
       "2           US  \n",
       "3          NaN  \n",
       "4          NaN  "
      ]
     },
     "execution_count": 47,
     "metadata": {},
     "output_type": "execute_result"
    }
   ],
   "source": [
    "def country_code(track):\n",
    "    user = df_user[df_user['user_id'] == track['author_id']]\n",
    "    if len(user) == 0:\n",
    "        return np.nan\n",
    "    return user.iloc[0]['country_code']\n",
    "\n",
    "df_track['country_code'] = df_track.apply(country_code, axis = 1)\n",
    "df_track.head()"
   ]
  },
  {
   "cell_type": "markdown",
   "metadata": {},
   "source": [
    "### Bước 1: Xác định các track từ châu Âu\n",
    "\n",
    "Danh sách mã Alpha-2 các nước châu Âu: https://abbreviations.yourdictionary.com/articles/list-of-europe-country-codes.html"
   ]
  },
  {
   "cell_type": "code",
   "execution_count": 50,
   "metadata": {},
   "outputs": [
    {
     "data": {
      "text/html": [
       "<div>\n",
       "<style scoped>\n",
       "    .dataframe tbody tr th:only-of-type {\n",
       "        vertical-align: middle;\n",
       "    }\n",
       "\n",
       "    .dataframe tbody tr th {\n",
       "        vertical-align: top;\n",
       "    }\n",
       "\n",
       "    .dataframe thead th {\n",
       "        text-align: right;\n",
       "    }\n",
       "</style>\n",
       "<table border=\"1\" class=\"dataframe\">\n",
       "  <thead>\n",
       "    <tr style=\"text-align: right;\">\n",
       "      <th></th>\n",
       "      <th>track_id</th>\n",
       "      <th>track_name</th>\n",
       "      <th>track_genre</th>\n",
       "      <th>playlist_id</th>\n",
       "      <th>author_id</th>\n",
       "      <th>likes_count</th>\n",
       "      <th>playback_count</th>\n",
       "      <th>download_count</th>\n",
       "      <th>reposts_count</th>\n",
       "      <th>comment_count</th>\n",
       "      <th>created_date</th>\n",
       "      <th>country_code</th>\n",
       "    </tr>\n",
       "  </thead>\n",
       "  <tbody>\n",
       "    <tr>\n",
       "      <th>35</th>\n",
       "      <td>636296325</td>\n",
       "      <td>Paths</td>\n",
       "      <td>jazz</td>\n",
       "      <td>306226961</td>\n",
       "      <td>47192613</td>\n",
       "      <td>422</td>\n",
       "      <td>80472</td>\n",
       "      <td>0</td>\n",
       "      <td>12</td>\n",
       "      <td>9</td>\n",
       "      <td>2019-06-13 21:59:16+00:00</td>\n",
       "      <td>NO</td>\n",
       "    </tr>\n",
       "    <tr>\n",
       "      <th>36</th>\n",
       "      <td>593821473</td>\n",
       "      <td>Flowering</td>\n",
       "      <td>lofi</td>\n",
       "      <td>306226961</td>\n",
       "      <td>47192613</td>\n",
       "      <td>451</td>\n",
       "      <td>78548</td>\n",
       "      <td>0</td>\n",
       "      <td>9</td>\n",
       "      <td>4</td>\n",
       "      <td>2019-03-21 23:02:34+00:00</td>\n",
       "      <td>NO</td>\n",
       "    </tr>\n",
       "    <tr>\n",
       "      <th>38</th>\n",
       "      <td>593822025</td>\n",
       "      <td>Adolescence</td>\n",
       "      <td>lofi</td>\n",
       "      <td>306226961</td>\n",
       "      <td>47192613</td>\n",
       "      <td>223</td>\n",
       "      <td>63022</td>\n",
       "      <td>0</td>\n",
       "      <td>3</td>\n",
       "      <td>1</td>\n",
       "      <td>2019-03-21 23:03:34+00:00</td>\n",
       "      <td>NO</td>\n",
       "    </tr>\n",
       "    <tr>\n",
       "      <th>62</th>\n",
       "      <td>473421939</td>\n",
       "      <td>last light</td>\n",
       "      <td>lofi</td>\n",
       "      <td>595582668</td>\n",
       "      <td>232053386</td>\n",
       "      <td>10655</td>\n",
       "      <td>1455669</td>\n",
       "      <td>1000</td>\n",
       "      <td>277</td>\n",
       "      <td>219</td>\n",
       "      <td>2018-07-18 16:42:43+00:00</td>\n",
       "      <td>FR</td>\n",
       "    </tr>\n",
       "    <tr>\n",
       "      <th>69</th>\n",
       "      <td>453244743</td>\n",
       "      <td>What's Your Name</td>\n",
       "      <td>chill</td>\n",
       "      <td>595582668</td>\n",
       "      <td>308816878</td>\n",
       "      <td>5776</td>\n",
       "      <td>1137473</td>\n",
       "      <td>0</td>\n",
       "      <td>135</td>\n",
       "      <td>106</td>\n",
       "      <td>2018-06-03 19:35:50+00:00</td>\n",
       "      <td>GB</td>\n",
       "    </tr>\n",
       "  </tbody>\n",
       "</table>\n",
       "</div>"
      ],
      "text/plain": [
       "     track_id        track_name track_genre  playlist_id  author_id  \\\n",
       "35  636296325             Paths        jazz    306226961   47192613   \n",
       "36  593821473         Flowering        lofi    306226961   47192613   \n",
       "38  593822025       Adolescence        lofi    306226961   47192613   \n",
       "62  473421939        last light        lofi    595582668  232053386   \n",
       "69  453244743  What's Your Name       chill    595582668  308816878   \n",
       "\n",
       "    likes_count  playback_count  download_count  reposts_count  comment_count  \\\n",
       "35          422           80472               0             12              9   \n",
       "36          451           78548               0              9              4   \n",
       "38          223           63022               0              3              1   \n",
       "62        10655         1455669            1000            277            219   \n",
       "69         5776         1137473               0            135            106   \n",
       "\n",
       "                created_date country_code  \n",
       "35 2019-06-13 21:59:16+00:00           NO  \n",
       "36 2019-03-21 23:02:34+00:00           NO  \n",
       "38 2019-03-21 23:03:34+00:00           NO  \n",
       "62 2018-07-18 16:42:43+00:00           FR  \n",
       "69 2018-06-03 19:35:50+00:00           GB  "
      ]
     },
     "execution_count": 50,
     "metadata": {},
     "output_type": "execute_result"
    }
   ],
   "source": [
    "europe_country_codes = [\n",
    "    # EU\n",
    "    'AT', 'BE', 'BG', 'HR', 'CY', 'CZ', 'DK', 'EE', 'FI', 'FR', \n",
    "    'DE', 'GR', 'HU', 'IE', 'IT', 'LV', 'LT', 'LU', 'MT', 'NL',\n",
    "    'PL', 'RO', 'SK', 'SI', 'ES', 'SE', \n",
    "    \n",
    "    # Non-EU\n",
    "    'AL', 'AD', 'AM', 'BY', 'BA', 'FO', 'GE', 'GI', 'IS', 'IM',\n",
    "    'XK', 'LI', 'MK', 'MD', 'MC', 'ME', 'NO', 'RU', 'SM', 'RS',\n",
    "    'CH', 'TR', 'UA', 'GB', 'VA'\n",
    "]\n",
    "\n",
    "df_track_europe = df_track[df_track['country_code'].isin(europe_country_codes)].explode('track_genre')\n",
    "df_track_europe.head()"
   ]
  },
  {
   "cell_type": "markdown",
   "metadata": {},
   "source": [
    "### Bước 2: Tính phần trăm số track thuộc mỗi thể loại"
   ]
  },
  {
   "cell_type": "code",
   "execution_count": 51,
   "metadata": {},
   "outputs": [],
   "source": [
    "total_tracks_count = len(df_track_europe['track_id'].unique())\n",
    "tracks_count = df_track_europe['track_genre'].value_counts()\n",
    "tracks_percentage = tracks_count.apply(lambda x: x * 100.0 / total_tracks_count)\n",
    "tracks_percentage = tracks_percentage.radd(pd.Series(dict(zip(keywords, [0 for keyword in keywords]))), fill_value = 0)"
   ]
  },
  {
   "cell_type": "markdown",
   "metadata": {},
   "source": [
    "### Bước 3: Vẽ biểu đồ và nhận xét"
   ]
  },
  {
   "cell_type": "code",
   "execution_count": 52,
   "metadata": {},
   "outputs": [
    {
     "data": {
      "text/plain": [
       "<BarContainer object of 50 artists>"
      ]
     },
     "execution_count": 52,
     "metadata": {},
     "output_type": "execute_result"
    },
    {
     "data": {
      "image/png": "[encoded data removed]",
      "text/plain": [
       "<Figure size 1080x720 with 1 Axes>"
      ]
     },
     "metadata": {
      "needs_background": "light"
     },
     "output_type": "display_data"
    }
   ],
   "source": [
    "plt.figure(figsize = (15, 10))\n",
    "\n",
    "plt.title(\"Tracks percentage of each genre\")\n",
    "plt.ylabel(\"Genre\")\n",
    "plt.xlabel(\"Tracks percentage\")\n",
    "tracks_percentage = tracks_percentage.sort_values(ascending = True)\n",
    "plt.barh(tracks_percentage.index, tracks_percentage)"
   ]
  },
  {
   "cell_type": "markdown",
   "metadata": {},
   "source": [
    "**Kết quả:** \n",
    "\n",
    "Top 3 thể loại phổ biến nhất châu Âu:\n",
    "1. House\n",
    "2. Electro\n",
    "3. Dance\n",
    "\n",
    "**Kết luận:** Thể loại House là thể loại nhạc phổ biến nhất châu Âu."
   ]
  },
  {
   "cell_type": "markdown",
   "metadata": {},
   "source": [
    "## 3. Xét 1 playlist, có mối tương quan nào giữa số lượt thích (`likes_count`) và số lượt chia sẻ (`reposts_count`)? "
   ]
  },
  {
   "cell_type": "markdown",
   "metadata": {},
   "source": [
    "- Mục đích: Nếu chúng tương quan dương (cùng tăng - đó là điều ta mong muốn) thì ở 1 số trường hợp, nhiều likes đồng nghĩa với nhiều lượt chia sẻ, như vậy đoạn track đó sẽ được quảng bá tới nhiều người hơn trên SoundCloud \n",
    "- Bộ dữ liệu: playlist.csv\n",
    "- Các bước thực hiện:\n",
    "    - Vẽ biểu đồ scatter trực quan hóa mối quan hệ giữa số lượt thích và số lượt chia sẻ\n",
    "    - Tính toán ma trận tương quan (correlation matrix)"
   ]
  },
  {
   "cell_type": "markdown",
   "metadata": {},
   "source": [
    "### Bước 1: Vẽ biểu đồ scatter trực quan hóa mối quan hệ giữa số lượt thích và số lượt chia sẻ"
   ]
  },
  {
   "cell_type": "code",
   "execution_count": 58,
   "metadata": {},
   "outputs": [
    {
     "data": {
      "image/png": "[encoded data removed]",
      "text/plain": [
       "<Figure size 720x504 with 1 Axes>"
      ]
     },
     "metadata": {
      "needs_background": "light"
     },
     "output_type": "display_data"
    }
   ],
   "source": [
    "plt.figure(figsize=(10,7))\n",
    "plt.grid()\n",
    "plt.scatter(df_playlist['likes_count'], df_playlist['reposts_count'], edgecolors='black')\n",
    "plt.xlabel('Số lượt thích (likes_count)') \n",
    "plt.ylabel('Số lượt chia sẻ (reposts_count)');\n",
    "plt.title('Mối tương quan giữa số lượt thích (likes_count) và số lượt chia sẻ (reposts_count)');\n",
    "# plt.axvline(np.mean(df_playlist['likes_count']), color='r', linestyle='--') # lượt like TB"
   ]
  },
  {
   "cell_type": "markdown",
   "metadata": {},
   "source": [
    "- Nhận xét: Từ quan sát đồ thị tương quan phía dưới, thấy rằng mối quan hệ giữa `số lượt thích` (biến ngẫu nhiên A) và `số lượt chia sẻ` (biến ngẫu nhiên B) gần như là 1 đường tuyến tính. A và B tỷ lệ thuận, tuy nhiên mối quan hệ chỉ thực sự mạnh khi A và B dưới 200.000, còn A và B bắt đầu trên 200.000 thì các điểm dữ liệu thưa thớt dần chứng tỏ mối tương quan càng yếu dần, nghĩa là A và B ngày càng không liên quan tới nhau khi 1 trong 2 biến đạt ít nhất 200.000. Hoặc đơn giản là từ 200.000 trở đi xuất hiện các outliers"
   ]
  },
  {
   "cell_type": "markdown",
   "metadata": {},
   "source": [
    "### Bước 2: Lập ma trận tương quan\n",
    "- Để thể hiện sự tương quan giữa A và B bằng 1 con số, ta dùng ma trận tương quan `Pearson correlation matrix`, thấy rằng độ tương quan là ~0.9348"
   ]
  },
  {
   "cell_type": "code",
   "execution_count": null,
   "metadata": {},
   "outputs": [
    {
     "data": {
      "text/html": [
       "<div>\n",
       "<style scoped>\n",
       "    .dataframe tbody tr th:only-of-type {\n",
       "        vertical-align: middle;\n",
       "    }\n",
       "\n",
       "    .dataframe tbody tr th {\n",
       "        vertical-align: top;\n",
       "    }\n",
       "\n",
       "    .dataframe thead th {\n",
       "        text-align: right;\n",
       "    }\n",
       "</style>\n",
       "<table border=\"1\" class=\"dataframe\">\n",
       "  <thead>\n",
       "    <tr style=\"text-align: right;\">\n",
       "      <th></th>\n",
       "      <th>likes_count</th>\n",
       "      <th>reposts_count</th>\n",
       "    </tr>\n",
       "  </thead>\n",
       "  <tbody>\n",
       "    <tr>\n",
       "      <th>likes_count</th>\n",
       "      <td>1.000000</td>\n",
       "      <td>0.934814</td>\n",
       "    </tr>\n",
       "    <tr>\n",
       "      <th>reposts_count</th>\n",
       "      <td>0.934814</td>\n",
       "      <td>1.000000</td>\n",
       "    </tr>\n",
       "  </tbody>\n",
       "</table>\n",
       "</div>"
      ],
      "text/plain": [
       "               likes_count  reposts_count\n",
       "likes_count       1.000000       0.934814\n",
       "reposts_count     0.934814       1.000000"
      ]
     },
     "execution_count": 17,
     "metadata": {},
     "output_type": "execute_result"
    }
   ],
   "source": [
    "likes_reposts = df_playlist[['likes_count', 'reposts_count']]\n",
    "likes_reposts.corr(method = 'pearson')"
   ]
  },
  {
   "cell_type": "markdown",
   "metadata": {},
   "source": [
    "- Tuy nhiên, con số ~0.9348 chưa thực sự chính xác vì tương quan Pearson giả định 2 thuộc tính có phân phối chuẩn, trong khi phân phối của thuộc tính `likes_count` không đảm bảo điều đó. "
   ]
  },
  {
   "cell_type": "code",
   "execution_count": null,
   "metadata": {},
   "outputs": [
    {
     "data": {
      "text/plain": [
       "Text(0.5, 1.0, 'Phân phối của likes_count')"
      ]
     },
     "execution_count": 18,
     "metadata": {},
     "output_type": "execute_result"
    },
    {
     "data": {
      "image/png": "[encoded data removed]",
      "text/plain": [
       "<Figure size 432x288 with 1 Axes>"
      ]
     },
     "metadata": {
      "needs_background": "light"
     },
     "output_type": "display_data"
    }
   ],
   "source": [
    "a = plt.hist(df_playlist['likes_count'], range= (0,600), edgecolor='black')\n",
    "plt.xticks(a[1])\n",
    "plt.xlabel('Số lượt thích (likes_count)')\n",
    "plt.ylabel('Số playlist')\n",
    "plt.title('Phân phối của likes_count')"
   ]
  },
  {
   "cell_type": "markdown",
   "metadata": {},
   "source": [
    "- Vì vậy, ta chuyển qua dùng tương quan Spearman, thấy rằng mối tương quan giảm còn ~0.72."
   ]
  },
  {
   "cell_type": "code",
   "execution_count": null,
   "metadata": {},
   "outputs": [
    {
     "data": {
      "text/html": [
       "<div>\n",
       "<style scoped>\n",
       "    .dataframe tbody tr th:only-of-type {\n",
       "        vertical-align: middle;\n",
       "    }\n",
       "\n",
       "    .dataframe tbody tr th {\n",
       "        vertical-align: top;\n",
       "    }\n",
       "\n",
       "    .dataframe thead th {\n",
       "        text-align: right;\n",
       "    }\n",
       "</style>\n",
       "<table border=\"1\" class=\"dataframe\">\n",
       "  <thead>\n",
       "    <tr style=\"text-align: right;\">\n",
       "      <th></th>\n",
       "      <th>likes_count</th>\n",
       "      <th>reposts_count</th>\n",
       "    </tr>\n",
       "  </thead>\n",
       "  <tbody>\n",
       "    <tr>\n",
       "      <th>likes_count</th>\n",
       "      <td>1.000000</td>\n",
       "      <td>0.721119</td>\n",
       "    </tr>\n",
       "    <tr>\n",
       "      <th>reposts_count</th>\n",
       "      <td>0.721119</td>\n",
       "      <td>1.000000</td>\n",
       "    </tr>\n",
       "  </tbody>\n",
       "</table>\n",
       "</div>"
      ],
      "text/plain": [
       "               likes_count  reposts_count\n",
       "likes_count       1.000000       0.721119\n",
       "reposts_count     0.721119       1.000000"
      ]
     },
     "execution_count": 19,
     "metadata": {},
     "output_type": "execute_result"
    }
   ],
   "source": [
    "likes_reposts.corr(method = 'spearman')"
   ]
  },
  {
   "cell_type": "code",
   "execution_count": null,
   "metadata": {},
   "outputs": [],
   "source": []
  },
  {
   "cell_type": "code",
   "execution_count": 95,
   "metadata": {},
   "outputs": [
    {
     "data": {
      "text/plain": [
       "(0.0, 1.0)"
      ]
     },
     "execution_count": 95,
     "metadata": {},
     "output_type": "execute_result"
    }
   ],
   "source": [
    "###\n",
    "a = df_playlist[['likes_count', 'reposts_count']]\n",
    "q1,q3 = a['likes_count'].quantile([0.25, 0.75])\n",
    "q0 = q1 - 1.5*(q3-q1)\n",
    "q4 = q3 + 1.5*(q3-q1)\n",
    "q0, q4\n",
    "a = a.loc[(q0 <= a['likes_count']) & (a['likes_count'] <= q4)]\n",
    "\n",
    "q1,q3 = a['reposts_count'].quantile([0.25, 0.75])\n",
    "q0 = q1 - 1.5*(q3-q1)\n",
    "q4 = q3 + 1.5*(q3-q1)\n",
    "q1,q3"
   ]
  },
  {
   "cell_type": "markdown",
   "metadata": {},
   "source": [
    "## 4. Tương quan giữa likes_count và reposts_count của 1 track\n",
    "- Câu hỏi quan tâm: "
   ]
  },
  {
   "cell_type": "code",
   "execution_count": null,
   "metadata": {},
   "outputs": [
    {
     "data": {
      "text/plain": [
       "Text(0, 0.5, 'Số lượt tái chia sẻ (reposts_count)')"
      ]
     },
     "execution_count": 20,
     "metadata": {},
     "output_type": "execute_result"
    },
    {
     "data": {
      "image/png": "[encoded data removed]",
      "text/plain": [
       "<Figure size 720x504 with 1 Axes>"
      ]
     },
     "metadata": {
      "needs_background": "light"
     },
     "output_type": "display_data"
    }
   ],
   "source": [
    "plt.figure(figsize=(10,7))\n",
    "plt.grid()\n",
    "plt.scatter(df_track['likes_count'], df_track['reposts_count'], edgecolors='black')\n",
    "plt.xlabel('Số lượt thích (likes_count)')\n",
    "plt.ylabel('Số lượt tái chia sẻ (reposts_count)')"
   ]
  },
  {
   "cell_type": "code",
   "execution_count": null,
   "metadata": {},
   "outputs": [
    {
     "data": {
      "text/html": [
       "<div>\n",
       "<style scoped>\n",
       "    .dataframe tbody tr th:only-of-type {\n",
       "        vertical-align: middle;\n",
       "    }\n",
       "\n",
       "    .dataframe tbody tr th {\n",
       "        vertical-align: top;\n",
       "    }\n",
       "\n",
       "    .dataframe thead th {\n",
       "        text-align: right;\n",
       "    }\n",
       "</style>\n",
       "<table border=\"1\" class=\"dataframe\">\n",
       "  <thead>\n",
       "    <tr style=\"text-align: right;\">\n",
       "      <th></th>\n",
       "      <th>likes_count</th>\n",
       "      <th>reposts_count</th>\n",
       "    </tr>\n",
       "  </thead>\n",
       "  <tbody>\n",
       "    <tr>\n",
       "      <th>likes_count</th>\n",
       "      <td>1.000000</td>\n",
       "      <td>0.962842</td>\n",
       "    </tr>\n",
       "    <tr>\n",
       "      <th>reposts_count</th>\n",
       "      <td>0.962842</td>\n",
       "      <td>1.000000</td>\n",
       "    </tr>\n",
       "  </tbody>\n",
       "</table>\n",
       "</div>"
      ],
      "text/plain": [
       "               likes_count  reposts_count\n",
       "likes_count       1.000000       0.962842\n",
       "reposts_count     0.962842       1.000000"
      ]
     },
     "execution_count": 21,
     "metadata": {},
     "output_type": "execute_result"
    }
   ],
   "source": [
    "likes_reposts = df_track[['likes_count', 'reposts_count']]\n",
    "likes_reposts.corr(method = 'spearman')"
   ]
  },
  {
   "cell_type": "markdown",
   "metadata": {},
   "source": [
    "## Tương quan giữa followers_count & track_count của 1 verified user\n",
    "- **Câu hỏi quan tâm**: Liệu ra nhiều track có đồng nghĩa nhiều người theo dõi hơn để từ đó có thể các user đăng tải nhiều track hơn?\n",
    "- Từ quan sát đồ thị, dễ thấy rằng không có sự tương quan nào giữa số người theo dõi và số track"
   ]
  },
  {
   "cell_type": "code",
   "execution_count": null,
   "metadata": {},
   "outputs": [
    {
     "data": {
      "text/plain": [
       "Text(0, 0.5, 'Số lượng track (track_count)')"
      ]
     },
     "execution_count": 22,
     "metadata": {},
     "output_type": "execute_result"
    },
    {
     "data": {
      "image/png": "[encoded data removed]",
      "text/plain": [
       "<Figure size 864x504 with 1 Axes>"
      ]
     },
     "metadata": {
      "needs_background": "light"
     },
     "output_type": "display_data"
    }
   ],
   "source": [
    "verified_users = df_user[df_user['verified'] == True]\n",
    "verified_users\n",
    "\n",
    "plt.figure(figsize=(12,7))\n",
    "plt.grid()\n",
    "plt.scatter(verified_users['followers_count'], verified_users['track_count'], edgecolors='black')\n",
    "plt.xlabel('Số lượng người theo dõi (followers_count)')\n",
    "plt.ylabel('Số lượng track (track_count)')"
   ]
  },
  {
   "cell_type": "markdown",
   "metadata": {},
   "source": [
    "## Mối tương quan giữa likes_count, playback_count, download_count, reposts_count, comment_count"
   ]
  },
  {
   "cell_type": "code",
   "execution_count": null,
   "metadata": {},
   "outputs": [
    {
     "data": {
      "text/html": [
       "<div>\n",
       "<style scoped>\n",
       "    .dataframe tbody tr th:only-of-type {\n",
       "        vertical-align: middle;\n",
       "    }\n",
       "\n",
       "    .dataframe tbody tr th {\n",
       "        vertical-align: top;\n",
       "    }\n",
       "\n",
       "    .dataframe thead th {\n",
       "        text-align: right;\n",
       "    }\n",
       "</style>\n",
       "<table border=\"1\" class=\"dataframe\">\n",
       "  <thead>\n",
       "    <tr style=\"text-align: right;\">\n",
       "      <th></th>\n",
       "      <th>likes_count</th>\n",
       "      <th>playback_count</th>\n",
       "      <th>download_count</th>\n",
       "      <th>reposts_count</th>\n",
       "      <th>comment_count</th>\n",
       "    </tr>\n",
       "  </thead>\n",
       "  <tbody>\n",
       "    <tr>\n",
       "      <th>0</th>\n",
       "      <td>104933</td>\n",
       "      <td>3656798</td>\n",
       "      <td>0</td>\n",
       "      <td>1484</td>\n",
       "      <td>2949</td>\n",
       "    </tr>\n",
       "    <tr>\n",
       "      <th>1</th>\n",
       "      <td>229321</td>\n",
       "      <td>11713134</td>\n",
       "      <td>0</td>\n",
       "      <td>2994</td>\n",
       "      <td>7358</td>\n",
       "    </tr>\n",
       "    <tr>\n",
       "      <th>2</th>\n",
       "      <td>191418</td>\n",
       "      <td>8635832</td>\n",
       "      <td>0</td>\n",
       "      <td>9338</td>\n",
       "      <td>3428</td>\n",
       "    </tr>\n",
       "    <tr>\n",
       "      <th>3</th>\n",
       "      <td>84417</td>\n",
       "      <td>2861345</td>\n",
       "      <td>0</td>\n",
       "      <td>952</td>\n",
       "      <td>1064</td>\n",
       "    </tr>\n",
       "    <tr>\n",
       "      <th>4</th>\n",
       "      <td>180822</td>\n",
       "      <td>6808317</td>\n",
       "      <td>0</td>\n",
       "      <td>1826</td>\n",
       "      <td>2265</td>\n",
       "    </tr>\n",
       "    <tr>\n",
       "      <th>...</th>\n",
       "      <td>...</td>\n",
       "      <td>...</td>\n",
       "      <td>...</td>\n",
       "      <td>...</td>\n",
       "      <td>...</td>\n",
       "    </tr>\n",
       "    <tr>\n",
       "      <th>46522</th>\n",
       "      <td>1</td>\n",
       "      <td>299</td>\n",
       "      <td>0</td>\n",
       "      <td>0</td>\n",
       "      <td>0</td>\n",
       "    </tr>\n",
       "    <tr>\n",
       "      <th>46529</th>\n",
       "      <td>183990</td>\n",
       "      <td>12199703</td>\n",
       "      <td>0</td>\n",
       "      <td>26231</td>\n",
       "      <td>1319</td>\n",
       "    </tr>\n",
       "    <tr>\n",
       "      <th>46530</th>\n",
       "      <td>582</td>\n",
       "      <td>30312</td>\n",
       "      <td>0</td>\n",
       "      <td>78</td>\n",
       "      <td>6</td>\n",
       "    </tr>\n",
       "    <tr>\n",
       "      <th>46534</th>\n",
       "      <td>996226</td>\n",
       "      <td>86553052</td>\n",
       "      <td>0</td>\n",
       "      <td>43788</td>\n",
       "      <td>5483</td>\n",
       "    </tr>\n",
       "    <tr>\n",
       "      <th>46538</th>\n",
       "      <td>22</td>\n",
       "      <td>1836</td>\n",
       "      <td>0</td>\n",
       "      <td>3</td>\n",
       "      <td>0</td>\n",
       "    </tr>\n",
       "  </tbody>\n",
       "</table>\n",
       "<p>24114 rows × 5 columns</p>\n",
       "</div>"
      ],
      "text/plain": [
       "       likes_count  playback_count  download_count  reposts_count  \\\n",
       "0           104933         3656798               0           1484   \n",
       "1           229321        11713134               0           2994   \n",
       "2           191418         8635832               0           9338   \n",
       "3            84417         2861345               0            952   \n",
       "4           180822         6808317               0           1826   \n",
       "...            ...             ...             ...            ...   \n",
       "46522            1             299               0              0   \n",
       "46529       183990        12199703               0          26231   \n",
       "46530          582           30312               0             78   \n",
       "46534       996226        86553052               0          43788   \n",
       "46538           22            1836               0              3   \n",
       "\n",
       "       comment_count  \n",
       "0               2949  \n",
       "1               7358  \n",
       "2               3428  \n",
       "3               1064  \n",
       "4               2265  \n",
       "...              ...  \n",
       "46522              0  \n",
       "46529           1319  \n",
       "46530              6  \n",
       "46534           5483  \n",
       "46538              0  \n",
       "\n",
       "[24114 rows x 5 columns]"
      ]
     },
     "execution_count": 23,
     "metadata": {},
     "output_type": "execute_result"
    }
   ],
   "source": [
    "df = df_track[['likes_count','playback_count','download_count','reposts_count','comment_count']]\n",
    "df"
   ]
  },
  {
   "cell_type": "code",
   "execution_count": null,
   "metadata": {},
   "outputs": [
    {
     "data": {
      "text/plain": [
       "[Text(0.5, 0, 'likes_count'),\n",
       " Text(1.5, 0, 'playback_count'),\n",
       " Text(2.5, 0, 'download_count'),\n",
       " Text(3.5, 0, 'reposts_count'),\n",
       " Text(4.5, 0, 'comment_count')]"
      ]
     },
     "execution_count": 24,
     "metadata": {},
     "output_type": "execute_result"
    },
    {
     "data": {
      "image/png": "[encoded data removed]",
      "text/plain": [
       "<Figure size 432x288 with 2 Axes>"
      ]
     },
     "metadata": {
      "needs_background": "light"
     },
     "output_type": "display_data"
    }
   ],
   "source": [
    "corr = df.corr(method='spearman')\n",
    "g = sns.heatmap(corr, annot=True)\n",
    "g.set_xticklabels(g.get_xticklabels(), rotation=30)"
   ]
  },
  {
   "cell_type": "markdown",
   "metadata": {},
   "source": [
    "- Các biến này có độc lập với nhau không?"
   ]
  },
  {
   "cell_type": "code",
   "execution_count": null,
   "metadata": {},
   "outputs": [],
   "source": []
  },
  {
   "cell_type": "markdown",
   "metadata": {},
   "source": [
    "## Tần suất ra track (số track/năm) có phụ thuộc (tỉ lệ thuận/nghịch) vào likes_count, playback_count, comment_count\n",
    "- phụ thuộc: (in)dependent variable?"
   ]
  },
  {
   "cell_type": "code",
   "execution_count": null,
   "metadata": {},
   "outputs": [
    {
     "name": "stderr",
     "output_type": "stream",
     "text": [
      "C:\\Users\\Admin\\AppData\\Local\\Temp/ipykernel_265280/2270554566.py:3: SettingWithCopyWarning: \n",
      "A value is trying to be set on a copy of a slice from a DataFrame.\n",
      "Try using .loc[row_indexer,col_indexer] = value instead\n",
      "\n",
      "See the caveats in the documentation: https://pandas.pydata.org/pandas-docs/stable/user_guide/indexing.html#returning-a-view-versus-a-copy\n",
      "  df['track_id'] = df['track_id'].astype(object)\n"
     ]
    }
   ],
   "source": [
    "# tính cột tần suất\n",
    "df = df_track[['author_id', 'track_id', 'created_date']]\n",
    "df['track_id'] = df['track_id'].astype(object)\n",
    "a = df_user.set_index('user_id').join(df.set_index('author_id'), on='user_id', how='inner')\n",
    "a = a.loc[a['created_date'].dt.year == 2014]"
   ]
  },
  {
   "cell_type": "code",
   "execution_count": null,
   "metadata": {},
   "outputs": [
    {
     "data": {
      "text/html": [
       "<div>\n",
       "<style scoped>\n",
       "    .dataframe tbody tr th:only-of-type {\n",
       "        vertical-align: middle;\n",
       "    }\n",
       "\n",
       "    .dataframe tbody tr th {\n",
       "        vertical-align: top;\n",
       "    }\n",
       "\n",
       "    .dataframe thead th {\n",
       "        text-align: right;\n",
       "    }\n",
       "</style>\n",
       "<table border=\"1\" class=\"dataframe\">\n",
       "  <thead>\n",
       "    <tr style=\"text-align: right;\">\n",
       "      <th></th>\n",
       "      <th>track_count</th>\n",
       "      <th>date</th>\n",
       "    </tr>\n",
       "    <tr>\n",
       "      <th>user_id</th>\n",
       "      <th></th>\n",
       "      <th></th>\n",
       "    </tr>\n",
       "  </thead>\n",
       "  <tbody>\n",
       "    <tr>\n",
       "      <th>175766</th>\n",
       "      <td>113</td>\n",
       "      <td>[2014-10-27 10:22:24+00:00, 2014-10-15 07:19:1...</td>\n",
       "    </tr>\n",
       "    <tr>\n",
       "      <th>17478538</th>\n",
       "      <td>32</td>\n",
       "      <td>[2014-10-04 17:32:20+00:00, 2014-09-30 06:08:0...</td>\n",
       "    </tr>\n",
       "    <tr>\n",
       "      <th>58502729</th>\n",
       "      <td>29</td>\n",
       "      <td>[2014-01-16 16:07:18+00:00, 2014-09-04 13:39:2...</td>\n",
       "    </tr>\n",
       "    <tr>\n",
       "      <th>1701116</th>\n",
       "      <td>29</td>\n",
       "      <td>[2014-02-12 02:24:19+00:00, 2014-03-30 18:26:2...</td>\n",
       "    </tr>\n",
       "    <tr>\n",
       "      <th>2185042</th>\n",
       "      <td>27</td>\n",
       "      <td>[2014-03-20 20:16:44+00:00, 2014-03-20 20:16:4...</td>\n",
       "    </tr>\n",
       "    <tr>\n",
       "      <th>...</th>\n",
       "      <td>...</td>\n",
       "      <td>...</td>\n",
       "    </tr>\n",
       "    <tr>\n",
       "      <th>8881740</th>\n",
       "      <td>1</td>\n",
       "      <td>2014-04-30 14:16:11+00:00</td>\n",
       "    </tr>\n",
       "    <tr>\n",
       "      <th>8594451</th>\n",
       "      <td>1</td>\n",
       "      <td>2014-07-25 14:00:17+00:00</td>\n",
       "    </tr>\n",
       "    <tr>\n",
       "      <th>8539027</th>\n",
       "      <td>1</td>\n",
       "      <td>2014-01-05 21:24:59+00:00</td>\n",
       "    </tr>\n",
       "    <tr>\n",
       "      <th>8476543</th>\n",
       "      <td>1</td>\n",
       "      <td>2014-08-14 12:05:46+00:00</td>\n",
       "    </tr>\n",
       "    <tr>\n",
       "      <th>129823083</th>\n",
       "      <td>1</td>\n",
       "      <td>2014-12-26 22:19:39+00:00</td>\n",
       "    </tr>\n",
       "  </tbody>\n",
       "</table>\n",
       "<p>1559 rows × 2 columns</p>\n",
       "</div>"
      ],
      "text/plain": [
       "           track_count                                               date\n",
       "user_id                                                                  \n",
       "175766             113  [2014-10-27 10:22:24+00:00, 2014-10-15 07:19:1...\n",
       "17478538            32  [2014-10-04 17:32:20+00:00, 2014-09-30 06:08:0...\n",
       "58502729            29  [2014-01-16 16:07:18+00:00, 2014-09-04 13:39:2...\n",
       "1701116             29  [2014-02-12 02:24:19+00:00, 2014-03-30 18:26:2...\n",
       "2185042             27  [2014-03-20 20:16:44+00:00, 2014-03-20 20:16:4...\n",
       "...                ...                                                ...\n",
       "8881740              1                          2014-04-30 14:16:11+00:00\n",
       "8594451              1                          2014-07-25 14:00:17+00:00\n",
       "8539027              1                          2014-01-05 21:24:59+00:00\n",
       "8476543              1                          2014-08-14 12:05:46+00:00\n",
       "129823083            1                          2014-12-26 22:19:39+00:00\n",
       "\n",
       "[1559 rows x 2 columns]"
      ]
     },
     "execution_count": 26,
     "metadata": {},
     "output_type": "execute_result"
    }
   ],
   "source": [
    "tmp = a.groupby(a.index)[['track_id', 'created_date']]\n",
    "tmp.agg(track_count = ('track_id','count'),\n",
    "        date = ('created_date', lambda x: x)).sort_values(by='track_count', ascending=False)\n",
    "# tmp.first()"
   ]
  },
  {
   "cell_type": "code",
   "execution_count": null,
   "metadata": {},
   "outputs": [],
   "source": []
  }
 ],
 "metadata": {
  "interpreter": {
   "hash": "dcacb0086e9a4f4eabd41c33bf4faac5ea0a3337ed3f5eff0680afa930572c04"
  },
  "kernelspec": {
   "display_name": "Python 3.9.6 64-bit",
   "language": "python",
   "name": "python3"
  },
  "language_info": {
   "codemirror_mode": {
    "name": "ipython",
    "version": 3
   },
   "file_extension": ".py",
   "mimetype": "text/x-python",
   "name": "python",
   "nbconvert_exporter": "python",
   "pygments_lexer": "ipython3",
   "version": "3.9.6"
  },
  "orig_nbformat": 4
 },
 "nbformat": 4,
 "nbformat_minor": 2
}
